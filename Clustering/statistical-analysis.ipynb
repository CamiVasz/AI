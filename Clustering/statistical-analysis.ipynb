{
 "cells": [
  {
   "cell_type": "markdown",
   "metadata": {},
   "source": [
    "# Statistical analysis\n",
    "For machine learning. _María Camila Vásquez Correa_"
   ]
  },
  {
   "cell_type": "markdown",
   "metadata": {},
   "source": [
    "### Necessary packages"
   ]
  },
  {
   "cell_type": "code",
<<<<<<< HEAD
   "execution_count": 1,
=======
   "execution_count": 2,
>>>>>>> 53fab046ca4e10b2801ac5b20a739cf10886cc91
   "metadata": {},
   "outputs": [],
   "source": [
    "import numpy as np\n",
    "import itertools\n",
    "import pandas as pd\n",
    "from sklearn.datasets import load_iris\n",
    "from scipy.stats import shapiro,normaltest,kurtosis,pearsonr,kendalltau,zscore,chi2_contingency, ttest_ind, spearmanr, f_oneway, ttest_rel\n",
    "from statsmodels.tsa.stattools import adfuller, kpss\n",
    "import warnings\n",
    "warnings.simplefilter('ignore')"
   ]
  },
  {
   "cell_type": "markdown",
   "metadata": {},
   "source": [
    "## Preprocessing"
   ]
  },
  {
   "cell_type": "code",
<<<<<<< HEAD
   "execution_count": 2,
=======
   "execution_count": 13,
>>>>>>> 53fab046ca4e10b2801ac5b20a739cf10886cc91
   "metadata": {},
   "outputs": [
    {
     "data": {
      "text/plain": [
       "False"
      ]
     },
<<<<<<< HEAD
     "execution_count": 2,
=======
     "execution_count": 13,
>>>>>>> 53fab046ca4e10b2801ac5b20a739cf10886cc91
     "metadata": {},
     "output_type": "execute_result"
    }
   ],
   "source": [
    "# Toy Data loading\n",
    "iris = load_iris().data\n",
    "iris = pd.DataFrame(iris)\n",
    "N = 4\n",
    "n_samples = 150\n",
    "# Missing values\n",
    "iris.isna().any().any()"
   ]
  },
  {
   "cell_type": "code",
<<<<<<< HEAD
   "execution_count": 3,
=======
   "execution_count": 14,
>>>>>>> 53fab046ca4e10b2801ac5b20a739cf10886cc91
   "metadata": {},
   "outputs": [],
   "source": [
    "# Real data loading\n",
    "credit = pd.read_csv('creditcard.csv')"
   ]
  },
  {
   "cell_type": "code",
<<<<<<< HEAD
   "execution_count": 4,
=======
   "execution_count": 17,
>>>>>>> 53fab046ca4e10b2801ac5b20a739cf10886cc91
   "metadata": {},
   "outputs": [
    {
     "data": {
      "text/plain": [
       "False"
      ]
     },
<<<<<<< HEAD
     "execution_count": 4,
=======
     "execution_count": 17,
>>>>>>> 53fab046ca4e10b2801ac5b20a739cf10886cc91
     "metadata": {},
     "output_type": "execute_result"
    }
   ],
   "source": [
    "N2 = 31\n",
    "n_samples2 = 284807\n",
    "# Missing values\n",
    "credit.isna().any().any()"
   ]
  },
  {
   "cell_type": "markdown",
   "metadata": {},
   "source": [
    "So, there is not missing values, so we can proceed to normalization"
   ]
  },
  {
   "cell_type": "code",
<<<<<<< HEAD
   "execution_count": 5,
=======
   "execution_count": 23,
>>>>>>> 53fab046ca4e10b2801ac5b20a739cf10886cc91
   "metadata": {},
   "outputs": [],
   "source": [
    "for i in range(N):\n",
    "    iris[i] = iris[i]/np.max(iris[i])"
   ]
  },
  {
   "cell_type": "code",
<<<<<<< HEAD
   "execution_count": 6,
=======
   "execution_count": 24,
>>>>>>> 53fab046ca4e10b2801ac5b20a739cf10886cc91
   "metadata": {},
   "outputs": [],
   "source": [
    "for i in credit.columns:\n",
    "    credit[i] = credit[i]/np.max(credit[i])"
   ]
  },
  {
   "cell_type": "markdown",
   "metadata": {},
   "source": [
    "The normalization technique used was $\\frac{x_i}{x_{max}}$"
   ]
  },
  {
   "cell_type": "markdown",
   "metadata": {},
   "source": [
    "## Descriptive analysis"
   ]
  },
  {
   "cell_type": "code",
<<<<<<< HEAD
   "execution_count": 7,
=======
   "execution_count": 25,
>>>>>>> 53fab046ca4e10b2801ac5b20a739cf10886cc91
   "metadata": {},
   "outputs": [
    {
     "data": {
      "text/html": [
       "<div>\n",
       "<style scoped>\n",
       "    .dataframe tbody tr th:only-of-type {\n",
       "        vertical-align: middle;\n",
       "    }\n",
       "\n",
       "    .dataframe tbody tr th {\n",
       "        vertical-align: top;\n",
       "    }\n",
       "\n",
       "    .dataframe thead th {\n",
       "        text-align: right;\n",
       "    }\n",
       "</style>\n",
       "<table border=\"1\" class=\"dataframe\">\n",
       "  <thead>\n",
       "    <tr style=\"text-align: right;\">\n",
       "      <th></th>\n",
       "      <th>0</th>\n",
       "      <th>1</th>\n",
       "      <th>2</th>\n",
       "      <th>3</th>\n",
       "    </tr>\n",
       "  </thead>\n",
       "  <tbody>\n",
       "    <tr>\n",
       "      <th>count</th>\n",
       "      <td>150.000000</td>\n",
       "      <td>150.000000</td>\n",
       "      <td>150.000000</td>\n",
       "      <td>150.000000</td>\n",
       "    </tr>\n",
       "    <tr>\n",
       "      <th>mean</th>\n",
       "      <td>0.739662</td>\n",
       "      <td>0.694848</td>\n",
       "      <td>0.544638</td>\n",
       "      <td>0.479733</td>\n",
       "    </tr>\n",
       "    <tr>\n",
       "      <th>std</th>\n",
       "      <td>0.104818</td>\n",
       "      <td>0.099061</td>\n",
       "      <td>0.255840</td>\n",
       "      <td>0.304895</td>\n",
       "    </tr>\n",
       "    <tr>\n",
       "      <th>min</th>\n",
       "      <td>0.544304</td>\n",
       "      <td>0.454545</td>\n",
       "      <td>0.144928</td>\n",
       "      <td>0.040000</td>\n",
       "    </tr>\n",
       "    <tr>\n",
       "      <th>25%</th>\n",
       "      <td>0.645570</td>\n",
       "      <td>0.636364</td>\n",
       "      <td>0.231884</td>\n",
       "      <td>0.120000</td>\n",
       "    </tr>\n",
       "    <tr>\n",
       "      <th>50%</th>\n",
       "      <td>0.734177</td>\n",
       "      <td>0.681818</td>\n",
       "      <td>0.630435</td>\n",
       "      <td>0.520000</td>\n",
       "    </tr>\n",
       "    <tr>\n",
       "      <th>75%</th>\n",
       "      <td>0.810127</td>\n",
       "      <td>0.750000</td>\n",
       "      <td>0.739130</td>\n",
       "      <td>0.720000</td>\n",
       "    </tr>\n",
       "    <tr>\n",
       "      <th>max</th>\n",
       "      <td>1.000000</td>\n",
       "      <td>1.000000</td>\n",
       "      <td>1.000000</td>\n",
       "      <td>1.000000</td>\n",
       "    </tr>\n",
       "  </tbody>\n",
       "</table>\n",
       "</div>"
      ],
      "text/plain": [
       "                0           1           2           3\n",
       "count  150.000000  150.000000  150.000000  150.000000\n",
       "mean     0.739662    0.694848    0.544638    0.479733\n",
       "std      0.104818    0.099061    0.255840    0.304895\n",
       "min      0.544304    0.454545    0.144928    0.040000\n",
       "25%      0.645570    0.636364    0.231884    0.120000\n",
       "50%      0.734177    0.681818    0.630435    0.520000\n",
       "75%      0.810127    0.750000    0.739130    0.720000\n",
       "max      1.000000    1.000000    1.000000    1.000000"
      ]
     },
<<<<<<< HEAD
     "execution_count": 7,
=======
     "execution_count": 25,
>>>>>>> 53fab046ca4e10b2801ac5b20a739cf10886cc91
     "metadata": {},
     "output_type": "execute_result"
    }
   ],
   "source": [
    "iris.describe()"
   ]
  },
  {
   "cell_type": "code",
<<<<<<< HEAD
   "execution_count": 8,
=======
   "execution_count": 26,
>>>>>>> 53fab046ca4e10b2801ac5b20a739cf10886cc91
   "metadata": {},
   "outputs": [
    {
     "data": {
      "text/html": [
       "<div>\n",
       "<style scoped>\n",
       "    .dataframe tbody tr th:only-of-type {\n",
       "        vertical-align: middle;\n",
       "    }\n",
       "\n",
       "    .dataframe tbody tr th {\n",
       "        vertical-align: top;\n",
       "    }\n",
       "\n",
       "    .dataframe thead th {\n",
       "        text-align: right;\n",
       "    }\n",
       "</style>\n",
       "<table border=\"1\" class=\"dataframe\">\n",
       "  <thead>\n",
       "    <tr style=\"text-align: right;\">\n",
       "      <th></th>\n",
       "      <th>Time</th>\n",
       "      <th>V1</th>\n",
       "      <th>V2</th>\n",
       "      <th>V3</th>\n",
       "      <th>V4</th>\n",
       "      <th>V5</th>\n",
       "      <th>V6</th>\n",
       "      <th>V7</th>\n",
       "      <th>V8</th>\n",
       "      <th>V9</th>\n",
       "      <th>...</th>\n",
       "      <th>V21</th>\n",
       "      <th>V22</th>\n",
       "      <th>V23</th>\n",
       "      <th>V24</th>\n",
       "      <th>V25</th>\n",
       "      <th>V26</th>\n",
       "      <th>V27</th>\n",
       "      <th>V28</th>\n",
       "      <th>Amount</th>\n",
       "      <th>Class</th>\n",
       "    </tr>\n",
       "  </thead>\n",
       "  <tbody>\n",
       "    <tr>\n",
       "      <th>count</th>\n",
       "      <td>284807.000000</td>\n",
       "      <td>2.848070e+05</td>\n",
       "      <td>2.848070e+05</td>\n",
       "      <td>2.848070e+05</td>\n",
       "      <td>2.848070e+05</td>\n",
       "      <td>2.848070e+05</td>\n",
       "      <td>2.848070e+05</td>\n",
       "      <td>2.848070e+05</td>\n",
       "      <td>2.848070e+05</td>\n",
       "      <td>2.848070e+05</td>\n",
       "      <td>...</td>\n",
       "      <td>2.848070e+05</td>\n",
       "      <td>2.848070e+05</td>\n",
       "      <td>2.848070e+05</td>\n",
       "      <td>2.848070e+05</td>\n",
       "      <td>2.848070e+05</td>\n",
       "      <td>2.848070e+05</td>\n",
       "      <td>2.848070e+05</td>\n",
       "      <td>2.848070e+05</td>\n",
       "      <td>284807.000000</td>\n",
       "      <td>284807.000000</td>\n",
       "    </tr>\n",
       "    <tr>\n",
       "      <th>mean</th>\n",
       "      <td>0.548717</td>\n",
<<<<<<< HEAD
       "      <td>6.792436e-16</td>\n",
       "      <td>-5.442799e-18</td>\n",
       "      <td>5.514356e-16</td>\n",
       "      <td>-1.327969e-16</td>\n",
       "      <td>-3.099892e-18</td>\n",
       "      <td>6.851332e-18</td>\n",
       "      <td>-1.381087e-17</td>\n",
       "      <td>3.778413e-19</td>\n",
       "      <td>-1.373807e-16</td>\n",
       "      <td>...</td>\n",
       "      <td>1.353290e-17</td>\n",
       "      <td>-9.666952e-17</td>\n",
       "      <td>8.637992e-18</td>\n",
       "      <td>9.970504e-16</td>\n",
       "      <td>3.240725e-17</td>\n",
       "      <td>4.409715e-16</td>\n",
       "      <td>-1.161059e-17</td>\n",
       "      <td>-2.835739e-18</td>\n",
=======
       "      <td>4.883863e-16</td>\n",
       "      <td>1.521841e-17</td>\n",
       "      <td>-1.484918e-16</td>\n",
       "      <td>1.232691e-16</td>\n",
       "      <td>2.918942e-17</td>\n",
       "      <td>2.020182e-17</td>\n",
       "      <td>-4.652843e-18</td>\n",
       "      <td>5.641416e-18</td>\n",
       "      <td>-1.549113e-16</td>\n",
       "      <td>...</td>\n",
       "      <td>5.923643e-18</td>\n",
       "      <td>-3.435370e-17</td>\n",
       "      <td>1.164458e-17</td>\n",
       "      <td>9.752882e-16</td>\n",
       "      <td>6.686123e-17</td>\n",
       "      <td>4.787345e-16</td>\n",
       "      <td>-1.156896e-17</td>\n",
       "      <td>-3.600730e-18</td>\n",
>>>>>>> 53fab046ca4e10b2801ac5b20a739cf10886cc91
       "      <td>0.003439</td>\n",
       "      <td>0.001727</td>\n",
       "    </tr>\n",
       "    <tr>\n",
       "      <th>std</th>\n",
       "      <td>0.274828</td>\n",
       "      <td>7.978622e-01</td>\n",
       "      <td>7.486304e-02</td>\n",
       "      <td>1.616036e-01</td>\n",
       "      <td>8.390161e-02</td>\n",
       "      <td>3.966036e-02</td>\n",
       "      <td>1.817519e-02</td>\n",
       "      <td>1.025872e-02</td>\n",
       "      <td>5.969613e-02</td>\n",
       "      <td>7.044774e-02</td>\n",
       "      <td>...</td>\n",
       "      <td>2.700174e-02</td>\n",
       "      <td>6.909410e-02</td>\n",
       "      <td>2.771879e-02</td>\n",
       "      <td>1.321061e-01</td>\n",
       "      <td>6.932268e-02</td>\n",
       "      <td>1.370997e-01</td>\n",
       "      <td>1.276825e-02</td>\n",
       "      <td>9.751984e-03</td>\n",
       "      <td>0.009736</td>\n",
       "      <td>0.041527</td>\n",
       "    </tr>\n",
       "    <tr>\n",
       "      <th>min</th>\n",
       "      <td>0.000000</td>\n",
       "      <td>-2.297724e+01</td>\n",
       "      <td>-3.296610e+00</td>\n",
       "      <td>-5.150577e+00</td>\n",
       "      <td>-3.367736e-01</td>\n",
       "      <td>-3.268329e+00</td>\n",
       "      <td>-3.568885e-01</td>\n",
       "      <td>-3.612026e-01</td>\n",
       "      <td>-3.659517e+00</td>\n",
       "      <td>-8.614345e-01</td>\n",
       "      <td>...</td>\n",
       "      <td>-1.280395e+00</td>\n",
       "      <td>-1.040945e+00</td>\n",
       "      <td>-1.988943e+00</td>\n",
       "      <td>-6.187363e-01</td>\n",
       "      <td>-1.369144e+00</td>\n",
       "      <td>-7.404875e-01</td>\n",
       "      <td>-7.138282e-01</td>\n",
       "      <td>-4.558666e-01</td>\n",
       "      <td>0.000000</td>\n",
       "      <td>0.000000</td>\n",
       "    </tr>\n",
       "    <tr>\n",
       "      <th>25%</th>\n",
       "      <td>0.313681</td>\n",
       "      <td>-3.749082e-01</td>\n",
       "      <td>-2.713561e-02</td>\n",
       "      <td>-9.489574e-02</td>\n",
       "      <td>-5.028876e-02</td>\n",
       "      <td>-1.987253e-02</td>\n",
       "      <td>-1.048129e-02</td>\n",
       "      <td>-4.594728e-03</td>\n",
       "      <td>-1.042773e-02</td>\n",
       "      <td>-4.123743e-02</td>\n",
       "      <td>...</td>\n",
       "      <td>-8.395997e-03</td>\n",
       "      <td>-5.163722e-02</td>\n",
       "      <td>-7.184099e-03</td>\n",
       "      <td>-7.734373e-02</td>\n",
       "      <td>-4.217585e-02</td>\n",
       "      <td>-9.296326e-02</td>\n",
       "      <td>-2.240892e-03</td>\n",
       "      <td>-1.564645e-03</td>\n",
       "      <td>0.000218</td>\n",
       "      <td>0.000000</td>\n",
       "    </tr>\n",
       "    <tr>\n",
       "      <th>50%</th>\n",
       "      <td>0.490138</td>\n",
       "      <td>7.376503e-03</td>\n",
       "      <td>2.968826e-03</td>\n",
       "      <td>1.916816e-02</td>\n",
       "      <td>-1.176067e-03</td>\n",
       "      <td>-1.561300e-03</td>\n",
       "      <td>-3.740532e-03</td>\n",
       "      <td>3.325587e-04</td>\n",
       "      <td>1.117499e-03</td>\n",
       "      <td>-3.297772e-03</td>\n",
       "      <td>...</td>\n",
       "      <td>-1.082614e-03</td>\n",
       "      <td>6.457093e-04</td>\n",
       "      <td>-4.968362e-04</td>\n",
       "      <td>8.937860e-03</td>\n",
       "      <td>2.206703e-03</td>\n",
       "      <td>-1.482342e-02</td>\n",
       "      <td>4.245659e-05</td>\n",
       "      <td>3.321879e-04</td>\n",
       "      <td>0.000856</td>\n",
       "      <td>0.000000</td>\n",
       "    </tr>\n",
       "    <tr>\n",
       "      <th>75%</th>\n",
       "      <td>0.806290</td>\n",
       "      <td>5.359182e-01</td>\n",
       "      <td>3.643729e-02</td>\n",
       "      <td>1.094793e-01</td>\n",
       "      <td>4.404896e-02</td>\n",
       "      <td>1.758325e-02</td>\n",
       "      <td>5.437327e-03</td>\n",
       "      <td>4.730396e-03</td>\n",
       "      <td>1.636140e-02</td>\n",
       "      <td>3.829043e-02</td>\n",
       "      <td>...</td>\n",
       "      <td>6.851388e-03</td>\n",
       "      <td>5.032363e-02</td>\n",
       "      <td>6.553594e-03</td>\n",
       "      <td>9.587128e-02</td>\n",
       "      <td>4.664026e-02</td>\n",
       "      <td>6.850398e-02</td>\n",
       "      <td>2.880063e-03</td>\n",
       "      <td>2.312704e-03</td>\n",
       "      <td>0.003004</td>\n",
       "      <td>0.000000</td>\n",
       "    </tr>\n",
       "    <tr>\n",
       "      <th>max</th>\n",
       "      <td>1.000000</td>\n",
       "      <td>1.000000e+00</td>\n",
       "      <td>1.000000e+00</td>\n",
       "      <td>1.000000e+00</td>\n",
       "      <td>1.000000e+00</td>\n",
       "      <td>1.000000e+00</td>\n",
       "      <td>1.000000e+00</td>\n",
       "      <td>1.000000e+00</td>\n",
       "      <td>1.000000e+00</td>\n",
       "      <td>1.000000e+00</td>\n",
       "      <td>...</td>\n",
       "      <td>1.000000e+00</td>\n",
       "      <td>1.000000e+00</td>\n",
       "      <td>1.000000e+00</td>\n",
       "      <td>1.000000e+00</td>\n",
       "      <td>1.000000e+00</td>\n",
       "      <td>1.000000e+00</td>\n",
       "      <td>1.000000e+00</td>\n",
       "      <td>1.000000e+00</td>\n",
       "      <td>1.000000</td>\n",
       "      <td>1.000000</td>\n",
       "    </tr>\n",
       "  </tbody>\n",
       "</table>\n",
       "<p>8 rows × 31 columns</p>\n",
       "</div>"
      ],
      "text/plain": [
       "                Time            V1            V2            V3            V4  \\\n",
       "count  284807.000000  2.848070e+05  2.848070e+05  2.848070e+05  2.848070e+05   \n",
<<<<<<< HEAD
       "mean        0.548717  6.792436e-16 -5.442799e-18  5.514356e-16 -1.327969e-16   \n",
=======
       "mean        0.548717  4.883863e-16  1.521841e-17 -1.484918e-16  1.232691e-16   \n",
>>>>>>> 53fab046ca4e10b2801ac5b20a739cf10886cc91
       "std         0.274828  7.978622e-01  7.486304e-02  1.616036e-01  8.390161e-02   \n",
       "min         0.000000 -2.297724e+01 -3.296610e+00 -5.150577e+00 -3.367736e-01   \n",
       "25%         0.313681 -3.749082e-01 -2.713561e-02 -9.489574e-02 -5.028876e-02   \n",
       "50%         0.490138  7.376503e-03  2.968826e-03  1.916816e-02 -1.176067e-03   \n",
       "75%         0.806290  5.359182e-01  3.643729e-02  1.094793e-01  4.404896e-02   \n",
       "max         1.000000  1.000000e+00  1.000000e+00  1.000000e+00  1.000000e+00   \n",
       "\n",
       "                 V5            V6            V7            V8            V9  \\\n",
       "count  2.848070e+05  2.848070e+05  2.848070e+05  2.848070e+05  2.848070e+05   \n",
<<<<<<< HEAD
       "mean  -3.099892e-18  6.851332e-18 -1.381087e-17  3.778413e-19 -1.373807e-16   \n",
=======
       "mean   2.918942e-17  2.020182e-17 -4.652843e-18  5.641416e-18 -1.549113e-16   \n",
>>>>>>> 53fab046ca4e10b2801ac5b20a739cf10886cc91
       "std    3.966036e-02  1.817519e-02  1.025872e-02  5.969613e-02  7.044774e-02   \n",
       "min   -3.268329e+00 -3.568885e-01 -3.612026e-01 -3.659517e+00 -8.614345e-01   \n",
       "25%   -1.987253e-02 -1.048129e-02 -4.594728e-03 -1.042773e-02 -4.123743e-02   \n",
       "50%   -1.561300e-03 -3.740532e-03  3.325587e-04  1.117499e-03 -3.297772e-03   \n",
       "75%    1.758325e-02  5.437327e-03  4.730396e-03  1.636140e-02  3.829043e-02   \n",
       "max    1.000000e+00  1.000000e+00  1.000000e+00  1.000000e+00  1.000000e+00   \n",
       "\n",
       "       ...           V21           V22           V23           V24  \\\n",
       "count  ...  2.848070e+05  2.848070e+05  2.848070e+05  2.848070e+05   \n",
<<<<<<< HEAD
       "mean   ...  1.353290e-17 -9.666952e-17  8.637992e-18  9.970504e-16   \n",
=======
       "mean   ...  5.923643e-18 -3.435370e-17  1.164458e-17  9.752882e-16   \n",
>>>>>>> 53fab046ca4e10b2801ac5b20a739cf10886cc91
       "std    ...  2.700174e-02  6.909410e-02  2.771879e-02  1.321061e-01   \n",
       "min    ... -1.280395e+00 -1.040945e+00 -1.988943e+00 -6.187363e-01   \n",
       "25%    ... -8.395997e-03 -5.163722e-02 -7.184099e-03 -7.734373e-02   \n",
       "50%    ... -1.082614e-03  6.457093e-04 -4.968362e-04  8.937860e-03   \n",
       "75%    ...  6.851388e-03  5.032363e-02  6.553594e-03  9.587128e-02   \n",
       "max    ...  1.000000e+00  1.000000e+00  1.000000e+00  1.000000e+00   \n",
       "\n",
       "                V25           V26           V27           V28         Amount  \\\n",
       "count  2.848070e+05  2.848070e+05  2.848070e+05  2.848070e+05  284807.000000   \n",
<<<<<<< HEAD
       "mean   3.240725e-17  4.409715e-16 -1.161059e-17 -2.835739e-18       0.003439   \n",
=======
       "mean   6.686123e-17  4.787345e-16 -1.156896e-17 -3.600730e-18       0.003439   \n",
>>>>>>> 53fab046ca4e10b2801ac5b20a739cf10886cc91
       "std    6.932268e-02  1.370997e-01  1.276825e-02  9.751984e-03       0.009736   \n",
       "min   -1.369144e+00 -7.404875e-01 -7.138282e-01 -4.558666e-01       0.000000   \n",
       "25%   -4.217585e-02 -9.296326e-02 -2.240892e-03 -1.564645e-03       0.000218   \n",
       "50%    2.206703e-03 -1.482342e-02  4.245659e-05  3.321879e-04       0.000856   \n",
       "75%    4.664026e-02  6.850398e-02  2.880063e-03  2.312704e-03       0.003004   \n",
       "max    1.000000e+00  1.000000e+00  1.000000e+00  1.000000e+00       1.000000   \n",
       "\n",
       "               Class  \n",
       "count  284807.000000  \n",
       "mean        0.001727  \n",
       "std         0.041527  \n",
       "min         0.000000  \n",
       "25%         0.000000  \n",
       "50%         0.000000  \n",
       "75%         0.000000  \n",
       "max         1.000000  \n",
       "\n",
       "[8 rows x 31 columns]"
      ]
     },
<<<<<<< HEAD
     "execution_count": 8,
=======
     "execution_count": 26,
>>>>>>> 53fab046ca4e10b2801ac5b20a739cf10886cc91
     "metadata": {},
     "output_type": "execute_result"
    }
   ],
   "source": [
    "credit.describe()"
   ]
  },
  {
   "cell_type": "code",
   "execution_count": 27,
   "metadata": {},
   "outputs": [
    {
     "data": {
      "text/plain": [
       "0    0.734177\n",
       "1    0.681818\n",
       "2    0.630435\n",
       "3    0.520000\n",
       "dtype: float64"
      ]
     },
     "execution_count": 27,
     "metadata": {},
     "output_type": "execute_result"
    }
   ],
   "source": [
    "iris.median()"
   ]
  },
  {
   "cell_type": "code",
   "execution_count": 28,
   "metadata": {},
   "outputs": [
    {
     "data": {
      "text/plain": [
       "Time      0.490138\n",
       "V1        0.007377\n",
       "V2        0.002969\n",
       "V3        0.019168\n",
       "V4       -0.001176\n",
       "V5       -0.001561\n",
       "V6       -0.003741\n",
       "V7        0.000333\n",
       "V8        0.001117\n",
       "V9       -0.003298\n",
       "V10      -0.003913\n",
       "V11      -0.002725\n",
       "V12       0.017842\n",
       "V13      -0.001904\n",
       "V14       0.004807\n",
       "V15       0.005415\n",
       "V16       0.003836\n",
       "V17      -0.007097\n",
       "V18      -0.000721\n",
       "V19       0.000668\n",
       "V20      -0.001585\n",
       "V21      -0.001083\n",
       "V22       0.000646\n",
       "V23      -0.000497\n",
       "V24       0.008938\n",
       "V25       0.002207\n",
       "V26      -0.014823\n",
       "V27       0.000042\n",
       "V28       0.000332\n",
       "Amount    0.000856\n",
       "Class     0.000000\n",
       "dtype: float64"
      ]
     },
     "execution_count": 28,
     "metadata": {},
     "output_type": "execute_result"
    }
   ],
   "source": [
    "credit.median()"
   ]
  },
  {
   "cell_type": "code",
   "execution_count": 13,
   "metadata": {},
   "outputs": [
    {
     "data": {
      "text/plain": [
       "array([-0.57356795,  0.18097632, -1.39553589, -1.33606741])"
      ]
     },
     "execution_count": 13,
     "metadata": {},
     "output_type": "execute_result"
    }
   ],
   "source": [
    "kurtosis(iris)"
   ]
  },
  {
   "cell_type": "code",
   "execution_count": 29,
   "metadata": {},
   "outputs": [
    {
     "data": {
      "text/plain": [
       "array([-1.29352841e+00,  3.24860881e+01,  9.57714035e+01,  2.66190624e+01,\n",
       "        2.63538758e+00,  2.06900907e+02,  4.26417243e+01,  4.05600275e+02,\n",
       "        2.20583080e+02,  3.73122404e+00,  3.19876561e+01,  1.63387151e+00,\n",
       "        2.02414932e+01,  1.95275292e-01,  2.38790216e+01,  2.84743018e-01,\n",
       "        1.04189273e+01,  9.47980338e+01,  2.57827450e+00,  1.72491843e+00,\n",
       "        2.71011334e+02,  2.07283380e+02,  2.83289571e+00,  4.40080912e+02,\n",
       "        6.18838868e-01,  4.29031590e+00,  9.18968570e-01,  2.44984919e+02,\n",
       "        9.33381095e+02,  8.45077788e+02,  5.73877747e+02])"
      ]
     },
     "execution_count": 29,
     "metadata": {},
     "output_type": "execute_result"
    }
   ],
   "source": [
    "kurtosis(credit)"
   ]
  },
  {
   "cell_type": "markdown",
   "metadata": {},
   "source": [
    "## Distribution tests and stationarity"
   ]
  },
  {
   "cell_type": "code",
   "execution_count": 30,
   "metadata": {},
   "outputs": [
    {
     "data": {
      "text/html": [
       "<div>\n",
       "<style scoped>\n",
       "    .dataframe tbody tr th:only-of-type {\n",
       "        vertical-align: middle;\n",
       "    }\n",
       "\n",
       "    .dataframe tbody tr th {\n",
       "        vertical-align: top;\n",
       "    }\n",
       "\n",
       "    .dataframe thead th {\n",
       "        text-align: right;\n",
       "    }\n",
       "</style>\n",
       "<table border=\"1\" class=\"dataframe\">\n",
       "  <thead>\n",
       "    <tr style=\"text-align: right;\">\n",
       "      <th></th>\n",
       "      <th>Shapiro</th>\n",
       "      <th>D'Angostino</th>\n",
       "      <th>Dickie Fuller</th>\n",
       "      <th>Kpss</th>\n",
       "    </tr>\n",
       "  </thead>\n",
       "  <tbody>\n",
       "    <tr>\n",
       "      <th>0</th>\n",
       "      <td>0</td>\n",
       "      <td>1</td>\n",
       "      <td>1</td>\n",
       "      <td>1</td>\n",
       "    </tr>\n",
       "    <tr>\n",
       "      <th>1</th>\n",
       "      <td>1</td>\n",
       "      <td>1</td>\n",
       "      <td>1</td>\n",
       "      <td>1</td>\n",
       "    </tr>\n",
       "    <tr>\n",
       "      <th>2</th>\n",
       "      <td>0</td>\n",
       "      <td>0</td>\n",
       "      <td>1</td>\n",
       "      <td>1</td>\n",
       "    </tr>\n",
       "    <tr>\n",
       "      <th>3</th>\n",
       "      <td>0</td>\n",
       "      <td>0</td>\n",
       "      <td>1</td>\n",
       "      <td>1</td>\n",
       "    </tr>\n",
       "  </tbody>\n",
       "</table>\n",
       "</div>"
      ],
      "text/plain": [
       "   Shapiro  D'Angostino  Dickie Fuller  Kpss\n",
       "0        0            1              1     1\n",
       "1        1            1              1     1\n",
       "2        0            0              1     1\n",
       "3        0            0              1     1"
      ]
     },
     "execution_count": 30,
     "metadata": {},
     "output_type": "execute_result"
    }
   ],
   "source": [
    "descriptive = pd.DataFrame()\n",
    "sw = []\n",
    "normal = []\n",
    "dfuller = []\n",
    "kp = []\n",
    "for i in range(N):\n",
    "    stat, p1 = shapiro(iris[i])\n",
    "    sw.append(1 if p1 > 0.05 else 0)\n",
    "    stat, p2 = normaltest(iris[i])\n",
    "    normal.append(1 if p2 > 0.05 else 0)\n",
    "    stat, p3, lags, obs, crit, t = adfuller(iris[i])#, nlags = 'auto')\n",
    "    dfuller.append(1 if p3 > 0.05 else 0)\n",
    "    stat, p4, lags, crit = kpss(iris[i], nlags = 'auto')\n",
    "    kp.append(1 if p3 > 0.05 else 0)\n",
    "descriptive['Shapiro'] = sw\n",
    "descriptive['D\\'Angostino'] = normal\n",
    "descriptive['Dickie Fuller'] = dfuller\n",
    "descriptive['Kpss'] = kp\n",
    "descriptive"
   ]
  },
  {
   "cell_type": "code",
   "execution_count": 32,
   "metadata": {},
   "outputs": [
    {
     "data": {
      "text/html": [
       "<div>\n",
       "<style scoped>\n",
       "    .dataframe tbody tr th:only-of-type {\n",
       "        vertical-align: middle;\n",
       "    }\n",
       "\n",
       "    .dataframe tbody tr th {\n",
       "        vertical-align: top;\n",
       "    }\n",
       "\n",
       "    .dataframe thead th {\n",
       "        text-align: right;\n",
       "    }\n",
       "</style>\n",
       "<table border=\"1\" class=\"dataframe\">\n",
       "  <thead>\n",
       "    <tr style=\"text-align: right;\">\n",
       "      <th></th>\n",
       "      <th>Shapiro</th>\n",
       "      <th>D'Angostino</th>\n",
       "      <th>Dickie Fuller</th>\n",
       "      <th>Kpss</th>\n",
       "    </tr>\n",
       "  </thead>\n",
       "  <tbody>\n",
       "    <tr>\n",
       "      <th>0</th>\n",
       "      <td>0</td>\n",
       "      <td>0</td>\n",
       "      <td>0</td>\n",
       "      <td>0</td>\n",
       "    </tr>\n",
       "    <tr>\n",
       "      <th>1</th>\n",
       "      <td>0</td>\n",
       "      <td>0</td>\n",
       "      <td>0</td>\n",
       "      <td>0</td>\n",
       "    </tr>\n",
       "    <tr>\n",
       "      <th>2</th>\n",
       "      <td>0</td>\n",
       "      <td>0</td>\n",
       "      <td>0</td>\n",
       "      <td>0</td>\n",
       "    </tr>\n",
       "    <tr>\n",
       "      <th>3</th>\n",
       "      <td>0</td>\n",
       "      <td>0</td>\n",
       "      <td>0</td>\n",
       "      <td>0</td>\n",
       "    </tr>\n",
       "    <tr>\n",
       "      <th>4</th>\n",
       "      <td>0</td>\n",
       "      <td>0</td>\n",
       "      <td>0</td>\n",
       "      <td>0</td>\n",
       "    </tr>\n",
       "    <tr>\n",
       "      <th>5</th>\n",
       "      <td>0</td>\n",
       "      <td>0</td>\n",
       "      <td>0</td>\n",
       "      <td>0</td>\n",
       "    </tr>\n",
       "    <tr>\n",
       "      <th>6</th>\n",
       "      <td>0</td>\n",
       "      <td>0</td>\n",
       "      <td>0</td>\n",
       "      <td>0</td>\n",
       "    </tr>\n",
       "    <tr>\n",
       "      <th>7</th>\n",
       "      <td>0</td>\n",
       "      <td>0</td>\n",
       "      <td>0</td>\n",
       "      <td>0</td>\n",
       "    </tr>\n",
       "    <tr>\n",
       "      <th>8</th>\n",
       "      <td>0</td>\n",
       "      <td>0</td>\n",
       "      <td>0</td>\n",
       "      <td>0</td>\n",
       "    </tr>\n",
       "    <tr>\n",
       "      <th>9</th>\n",
       "      <td>0</td>\n",
       "      <td>0</td>\n",
       "      <td>0</td>\n",
       "      <td>0</td>\n",
       "    </tr>\n",
       "    <tr>\n",
       "      <th>10</th>\n",
       "      <td>0</td>\n",
       "      <td>0</td>\n",
       "      <td>0</td>\n",
       "      <td>0</td>\n",
       "    </tr>\n",
       "    <tr>\n",
       "      <th>11</th>\n",
       "      <td>0</td>\n",
       "      <td>0</td>\n",
       "      <td>0</td>\n",
       "      <td>0</td>\n",
       "    </tr>\n",
       "    <tr>\n",
       "      <th>12</th>\n",
       "      <td>0</td>\n",
       "      <td>0</td>\n",
       "      <td>0</td>\n",
       "      <td>0</td>\n",
       "    </tr>\n",
       "    <tr>\n",
       "      <th>13</th>\n",
       "      <td>0</td>\n",
       "      <td>0</td>\n",
       "      <td>0</td>\n",
       "      <td>0</td>\n",
       "    </tr>\n",
       "    <tr>\n",
       "      <th>14</th>\n",
       "      <td>0</td>\n",
       "      <td>0</td>\n",
       "      <td>0</td>\n",
       "      <td>0</td>\n",
       "    </tr>\n",
       "    <tr>\n",
       "      <th>15</th>\n",
       "      <td>0</td>\n",
       "      <td>0</td>\n",
       "      <td>0</td>\n",
       "      <td>0</td>\n",
       "    </tr>\n",
       "    <tr>\n",
       "      <th>16</th>\n",
       "      <td>0</td>\n",
       "      <td>0</td>\n",
       "      <td>0</td>\n",
       "      <td>0</td>\n",
       "    </tr>\n",
       "    <tr>\n",
       "      <th>17</th>\n",
       "      <td>0</td>\n",
       "      <td>0</td>\n",
       "      <td>0</td>\n",
       "      <td>0</td>\n",
       "    </tr>\n",
       "    <tr>\n",
       "      <th>18</th>\n",
       "      <td>0</td>\n",
       "      <td>0</td>\n",
       "      <td>0</td>\n",
       "      <td>0</td>\n",
       "    </tr>\n",
       "    <tr>\n",
       "      <th>19</th>\n",
       "      <td>0</td>\n",
       "      <td>0</td>\n",
       "      <td>0</td>\n",
       "      <td>0</td>\n",
       "    </tr>\n",
       "    <tr>\n",
       "      <th>20</th>\n",
       "      <td>0</td>\n",
       "      <td>0</td>\n",
       "      <td>0</td>\n",
       "      <td>0</td>\n",
       "    </tr>\n",
       "    <tr>\n",
       "      <th>21</th>\n",
       "      <td>0</td>\n",
       "      <td>0</td>\n",
       "      <td>0</td>\n",
       "      <td>0</td>\n",
       "    </tr>\n",
       "    <tr>\n",
       "      <th>22</th>\n",
       "      <td>0</td>\n",
       "      <td>0</td>\n",
       "      <td>0</td>\n",
       "      <td>0</td>\n",
       "    </tr>\n",
       "    <tr>\n",
       "      <th>23</th>\n",
       "      <td>0</td>\n",
       "      <td>0</td>\n",
       "      <td>0</td>\n",
       "      <td>0</td>\n",
       "    </tr>\n",
       "    <tr>\n",
       "      <th>24</th>\n",
       "      <td>0</td>\n",
       "      <td>0</td>\n",
       "      <td>0</td>\n",
       "      <td>0</td>\n",
       "    </tr>\n",
       "    <tr>\n",
       "      <th>25</th>\n",
       "      <td>0</td>\n",
       "      <td>0</td>\n",
       "      <td>0</td>\n",
       "      <td>0</td>\n",
       "    </tr>\n",
       "    <tr>\n",
       "      <th>26</th>\n",
       "      <td>0</td>\n",
       "      <td>0</td>\n",
       "      <td>0</td>\n",
       "      <td>0</td>\n",
       "    </tr>\n",
       "    <tr>\n",
       "      <th>27</th>\n",
       "      <td>0</td>\n",
       "      <td>0</td>\n",
       "      <td>0</td>\n",
       "      <td>0</td>\n",
       "    </tr>\n",
       "    <tr>\n",
       "      <th>28</th>\n",
       "      <td>0</td>\n",
       "      <td>0</td>\n",
       "      <td>0</td>\n",
       "      <td>0</td>\n",
       "    </tr>\n",
       "    <tr>\n",
       "      <th>29</th>\n",
       "      <td>0</td>\n",
       "      <td>0</td>\n",
       "      <td>0</td>\n",
       "      <td>0</td>\n",
       "    </tr>\n",
       "    <tr>\n",
       "      <th>30</th>\n",
       "      <td>0</td>\n",
       "      <td>0</td>\n",
       "      <td>0</td>\n",
       "      <td>0</td>\n",
       "    </tr>\n",
       "  </tbody>\n",
       "</table>\n",
       "</div>"
      ],
      "text/plain": [
       "    Shapiro  D'Angostino  Dickie Fuller  Kpss\n",
       "0         0            0              0     0\n",
       "1         0            0              0     0\n",
       "2         0            0              0     0\n",
       "3         0            0              0     0\n",
       "4         0            0              0     0\n",
       "5         0            0              0     0\n",
       "6         0            0              0     0\n",
       "7         0            0              0     0\n",
       "8         0            0              0     0\n",
       "9         0            0              0     0\n",
       "10        0            0              0     0\n",
       "11        0            0              0     0\n",
       "12        0            0              0     0\n",
       "13        0            0              0     0\n",
       "14        0            0              0     0\n",
       "15        0            0              0     0\n",
       "16        0            0              0     0\n",
       "17        0            0              0     0\n",
       "18        0            0              0     0\n",
       "19        0            0              0     0\n",
       "20        0            0              0     0\n",
       "21        0            0              0     0\n",
       "22        0            0              0     0\n",
       "23        0            0              0     0\n",
       "24        0            0              0     0\n",
       "25        0            0              0     0\n",
       "26        0            0              0     0\n",
       "27        0            0              0     0\n",
       "28        0            0              0     0\n",
       "29        0            0              0     0\n",
       "30        0            0              0     0"
      ]
     },
     "execution_count": 32,
     "metadata": {},
     "output_type": "execute_result"
    }
   ],
   "source": [
    "descriptive = pd.DataFrame()\n",
    "sw = []\n",
    "normal = []\n",
    "dfuller = []\n",
    "kp = []\n",
    "for i in credit.columns:\n",
    "    stat, p1 = shapiro(credit[i])\n",
    "    sw.append(1 if p1 > 0.05 else 0)\n",
    "    stat, p2 = normaltest(credit[i])\n",
    "    normal.append(1 if p2 > 0.05 else 0)\n",
    "    stat, p3, lags, obs, crit, t = adfuller(credit[i])#, nlags = 'auto')\n",
    "    dfuller.append(1 if p3 > 0.05 else 0)\n",
    "    stat, p4, lags, crit = kpss(credit[i], nlags = 'auto')\n",
    "    kp.append(1 if p3 > 0.05 else 0)\n",
    "descriptive['Shapiro'] = sw\n",
    "descriptive['D\\'Angostino'] = normal\n",
    "descriptive['Dickie Fuller'] = dfuller\n",
    "descriptive['Kpss'] = kp\n",
    "descriptive"
   ]
  },
  {
   "cell_type": "markdown",
   "metadata": {},
   "source": [
    "## Independence tests"
   ]
  },
  {
   "cell_type": "code",
   "execution_count": 20,
   "metadata": {},
   "outputs": [
    {
     "data": {
      "text/html": [
       "<div>\n",
       "<style scoped>\n",
       "    .dataframe tbody tr th:only-of-type {\n",
       "        vertical-align: middle;\n",
       "    }\n",
       "\n",
       "    .dataframe tbody tr th {\n",
       "        vertical-align: top;\n",
       "    }\n",
       "\n",
       "    .dataframe thead th {\n",
       "        text-align: right;\n",
       "    }\n",
       "</style>\n",
       "<table border=\"1\" class=\"dataframe\">\n",
       "  <thead>\n",
       "    <tr style=\"text-align: right;\">\n",
       "      <th></th>\n",
       "      <th>Pearson</th>\n",
       "      <th>Spearman</th>\n",
       "      <th>Kendall</th>\n",
       "      <th>Chi2</th>\n",
       "      <th>Tstudent</th>\n",
       "    </tr>\n",
       "  </thead>\n",
       "  <tbody>\n",
       "    <tr>\n",
       "      <th>0</th>\n",
       "      <td>1</td>\n",
       "      <td>0</td>\n",
       "      <td>1</td>\n",
       "      <td>1</td>\n",
       "      <td>0</td>\n",
       "    </tr>\n",
       "    <tr>\n",
       "      <th>1</th>\n",
       "      <td>0</td>\n",
       "      <td>0</td>\n",
       "      <td>0</td>\n",
       "      <td>1</td>\n",
       "      <td>0</td>\n",
       "    </tr>\n",
       "    <tr>\n",
       "      <th>2</th>\n",
       "      <td>0</td>\n",
       "      <td>0</td>\n",
       "      <td>0</td>\n",
       "      <td>1</td>\n",
       "      <td>0</td>\n",
       "    </tr>\n",
       "    <tr>\n",
       "      <th>3</th>\n",
       "      <td>0</td>\n",
       "      <td>0</td>\n",
       "      <td>0</td>\n",
       "      <td>1</td>\n",
       "      <td>0</td>\n",
       "    </tr>\n",
       "    <tr>\n",
       "      <th>4</th>\n",
       "      <td>0</td>\n",
       "      <td>0</td>\n",
       "      <td>0</td>\n",
       "      <td>1</td>\n",
       "      <td>0</td>\n",
       "    </tr>\n",
       "    <tr>\n",
       "      <th>5</th>\n",
       "      <td>0</td>\n",
       "      <td>0</td>\n",
       "      <td>0</td>\n",
       "      <td>1</td>\n",
       "      <td>0</td>\n",
       "    </tr>\n",
       "  </tbody>\n",
       "</table>\n",
       "</div>"
      ],
      "text/plain": [
       "   Pearson  Spearman  Kendall  Chi2  Tstudent\n",
       "0        1         0        1     1         0\n",
       "1        0         0        0     1         0\n",
       "2        0         0        0     1         0\n",
       "3        0         0        0     1         0\n",
       "4        0         0        0     1         0\n",
       "5        0         0        0     1         0"
      ]
     },
     "execution_count": 20,
     "metadata": {},
     "output_type": "execute_result"
    }
   ],
   "source": [
    "per = itertools.combinations(range(N),2)\n",
    "distribution = pd.DataFrame()\n",
    "pearson = []\n",
    "spearman = []\n",
    "kendall = []\n",
    "chi = []\n",
    "tstu = []\n",
    "for i in per:\n",
    "    stat, p1 = pearsonr(iris[i[0]],iris[i[1]])\n",
    "    pearson.append(1 if p1 > 0.05 else 0)\n",
    "    stat, p2 = spearmanr(iris[i[0]],iris[i[1]])\n",
    "    spearman.append(1 if p2 > 0.05 else 0)\n",
    "    stat, p4 = kendalltau(iris[i[0]],iris[i[1]])\n",
    "    kendall.append(1 if p4 > 0.05 else 0)\n",
    "    stat, p3, dof, expected = chi2_contingency(iris[i[0]],iris[i[1]])\n",
    "    chi.append(1 if p3 > 0.05 else 0)\n",
    "    stat, p5 = ttest_ind(iris[i[0]],iris[i[1]])\n",
    "    tstu.append(1 if p5 > 0.05 else 0)\n",
    "distribution['Pearson'] = pearson\n",
    "distribution['Spearman'] = spearman\n",
    "distribution['Kendall'] = kendall\n",
    "distribution['Chi2'] = chi\n",
    "distribution['Tstudent'] = tstu\n",
    "distribution"
   ]
  },
  {
   "cell_type": "code",
   "execution_count": 33,
   "metadata": {},
   "outputs": [
    {
     "ename": "ValueError",
     "evalue": "The internally computed table of expected frequencies has a zero element at (0,).",
     "output_type": "error",
     "traceback": [
      "\u001b[0;31m---------------------------------------------------------------------------\u001b[0m",
      "\u001b[0;31mValueError\u001b[0m                                Traceback (most recent call last)",
      "\u001b[0;32m<ipython-input-33-083fc92b4d19>\u001b[0m in \u001b[0;36m<module>\u001b[0;34m\u001b[0m\n\u001b[1;32m     13\u001b[0m     \u001b[0mstat\u001b[0m\u001b[0;34m,\u001b[0m \u001b[0mp4\u001b[0m \u001b[0;34m=\u001b[0m \u001b[0mkendalltau\u001b[0m\u001b[0;34m(\u001b[0m\u001b[0mcredit\u001b[0m\u001b[0;34m[\u001b[0m\u001b[0mi\u001b[0m\u001b[0;34m[\u001b[0m\u001b[0;36m0\u001b[0m\u001b[0;34m]\u001b[0m\u001b[0;34m]\u001b[0m\u001b[0;34m,\u001b[0m\u001b[0mcredit\u001b[0m\u001b[0;34m[\u001b[0m\u001b[0mi\u001b[0m\u001b[0;34m[\u001b[0m\u001b[0;36m1\u001b[0m\u001b[0;34m]\u001b[0m\u001b[0;34m]\u001b[0m\u001b[0;34m)\u001b[0m\u001b[0;34m\u001b[0m\u001b[0;34m\u001b[0m\u001b[0m\n\u001b[1;32m     14\u001b[0m     \u001b[0mkendall\u001b[0m\u001b[0;34m.\u001b[0m\u001b[0mappend\u001b[0m\u001b[0;34m(\u001b[0m\u001b[0;36m1\u001b[0m \u001b[0;32mif\u001b[0m \u001b[0mp4\u001b[0m \u001b[0;34m>\u001b[0m \u001b[0;36m0.05\u001b[0m \u001b[0;32melse\u001b[0m \u001b[0;36m0\u001b[0m\u001b[0;34m)\u001b[0m\u001b[0;34m\u001b[0m\u001b[0;34m\u001b[0m\u001b[0m\n\u001b[0;32m---> 15\u001b[0;31m     \u001b[0mstat\u001b[0m\u001b[0;34m,\u001b[0m \u001b[0mp3\u001b[0m\u001b[0;34m,\u001b[0m \u001b[0mdof\u001b[0m\u001b[0;34m,\u001b[0m \u001b[0mexpected\u001b[0m \u001b[0;34m=\u001b[0m \u001b[0mchi2_contingency\u001b[0m\u001b[0;34m(\u001b[0m\u001b[0mcredit\u001b[0m\u001b[0;34m[\u001b[0m\u001b[0mi\u001b[0m\u001b[0;34m[\u001b[0m\u001b[0;36m0\u001b[0m\u001b[0;34m]\u001b[0m\u001b[0;34m]\u001b[0m\u001b[0;34m,\u001b[0m\u001b[0mcredit\u001b[0m\u001b[0;34m[\u001b[0m\u001b[0mi\u001b[0m\u001b[0;34m[\u001b[0m\u001b[0;36m1\u001b[0m\u001b[0;34m]\u001b[0m\u001b[0;34m]\u001b[0m\u001b[0;34m)\u001b[0m\u001b[0;34m\u001b[0m\u001b[0;34m\u001b[0m\u001b[0m\n\u001b[0m\u001b[1;32m     16\u001b[0m     \u001b[0mchi\u001b[0m\u001b[0;34m.\u001b[0m\u001b[0mappend\u001b[0m\u001b[0;34m(\u001b[0m\u001b[0;36m1\u001b[0m \u001b[0;32mif\u001b[0m \u001b[0mp3\u001b[0m \u001b[0;34m>\u001b[0m \u001b[0;36m0.05\u001b[0m \u001b[0;32melse\u001b[0m \u001b[0;36m0\u001b[0m\u001b[0;34m)\u001b[0m\u001b[0;34m\u001b[0m\u001b[0;34m\u001b[0m\u001b[0m\n\u001b[1;32m     17\u001b[0m     \u001b[0mstat\u001b[0m\u001b[0;34m,\u001b[0m \u001b[0mp5\u001b[0m \u001b[0;34m=\u001b[0m \u001b[0mttest_ind\u001b[0m\u001b[0;34m(\u001b[0m\u001b[0mcredit\u001b[0m\u001b[0;34m[\u001b[0m\u001b[0mi\u001b[0m\u001b[0;34m[\u001b[0m\u001b[0;36m0\u001b[0m\u001b[0;34m]\u001b[0m\u001b[0;34m]\u001b[0m\u001b[0;34m,\u001b[0m\u001b[0mcredit\u001b[0m\u001b[0;34m[\u001b[0m\u001b[0mi\u001b[0m\u001b[0;34m[\u001b[0m\u001b[0;36m1\u001b[0m\u001b[0;34m]\u001b[0m\u001b[0;34m]\u001b[0m\u001b[0;34m)\u001b[0m\u001b[0;34m\u001b[0m\u001b[0;34m\u001b[0m\u001b[0m\n",
      "\u001b[0;32m~/anaconda3/envs/avanzada/lib/python3.8/site-packages/scipy/stats/contingency.py\u001b[0m in \u001b[0;36mchi2_contingency\u001b[0;34m(observed, correction, lambda_)\u001b[0m\n\u001b[1;32m    252\u001b[0m         \u001b[0;31m# the exception message.\u001b[0m\u001b[0;34m\u001b[0m\u001b[0;34m\u001b[0m\u001b[0;34m\u001b[0m\u001b[0m\n\u001b[1;32m    253\u001b[0m         \u001b[0mzeropos\u001b[0m \u001b[0;34m=\u001b[0m \u001b[0mlist\u001b[0m\u001b[0;34m(\u001b[0m\u001b[0mzip\u001b[0m\u001b[0;34m(\u001b[0m\u001b[0;34m*\u001b[0m\u001b[0mnp\u001b[0m\u001b[0;34m.\u001b[0m\u001b[0mnonzero\u001b[0m\u001b[0;34m(\u001b[0m\u001b[0mexpected\u001b[0m \u001b[0;34m==\u001b[0m \u001b[0;36m0\u001b[0m\u001b[0;34m)\u001b[0m\u001b[0;34m)\u001b[0m\u001b[0;34m)\u001b[0m\u001b[0;34m[\u001b[0m\u001b[0;36m0\u001b[0m\u001b[0;34m]\u001b[0m\u001b[0;34m\u001b[0m\u001b[0;34m\u001b[0m\u001b[0m\n\u001b[0;32m--> 254\u001b[0;31m         raise ValueError(\"The internally computed table of expected \"\n\u001b[0m\u001b[1;32m    255\u001b[0m                          \"frequencies has a zero element at %s.\" % (zeropos,))\n\u001b[1;32m    256\u001b[0m \u001b[0;34m\u001b[0m\u001b[0m\n",
      "\u001b[0;31mValueError\u001b[0m: The internally computed table of expected frequencies has a zero element at (0,)."
     ]
    }
   ],
   "source": [
    "per = itertools.combinations(credit.columns,2)\n",
    "distribution = pd.DataFrame()\n",
    "pearson = []\n",
    "spearman = []\n",
    "kendall = []\n",
    "chi = []\n",
    "tstu = []\n",
    "for i in per:\n",
    "    stat, p1 = pearsonr(credit[i[0]],credit[i[1]])\n",
    "    pearson.append(1 if p1 > 0.05 else 0)\n",
    "    stat, p2 = spearmanr(credit[i[0]],credit[i[1]])\n",
    "    spearman.append(1 if p2 > 0.05 else 0)\n",
    "    stat, p4 = kendalltau(credit[i[0]],credit[i[1]])\n",
    "    kendall.append(1 if p4 > 0.05 else 0)\n",
    "    stat, p3, dof, expected = chi2_contingency(credit[i[0]],credit[i[1]])\n",
    "    chi.append(1 if p3 > 0.05 else 0)\n",
    "    stat, p5 = ttest_ind(credit[i[0]],credit[i[1]])\n",
    "    tstu.append(1 if p5 > 0.05 else 0)\n",
    "distribution['Pearson'] = pearson\n",
    "distribution['Spearman'] = spearman\n",
    "distribution['Kendall'] = kendall\n",
    "distribution['Chi2'] = chi\n",
    "distribution['Tstudent'] = tstu\n",
    "distribution"
   ]
  },
  {
   "cell_type": "code",
   "execution_count": 21,
   "metadata": {},
   "outputs": [
    {
     "name": "stdout",
     "output_type": "stream",
     "text": [
      "stat=482.915, p=0.000\n",
      "Probably different distributions\n"
     ]
    }
   ],
   "source": [
    "# Analysis of variance\n",
    "stat, p = f_oneway(iris[1], iris[2], iris[3], iris[0])\n",
    "print('stat=%.3f, p=%.3f' % (stat, p))\n",
    "if p > 0.05:\n",
    "\tprint('Probably the same distribution')\n",
    "else:\n",
    "\tprint('Probably different distributions')"
   ]
  },
  {
   "cell_type": "markdown",
   "metadata": {},
   "source": [
    "### Outliers"
   ]
  },
  {
   "cell_type": "code",
   "execution_count": 22,
   "metadata": {},
   "outputs": [
    {
     "data": {
      "text/plain": [
       "(array([15, 33]), array([1, 1]))"
      ]
     },
     "execution_count": 22,
     "metadata": {},
     "output_type": "execute_result"
    }
   ],
   "source": [
    "np.where(zscore(iris) >= 2.5)"
   ]
  },
  {
   "cell_type": "code",
   "execution_count": null,
   "metadata": {},
   "outputs": [],
   "source": [
    "np.where(zscore(credit) >= 2.5)"
   ]
  },
  {
   "cell_type": "code",
   "execution_count": null,
   "metadata": {},
   "outputs": [],
   "source": []
  }
 ],
 "metadata": {
  "kernelspec": {
   "display_name": "Python 3",
   "language": "python",
   "name": "python3"
  },
  "language_info": {
   "codemirror_mode": {
    "name": "ipython",
    "version": 3
   },
   "file_extension": ".py",
   "mimetype": "text/x-python",
   "name": "python",
   "nbconvert_exporter": "python",
   "pygments_lexer": "ipython3",
   "version": "3.7.6"
  }
 },
 "nbformat": 4,
 "nbformat_minor": 4
}
