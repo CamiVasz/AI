{
 "cells": [
  {
   "cell_type": "markdown",
   "metadata": {},
   "source": [
    "# K-means clustering\n",
    "_María Camila Vásquez Correa_"
   ]
  },
  {
   "cell_type": "markdown",
   "metadata": {},
   "source": [
    "### Necessary packages"
   ]
  },
  {
   "cell_type": "code",
   "execution_count": 22,
   "metadata": {},
   "outputs": [],
   "source": [
    "import numpy as np\n",
    "import pandas as pd\n",
    "import matplotlib.pyplot as plt\n",
    "from sklearn.datasets import load_iris\n",
    "from scipy.spatial.distance import cdist\n",
    "%matplotlib inline"
   ]
  },
  {
   "cell_type": "markdown",
   "metadata": {},
   "source": [
    "## Data loading\n",
    "We will load the data, the higher dimensional data and the embbeding"
   ]
  },
  {
   "cell_type": "code",
   "execution_count": 23,
   "metadata": {},
   "outputs": [],
   "source": [
    "n = 150  # Number of samples\n",
    "N = 4    # Number of features\n",
    "X = load_iris().data.T\n",
    "# Normalization\n",
    "for i in range(N):\n",
    "    X[i] = X[i]/np.max(X[i])\n",
    "X = X.T\n",
    "Y = pd.read_csv('iris_embbeding.csv').values\n",
    "X1 = pd.read_csv('high_dimension_iris.csv').values"
   ]
  },
  {
   "cell_type": "markdown",
   "metadata": {},
   "source": [
    "### Parameters"
   ]
  },
  {
   "cell_type": "code",
   "execution_count": 25,
   "metadata": {},
   "outputs": [],
   "source": [
    "k = 3\n",
    "epsilon = 0.005\n",
    "n_iter = 1000\n",
    "metric = 'euclidean'"
   ]
  },
  {
   "cell_type": "code",
   "execution_count": 27,
   "metadata": {},
   "outputs": [],
   "source": [
    "def cost_function(clusters, data):\n",
    "    A = data.reshape((*data.shape,1))\n",
    "    B = clusters.reshape((1,*clusters.shape))\n",
    "    J = cdist(clusters, data, metric = metric) \n",
    "    J = np.sum(np.min(J, axis=-1))\n",
    "    return J"
   ]
  },
  {
   "cell_type": "code",
   "execution_count": 30,
   "metadata": {},
   "outputs": [],
   "source": [
    "# Compute the matrix U\n",
    "def compute_U(clusters, data):\n",
    "    U = cdist(clusters, data, metric = metric).T \n",
    "    U = np.argmin(U, axis=-1)    \n",
    "    return U"
   ]
  },
  {
   "cell_type": "code",
   "execution_count": 31,
   "metadata": {},
   "outputs": [],
   "source": [
    "def update_cluster(U, data):\n",
    "    c = np.arange(k).reshape(k,1)\n",
    "    mask = U == c\n",
    "    mask = np.expand_dims(mask,axis = -1)\n",
    "    A = np.expand_dims(data, axis = 0)\n",
    "    mask = np.where(mask, A, np.nan)\n",
    "    new_cluster = np.nanmean(mask, axis = 1)\n",
    "    return new_cluster"
   ]
  },
  {
   "cell_type": "code",
   "execution_count": 28,
   "metadata": {},
   "outputs": [],
   "source": [
    "# Initialize the centers\n",
    "c_random = np.random.randint(0,n,k)\n",
    "clusters = X[c_random]\n",
    "cluster_index = c_random"
   ]
  },
  {
   "cell_type": "code",
   "execution_count": 32,
   "metadata": {},
   "outputs": [],
   "source": [
    "# Ciclo principal\n",
    "J = np.inf\n",
    "i = 0\n",
    "while (J > epsilon) & (i < n_iter):\n",
    "    # computar la matrix U\n",
    "    U = compute_U(clusters, X)\n",
    "    # computar el costo\n",
    "    J = cost_function(clusters, X)\n",
    "    # actualizar los clusters\n",
    "    clusters = update_cluster(U = U, data = X)\n",
    "    i += 1"
   ]
  },
  {
   "cell_type": "code",
   "execution_count": 33,
   "metadata": {},
   "outputs": [
    {
     "data": {
      "text/plain": [
       "array([[0.63367089, 0.77909091, 0.21188406, 0.0984    ],\n",
       "       [0.7591371 , 0.62900128, 0.65625638, 0.58478873],\n",
       "       [0.87472719, 0.71081505, 0.84507746, 0.88      ]])"
      ]
     },
     "execution_count": 33,
     "metadata": {},
     "output_type": "execute_result"
    }
   ],
   "source": [
    "clusters"
   ]
  },
  {
   "cell_type": "code",
   "execution_count": 36,
   "metadata": {},
   "outputs": [
    {
     "data": {
      "image/png": "[encoded data removed]",
      "text/plain": [
       "<Figure size 432x288 with 1 Axes>"
      ]
     },
     "metadata": {
      "needs_background": "light"
     },
     "output_type": "display_data"
    }
   ],
   "source": [
    "plt.scatter(Y[:, 0], Y[:, 1], c=U, cmap = 'inferno')\n",
    "plt.show()"
   ]
  },
  {
   "cell_type": "code",
   "execution_count": null,
   "metadata": {},
   "outputs": [],
   "source": []
  }
 ],
 "metadata": {
  "kernelspec": {
   "display_name": "Python 3",
   "language": "python",
   "name": "python3"
  },
  "language_info": {
   "codemirror_mode": {
    "name": "ipython",
    "version": 3
   },
   "file_extension": ".py",
   "mimetype": "text/x-python",
   "name": "python",
   "nbconvert_exporter": "python",
   "pygments_lexer": "ipython3",
   "version": "3.8.1"
  }
 },
 "nbformat": 4,
 "nbformat_minor": 4
}
