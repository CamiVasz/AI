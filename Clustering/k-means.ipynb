{
 "cells": [
  {
   "cell_type": "markdown",
   "metadata": {},
   "source": [
    "# K-means clustering\n",
    "_María Camila Vásquez Correa_"
   ]
  },
  {
   "cell_type": "markdown",
   "metadata": {},
   "source": [
    "### Necessary packages"
   ]
  },
  {
   "cell_type": "code",
   "execution_count": 1,
   "metadata": {},
   "outputs": [],
   "source": [
    "import numpy as np\n",
    "import pandas as pd\n",
    "import matplotlib.pyplot as plt\n",
    "from sklearn.datasets import load_iris\n",
    "from scipy.spatial.distance import cdist\n",
    "from sklearn.metrics import davies_bouldin_score as db\n",
    "from sklearn.metrics import calinski_harabasz_score as ch\n",
    "%matplotlib inline"
   ]
  },
  {
   "cell_type": "markdown",
   "metadata": {},
   "source": [
    "## Data loading\n",
    "We will load the data, the higher dimensional data and the embbeding"
   ]
  },
  {
   "cell_type": "code",
   "execution_count": 2,
   "metadata": {},
   "outputs": [],
   "source": [
    "n1 = 150  # Number of samples\n",
    "N1 = 4    # Number of features\n",
    "i1 = load_iris().data.T\n",
    "# Normalization\n",
    "for i in range(N1):\n",
    "    i1[i] = i1[i]/np.max(i1[i])\n",
    "i1 = i1.T\n",
    "ie = pd.read_csv('data/iris_embbeding.csv').values\n",
    "i2 = pd.read_csv('data/high_dimension_iris.csv').values"
   ]
  },
  {
   "cell_type": "code",
   "execution_count": 118,
   "metadata": {},
   "outputs": [
    {
     "data": {
      "text/plain": [
       "(150, 8)"
      ]
     },
     "execution_count": 118,
     "metadata": {},
     "output_type": "execute_result"
    }
   ],
   "source": [
    "i2.shape"
   ]
  },
  {
   "cell_type": "code",
   "execution_count": 4,
   "metadata": {},
   "outputs": [],
   "source": [
    "n2 = 284807  # Number of samples\n",
    "N2 = 29    # Number of features\n",
    "c1 = pd.read_csv('data/creditcard.csv')\n",
    "c1.drop('Time', axis=1)\n",
    "c1.drop('Class', axis = 1)\n",
    "c1 = c1.values.T\n",
    "# Normalization\n",
    "for i in range(N2):\n",
    "    c1[i] = c1[i]/np.max(c1[i])\n",
    "c1 = c1.T\n",
    "ce = pd.read_csv('data/credit_embbeding.csv').values\n",
    "c2 = pd.read_csv('data/credit_pca.csv').values"
   ]
  },
  {
   "cell_type": "markdown",
   "metadata": {},
   "source": [
    "### Parameters"
   ]
  },
  {
   "cell_type": "code",
   "execution_count": 3,
   "metadata": {},
   "outputs": [],
   "source": [
    "# Data\n",
    "X = i1\n",
    "Y = ie\n",
    "N = 4\n",
    "n = n1"
   ]
  },
  {
   "cell_type": "code",
   "execution_count": 47,
   "metadata": {},
   "outputs": [],
   "source": [
    "k = 3\n",
    "epsilon = 0.005\n",
    "n_iter = 10000\n",
    "metric = 'cosine'"
   ]
  },
  {
   "cell_type": "code",
   "execution_count": 48,
   "metadata": {},
   "outputs": [],
   "source": [
    "def cost_function(clusters, data, metric):\n",
    "    A = data.reshape((*data.shape,1))\n",
    "    B = clusters.reshape((1,*clusters.shape))\n",
    "    J = cdist(clusters, data, metric=metric) \n",
    "    J = np.sum(np.min(J, axis=-1))\n",
    "    return J"
   ]
  },
  {
   "cell_type": "code",
   "execution_count": 49,
   "metadata": {},
   "outputs": [],
   "source": [
    "# Compute the matrix U\n",
    "def compute_U(clusters, data, metric):\n",
    "    U = cdist(clusters, data, metric=metric).T \n",
    "    U = np.argmin(U, axis=-1)    \n",
    "    return U"
   ]
  },
  {
   "cell_type": "code",
   "execution_count": 50,
   "metadata": {},
   "outputs": [],
   "source": [
    "def update_cluster(U, data, k):\n",
    "    c = np.arange(k).reshape(k,1)\n",
    "    mask = U == c\n",
    "    mask = np.expand_dims(mask, axis=-1)\n",
    "    A = np.expand_dims(data, axis=0)\n",
    "    mask = np.where(mask, A, np.nan)\n",
    "    new_cluster = np.nanmedian(mask, axis=1)\n",
    "    return new_cluster"
   ]
  },
  {
   "cell_type": "code",
   "execution_count": 51,
   "metadata": {},
   "outputs": [],
   "source": [
    "# Initialize the centers\n",
    "c_random = np.random.randint(0,n,k)\n",
    "clusters = X[c_random]\n",
    "cluster_index = c_random"
   ]
  },
  {
   "cell_type": "code",
   "execution_count": 52,
   "metadata": {},
   "outputs": [],
   "source": [
    "# Ciclo principal\n",
    "Jdiff = np.inf\n",
    "Jprev = np.inf\n",
    "i = 0\n",
    "while (Jdiff > epsilon) & (i < n_iter):\n",
    "    # computar la matrix U\n",
    "    U = compute_U(clusters, X, metric)\n",
    "    # computar el costo\n",
    "    J = cost_function(clusters, X, metric)\n",
    "    # actualizar los clusters\n",
    "    clusters = update_cluster(U, X, k)\n",
    "    Jdiff = np.abs(J-Jprev)\n",
    "    Jprev = J\n",
    "    i += 1"
   ]
  },
  {
   "cell_type": "code",
   "execution_count": 53,
   "metadata": {},
   "outputs": [
    {
     "data": {
      "text/plain": [
       "array([[0.7721519 , 0.65909091, 0.65217391, 0.56      ],\n",
       "       [0.63291139, 0.77272727, 0.2173913 , 0.08      ],\n",
       "       [0.82278481, 0.63636364, 0.8115942 , 0.84      ]])"
      ]
     },
     "execution_count": 53,
     "metadata": {},
     "output_type": "execute_result"
    }
   ],
   "source": [
    "clusters"
   ]
  },
  {
   "cell_type": "code",
   "execution_count": 54,
   "metadata": {},
   "outputs": [
    {
     "data": {
      "text/plain": [
       "0.8773273214015377"
      ]
     },
     "execution_count": 54,
     "metadata": {},
     "output_type": "execute_result"
    }
   ],
   "source": [
    "db(i1,U)"
   ]
  },
  {
   "cell_type": "code",
   "execution_count": 55,
   "metadata": {},
   "outputs": [
    {
     "data": {
      "text/plain": [
       "387.2921063625962"
      ]
     },
     "execution_count": 55,
     "metadata": {},
     "output_type": "execute_result"
    }
   ],
   "source": [
    "ch(i1,U)"
   ]
  },
  {
   "cell_type": "code",
   "execution_count": 37,
   "metadata": {},
   "outputs": [],
   "source": [
    "euclidean_db = [0.3909436582743716, 0.7232712047177438, 1.0014790529665518, 1.2432067519255996]\n"
   ]
  },
  {
   "cell_type": "code",
   "execution_count": null,
   "metadata": {},
   "outputs": [],
   "source": [
    "cosine_db = [0.3909436582743716,0.8773273214015377]\n",
    "cosine_ch = [497.9998912469485, 387.2921063625962]"
   ]
  },
  {
   "cell_type": "code",
   "execution_count": 155,
   "metadata": {},
   "outputs": [],
   "source": [
    "clusters_k = np.array([[0.63367089, 0.77909091, 0.21188406, 0.0984    ],\n",
    "       [0.79265823, 0.65272727, 0.71101449, 0.6704    ]])\n",
    "clusters_s = np.array([[0.75949367, 0.65909091, 0.65217391, 0.6       ],\n",
    "       [0.63291139, 0.77272727, 0.2173913 , 0.08      ]])\n",
    "clusters_c = np.array([[0.80143115, 0.65986054, 0.72592682, 0.68978651],\n",
    "       [0.6369838 , 0.76807774, 0.23024839, 0.1186182 ]])\n",
    "clusters_m = np.array([[0.7721519 , 0.72727273, 0.57246377, 0.52      ],\n",
    "       [0.65822785, 0.72727273, 0.35869565, 0.04      ]])"
   ]
  },
  {
   "cell_type": "code",
   "execution_count": 157,
   "metadata": {},
   "outputs": [
    {
     "data": {
      "image/png": "[encoded data removed]",
      "text/plain": [
       "<Figure size 432x288 with 1 Axes>"
      ]
     },
     "metadata": {
      "needs_background": "light"
     },
     "output_type": "display_data"
    }
   ],
   "source": [
    "plt.scatter(i1[:, 0], i1[:, 1], c=U, cmap = 'Pastel1')\n",
    "plt.scatter(clusters_k[:,0], clusters_k[:,1], c='b',marker = 'D', label = 'k-means')\n",
    "plt.scatter(clusters[:,0], clusters[:,1], c='r',marker = 'X', label = 'k-medians')\n",
    "plt.scatter(clusters_s[:,0], clusters_s[:,1], c='k', marker = 'p', label = 'subtractive')\n",
    "plt.scatter(clusters_c[:,0], clusters_c[:,1], c='m', marker = 'P', label = 'c-means')\n",
    "plt.scatter(clusters_m[:,0], clusters_m[:,1], c='g', label = 'mountain')\n",
    "plt.title('Clusters found by the different clustering algorithms')\n",
    "plt.legend()\n",
    "plt.show()"
   ]
  },
  {
   "cell_type": "code",
   "execution_count": 168,
   "metadata": {},
   "outputs": [
    {
     "data": {
      "image/png": "[encoded data removed]",
      "text/plain": [
       "<Figure size 432x288 with 1 Axes>"
      ]
     },
     "metadata": {
      "needs_background": "light"
     },
     "output_type": "display_data"
    }
   ],
   "source": [
    "plt.scatter(Y[:,0], Y[:,1], c=U, cmap = 'viridis')\n",
    "plt.show()"
   ]
  },
  {
   "cell_type": "code",
   "execution_count": 31,
   "metadata": {},
   "outputs": [
    {
     "data": {
      "text/plain": [
       "array([ 75, 134, 130])"
      ]
     },
     "execution_count": 31,
     "metadata": {},
     "output_type": "execute_result"
    }
   ],
   "source": [
    "import gc\n",
    "random_seed = 12\n",
    "rng = np.random.RandomState(random_seed)  # random_seed\n",
    "rng.randint(0,150,3)"
   ]
  },
  {
   "cell_type": "code",
   "execution_count": 38,
   "metadata": {},
   "outputs": [],
   "source": [
    "def kmeans(X,k,metric):\n",
    "    #n_iter = 10000\n",
    "    gc.enable()\n",
    "    N, n = X.shape\n",
    "    # Initialize the centers\n",
    "    c_random = rng.randint(0,n,k)\n",
    "    clusters = X[c_random]\n",
    "    cluster_index = c_random\n",
    "    # Ciclo principal\n",
    "    Jdiff = np.inf\n",
    "    Jprev = np.inf\n",
    "    i = 0\n",
    "    while (Jdiff > epsilon): #& (i < n_iter):\n",
    "        # computar la matrix U\n",
    "        U = compute_U(clusters, X, metric)\n",
    "        # computar el costo\n",
    "        J = cost_function(clusters, X, metric)\n",
    "        # actualizar los clusters\n",
    "        clusters = update_cluster(U, X, k)\n",
    "        Jdiff = np.abs(J-Jprev)\n",
    "        Jprev = J\n",
    "        i += 1\n",
    "    return clusters"
   ]
  },
  {
   "cell_type": "code",
   "execution_count": 67,
   "metadata": {},
   "outputs": [
    {
     "data": {
      "text/plain": [
       "array([[0.79265823, 0.65272727, 0.71101449, 0.6704    ],\n",
       "       [0.63367089, 0.77909091, 0.21188406, 0.0984    ]])"
      ]
     },
     "execution_count": 67,
     "metadata": {},
     "output_type": "execute_result"
    }
   ],
   "source": [
    "kmeans(i1,2,'cityblock')"
   ]
  },
  {
   "cell_type": "code",
   "execution_count": 79,
   "metadata": {},
   "outputs": [
    {
     "name": "stderr",
     "output_type": "stream",
     "text": [
      "<ipython-input-17-ecbd5faad018>:7: RuntimeWarning: Mean of empty slice\n",
      "  new_cluster = np.nanmean(mask, axis=1)\n"
     ]
    },
    {
     "data": {
      "text/plain": [
       "array([[       nan,        nan,        nan,        nan],\n",
       "       [       nan,        nan,        nan,        nan],\n",
       "       [0.73966245, 0.69484848, 0.54463768, 0.47973333]])"
      ]
     },
     "execution_count": 79,
     "metadata": {},
     "output_type": "execute_result"
    }
   ],
   "source": [
    "kmeans(i1,3,'cityblock')"
   ]
  },
  {
   "cell_type": "code",
   "execution_count": 92,
   "metadata": {},
   "outputs": [
    {
     "name": "stderr",
     "output_type": "stream",
     "text": [
      "<ipython-input-17-ecbd5faad018>:7: RuntimeWarning: Mean of empty slice\n",
      "  new_cluster = np.nanmean(mask, axis=1)\n"
     ]
    },
    {
     "data": {
      "text/plain": [
       "array([[       nan,        nan,        nan,        nan],\n",
       "       [       nan,        nan,        nan,        nan],\n",
       "       [       nan,        nan,        nan,        nan],\n",
       "       [0.73966245, 0.69484848, 0.54463768, 0.47973333],\n",
       "       [       nan,        nan,        nan,        nan]])"
      ]
     },
     "execution_count": 92,
     "metadata": {},
     "output_type": "execute_result"
    }
   ],
   "source": [
    "kmeans(i1,5,'cityblock')"
   ]
  },
  {
   "cell_type": "code",
   "execution_count": null,
   "metadata": {},
   "outputs": [],
   "source": []
  },
  {
   "cell_type": "code",
   "execution_count": null,
   "metadata": {},
   "outputs": [],
   "source": []
  }
 ],
 "metadata": {
  "kernelspec": {
   "display_name": "Python 3",
   "language": "python",
   "name": "python3"
  },
  "language_info": {
   "codemirror_mode": {
    "name": "ipython",
    "version": 3
   },
   "file_extension": ".py",
   "mimetype": "text/x-python",
   "name": "python",
   "nbconvert_exporter": "python",
   "pygments_lexer": "ipython3",
   "version": "3.8.1"
  }
 },
 "nbformat": 4,
 "nbformat_minor": 4
}
