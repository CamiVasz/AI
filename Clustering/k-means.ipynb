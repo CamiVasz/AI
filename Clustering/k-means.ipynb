{
 "cells": [
  {
   "cell_type": "markdown",
   "metadata": {},
   "source": [
    "# K-means clustering\n",
    "_María Camila Vásquez Correa_"
   ]
  },
  {
   "cell_type": "markdown",
   "metadata": {},
   "source": [
    "### Necessary packages"
   ]
  },
  {
   "cell_type": "code",
   "execution_count": 1,
   "metadata": {},
   "outputs": [],
   "source": [
    "import numpy as np\n",
    "import pandas as pd\n",
    "import matplotlib.pyplot as plt\n",
    "from sklearn.datasets import load_iris\n",
    "from scipy.spatial.distance import cdist\n",
    "%matplotlib inline"
   ]
  },
  {
   "cell_type": "markdown",
   "metadata": {},
   "source": [
    "## Data loading\n",
    "We will load the data, the higher dimensional data and the embbeding"
   ]
  },
  {
   "cell_type": "code",
   "execution_count": 2,
   "metadata": {},
   "outputs": [],
   "source": [
    "n1 = 150  # Number of samples\n",
    "N1 = 4    # Number of features\n",
    "i1 = load_iris().data.T\n",
    "# Normalization\n",
    "for i in range(N1):\n",
    "    i1[i] = i1[i]/np.max(i1[i])\n",
    "i1 = i1.T\n",
    "ie = pd.read_csv('iris_embbeding.csv').values\n",
    "i2 = pd.read_csv('high_dimension_iris.csv').values"
   ]
  },
  {
   "cell_type": "code",
   "execution_count": 3,
   "metadata": {},
   "outputs": [],
   "source": [
    "n2 = 284807  # Number of samples\n",
    "N2 = 29    # Number of features\n",
    "c1 = pd.read_csv('creditcard.csv')\n",
    "c1.drop('Time', axis=1)\n",
    "c1.drop('Class', axis = 1)\n",
    "c1 = c1.values.T\n",
    "# Normalization\n",
    "for i in range(N2):\n",
    "    c1[i] = c1[i]/np.max(c1[i])\n",
    "c1 = c1.T\n",
    "ce = pd.read_csv('credit_embbeding.csv').values\n",
    "c2 = pd.read_csv('credit_pca.csv').values"
   ]
  },
  {
   "cell_type": "markdown",
   "metadata": {},
   "source": [
    "### Parameters"
   ]
  },
  {
   "cell_type": "code",
   "execution_count": 4,
   "metadata": {},
   "outputs": [],
   "source": [
    "# Data\n",
    "X = i1\n",
    "Y = ie\n",
    "N = N1\n",
    "n = n1"
   ]
  },
  {
   "cell_type": "code",
   "execution_count": 23,
   "metadata": {},
   "outputs": [],
   "source": [
    "k = 7\n",
    "epsilon = 0.005\n",
    "n_iter = 10000\n",
    "metric = 'euclidean'"
   ]
  },
  {
   "cell_type": "code",
   "execution_count": 15,
   "metadata": {},
   "outputs": [],
   "source": [
    "def cost_function(clusters, data, metric):\n",
    "    A = data.reshape((*data.shape,1))\n",
    "    B = clusters.reshape((1,*clusters.shape))\n",
    "    J = cdist(clusters, data, metric=metric) \n",
    "    J = np.sum(np.min(J, axis=-1))\n",
    "    return J"
   ]
  },
  {
   "cell_type": "code",
   "execution_count": 16,
   "metadata": {},
   "outputs": [],
   "source": [
    "# Compute the matrix U\n",
    "def compute_U(clusters, data, metric):\n",
    "    U = cdist(clusters, data, metric=metric).T \n",
    "    U = np.argmin(U, axis=-1)    \n",
    "    return U"
   ]
  },
  {
   "cell_type": "code",
   "execution_count": 17,
   "metadata": {},
   "outputs": [],
   "source": [
    "def update_cluster(U, data, k):\n",
    "    c = np.arange(k).reshape(k,1)\n",
    "    mask = U == c\n",
    "    mask = np.expand_dims(mask, axis=-1)\n",
    "    A = np.expand_dims(data, axis=0)\n",
    "    mask = np.where(mask, A, np.nan)\n",
    "    new_cluster = np.nanmean(mask, axis=1)\n",
    "    return new_cluster"
   ]
  },
  {
   "cell_type": "code",
   "execution_count": 18,
   "metadata": {},
   "outputs": [
    {
     "data": {
      "text/plain": [
       "(150, 4)"
      ]
     },
     "execution_count": 18,
     "metadata": {},
     "output_type": "execute_result"
    }
   ],
   "source": [
    "X.shape"
   ]
  },
  {
   "cell_type": "code",
   "execution_count": 24,
   "metadata": {},
   "outputs": [],
   "source": [
    "# Initialize the centers\n",
    "c_random = np.random.randint(0,n,k)\n",
    "clusters = X[c_random]\n",
    "cluster_index = c_random"
   ]
  },
  {
   "cell_type": "code",
   "execution_count": 25,
   "metadata": {},
   "outputs": [],
   "source": [
    "# Ciclo principal\n",
    "Jdiff = np.inf\n",
    "Jprev = np.inf\n",
    "i = 0\n",
    "while (Jdiff > epsilon) & (i < n_iter):\n",
    "    # computar la matrix U\n",
    "    U = compute_U(clusters, X, metric)\n",
    "    # computar el costo\n",
    "    J = cost_function(clusters, X, metric)\n",
    "    # actualizar los clusters\n",
    "    clusters = update_cluster(U, X, 3)\n",
    "    Jdiff = np.abs(J-Jprev)\n",
    "    Jprev = J\n",
    "    i += 1"
   ]
  },
  {
   "cell_type": "code",
   "execution_count": 26,
   "metadata": {},
   "outputs": [
    {
     "data": {
      "text/plain": [
       "array([[0.82349795, 0.67797695, 0.76587059, 0.74816901],\n",
       "       [0.63367089, 0.77909091, 0.21188406, 0.0984    ],\n",
       "       [0.71715408, 0.59090909, 0.57671164, 0.48      ]])"
      ]
     },
     "execution_count": 26,
     "metadata": {},
     "output_type": "execute_result"
    }
   ],
   "source": [
    "clusters"
   ]
  },
  {
   "cell_type": "code",
   "execution_count": 27,
   "metadata": {},
   "outputs": [
    {
     "data": {
      "image/png": "[encoded data removed]",
      "text/plain": [
       "<Figure size 432x288 with 1 Axes>"
      ]
     },
     "metadata": {
      "needs_background": "light"
     },
     "output_type": "display_data"
    }
   ],
   "source": [
    "plt.scatter(Y[:, 0], Y[:, 1], c=U, cmap = 'inferno')\n",
    "plt.show()"
   ]
  },
  {
   "cell_type": "code",
   "execution_count": 31,
   "metadata": {},
   "outputs": [
    {
     "data": {
      "text/plain": [
       "array([ 75, 134, 130])"
      ]
     },
     "execution_count": 31,
     "metadata": {},
     "output_type": "execute_result"
    }
   ],
   "source": [
    "import gc\n",
    "random_seed = 12\n",
    "rng = np.random.RandomState(random_seed)  # random_seed\n",
    "rng.randint(0,150,3)"
   ]
  },
  {
   "cell_type": "code",
   "execution_count": 38,
   "metadata": {},
   "outputs": [],
   "source": [
    "def kmeans(X,k,metric):\n",
    "    #n_iter = 10000\n",
    "    gc.enable()\n",
    "    N, n = X.shape\n",
    "    # Initialize the centers\n",
    "    c_random = rng.randint(0,n,k)\n",
    "    clusters = X[c_random]\n",
    "    cluster_index = c_random\n",
    "    # Ciclo principal\n",
    "    Jdiff = np.inf\n",
    "    Jprev = np.inf\n",
    "    i = 0\n",
    "    while (Jdiff > epsilon): #& (i < n_iter):\n",
    "        # computar la matrix U\n",
    "        U = compute_U(clusters, X, metric)\n",
    "        # computar el costo\n",
    "        J = cost_function(clusters, X, metric)\n",
    "        # actualizar los clusters\n",
    "        clusters = update_cluster(U, X, k)\n",
    "        Jdiff = np.abs(J-Jprev)\n",
    "        Jprev = J\n",
    "        i += 1\n",
    "    return clusters"
   ]
  },
  {
   "cell_type": "code",
   "execution_count": 67,
   "metadata": {},
   "outputs": [
    {
     "data": {
      "text/plain": [
       "array([[0.79265823, 0.65272727, 0.71101449, 0.6704    ],\n",
       "       [0.63367089, 0.77909091, 0.21188406, 0.0984    ]])"
      ]
     },
     "execution_count": 67,
     "metadata": {},
     "output_type": "execute_result"
    }
   ],
   "source": [
    "kmeans(i1,2,'cityblock')"
   ]
  },
  {
   "cell_type": "code",
   "execution_count": 79,
   "metadata": {},
   "outputs": [
    {
     "name": "stderr",
     "output_type": "stream",
     "text": [
      "<ipython-input-17-ecbd5faad018>:7: RuntimeWarning: Mean of empty slice\n",
      "  new_cluster = np.nanmean(mask, axis=1)\n"
     ]
    },
    {
     "data": {
      "text/plain": [
       "array([[       nan,        nan,        nan,        nan],\n",
       "       [       nan,        nan,        nan,        nan],\n",
       "       [0.73966245, 0.69484848, 0.54463768, 0.47973333]])"
      ]
     },
     "execution_count": 79,
     "metadata": {},
     "output_type": "execute_result"
    }
   ],
   "source": [
    "kmeans(i1,3,'cityblock')"
   ]
  },
  {
   "cell_type": "code",
   "execution_count": 92,
   "metadata": {},
   "outputs": [
    {
     "name": "stderr",
     "output_type": "stream",
     "text": [
      "<ipython-input-17-ecbd5faad018>:7: RuntimeWarning: Mean of empty slice\n",
      "  new_cluster = np.nanmean(mask, axis=1)\n"
     ]
    },
    {
     "data": {
      "text/plain": [
       "array([[       nan,        nan,        nan,        nan],\n",
       "       [       nan,        nan,        nan,        nan],\n",
       "       [       nan,        nan,        nan,        nan],\n",
       "       [0.73966245, 0.69484848, 0.54463768, 0.47973333],\n",
       "       [       nan,        nan,        nan,        nan]])"
      ]
     },
     "execution_count": 92,
     "metadata": {},
     "output_type": "execute_result"
    }
   ],
   "source": [
    "kmeans(i1,5,'cityblock')"
   ]
  },
  {
   "cell_type": "code",
   "execution_count": null,
   "metadata": {},
   "outputs": [],
   "source": []
  },
  {
   "cell_type": "code",
   "execution_count": null,
   "metadata": {},
   "outputs": [],
   "source": []
  }
 ],
 "metadata": {
  "kernelspec": {
   "display_name": "Python 3",
   "language": "python",
   "name": "python3"
  },
  "language_info": {
   "codemirror_mode": {
    "name": "ipython",
    "version": 3
   },
   "file_extension": ".py",
   "mimetype": "text/x-python",
   "name": "python",
   "nbconvert_exporter": "python",
   "pygments_lexer": "ipython3",
   "version": "3.8.1"
  }
 },
 "nbformat": 4,
 "nbformat_minor": 4
}
