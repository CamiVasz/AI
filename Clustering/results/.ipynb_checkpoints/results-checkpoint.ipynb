{
 "cells": [
  {
   "cell_type": "markdown",
   "metadata": {},
   "source": [
    "# Result analysis\n",
    "_María Camila Vásquez Correa_"
   ]
  },
  {
   "cell_type": "code",
   "execution_count": 6,
   "metadata": {},
   "outputs": [],
   "source": [
    "import pickle\n",
    "import gc\n",
    "gc.enable()\n",
    "import pandas as pd\n",
    "from sklearn.datasets import load_iris\n",
    "from scipy.spatial.distance import cdist\n",
    "import numpy as np\n",
    "from matplotlib import pyplot as plt\n",
    "from tqdm import tqdm\n",
    "from sklearn.metrics import davies_bouldin_score as db\n",
    "from sklearn.metrics import calinski_harabasz_score as ch"
   ]
  },
  {
   "cell_type": "code",
   "execution_count": 7,
   "metadata": {},
   "outputs": [],
   "source": [
    "# Data loading\n",
    "n1 = 150  # Number of samples\n",
    "N1 = 4    # Number of features\n",
    "i1 = load_iris().data.T\n",
    "# Normalization\n",
    "for i in range(N1):\n",
    "    i1[i] = i1[i]/np.max(i1[i])\n",
    "i1 = i1.T\n",
    "ie = pd.read_csv('../data/iris_embbeding.csv').values\n",
    "i2 = pd.read_csv('../data/high_dimension_iris.csv').values"
   ]
  },
  {
   "cell_type": "code",
   "execution_count": 8,
   "metadata": {},
   "outputs": [],
   "source": [
    "n2 = 284807  # Number of samples\n",
    "N2 = 29    # Number of features\n",
    "c1 = pd.read_csv('../data/creditcard.csv')\n",
    "c1 = c1.drop('Time', axis=1)\n",
    "c1 = c1.drop('Class', axis = 1)\n",
    "c1 = c1.values.T\n",
    "# Normalization\n",
    "for i in range(N2):\n",
    "    c1[i] = c1[i]/np.max(c1[i])\n",
    "c1 = c1.T\n",
    "ce = pd.read_csv('../data/credit_embbeding.csv').values\n",
    "c2 = pd.read_csv('../data/credit_pca.csv').values"
   ]
  },
  {
   "cell_type": "markdown",
   "metadata": {},
   "source": [
    "## Subtractive clustering"
   ]
  },
  {
   "cell_type": "code",
   "execution_count": 9,
   "metadata": {},
   "outputs": [],
   "source": [
    "with open('subtractive_iris.pickle', 'rb') as f:\n",
    "    s_iris = pickle.load(f)"
   ]
  },
  {
   "cell_type": "code",
   "execution_count": 10,
   "metadata": {},
   "outputs": [],
   "source": [
    "with open('subtractive_credit.pickle', 'rb') as f:\n",
    "    s_credit = pickle.load(f)"
   ]
  },
  {
   "cell_type": "code",
   "execution_count": 11,
   "metadata": {},
   "outputs": [],
   "source": [
    "keys = list(s_credit.keys())\n",
    "keys_i = list(s_iris.keys())"
   ]
  },
  {
   "cell_type": "code",
   "execution_count": 22,
   "metadata": {},
   "outputs": [
    {
     "data": {
      "text/plain": [
       "array([[0.75949367, 0.65909091, 0.65217391, 0.6       ],\n",
       "       [0.63291139, 0.77272727, 0.2173913 , 0.08      ]])"
      ]
     },
     "execution_count": 22,
     "metadata": {},
     "output_type": "execute_result"
    }
   ],
   "source": [
    "s_iris['00.7euclidean']"
   ]
  },
  {
   "cell_type": "code",
   "execution_count": 38,
   "metadata": {},
   "outputs": [],
   "source": [
    "c1_db = pd.DataFrame(index=['0.4','0.5','0.7'])\n",
    "c1_ch = pd.DataFrame(index=['0.4','0.5','0.7'])\n",
    "c1_n = pd.DataFrame(index=['0.4','0.5','0.7'])\n",
    "for i in range(3):\n",
    "    a = []\n",
    "    b = []\n",
    "    c = []\n",
    "    for j in range(3):\n",
    "        A = s_credit[keys[i*3+j]]\n",
    "        metric = keys[i*3+j][4:]\n",
    "        U = cdist(A, c1, metric = metric).T \n",
    "        U = np.argmin(U, axis=-1)\n",
    "        a.append(ch(c1,U))\n",
    "        b.append(db(c1,U))\n",
    "        c.append(len(A))\n",
    "    c1_db[metric] = b\n",
    "    c1_ch[metric] = a\n",
    "    c1_n[metric] = c"
   ]
  },
  {
   "cell_type": "code",
   "execution_count": 39,
   "metadata": {},
   "outputs": [],
   "source": [
    "c2_db = pd.DataFrame(index=['0.4','0.5','0.7'])\n",
    "c2_ch = pd.DataFrame(index=['0.4','0.5','0.7'])\n",
    "c2_n = pd.DataFrame(index=['0.4','0.5','0.7'])\n",
    "for i in range(3,6):\n",
    "    a = []\n",
    "    b = []\n",
    "    c = []\n",
    "    for j in range(3):\n",
    "        A = s_credit[keys[i*3+j]]\n",
    "        metric = keys[i*3+j][4:]\n",
    "        U = cdist(A, c2, metric = metric).T \n",
    "        U = np.argmin(U, axis=-1)\n",
    "        a.append(ch(c2,U))\n",
    "        b.append(db(c2,U))\n",
    "        c.append(len(A))\n",
    "    c2_db[metric] = b\n",
    "    c2_ch[metric] = a\n",
    "    c2_n[metric] = c"
   ]
  },
  {
   "cell_type": "code",
   "execution_count": 40,
   "metadata": {},
   "outputs": [],
   "source": [
    "ce_db = pd.DataFrame(index=['0.4','0.5','0.7'])\n",
    "ce_ch = pd.DataFrame(index=['0.4','0.5','0.7'])\n",
    "ce_n = pd.DataFrame(index=['0.4','0.5','0.7'])\n",
    "for i in range(6,9):\n",
    "    a = []\n",
    "    b = []\n",
    "    c = []\n",
    "    for j in range(3):\n",
    "        A = s_credit[keys[i*3+j]]\n",
    "        metric = keys[i*3+j][4:]\n",
    "        U = cdist(A, ce, metric = metric).T \n",
    "        U = np.argmin(U, axis=-1)\n",
    "        a.append(ch(ce,U))\n",
    "        b.append(db(ce,U))\n",
    "        c.append(len(A))\n",
    "    ce_db[metric] = b\n",
    "    ce_ch[metric] = a\n",
    "    ce_n[metric] = c"
   ]
  },
  {
   "cell_type": "code",
   "execution_count": 14,
   "metadata": {},
   "outputs": [],
   "source": [
    "ie_db = pd.DataFrame()\n",
    "ie_ch = pd.DataFrame()\n",
    "ie_n = pd.DataFrame()\n",
    "for i in range(6,9):\n",
    "    a = []\n",
    "    b = []\n",
    "    c = []\n",
    "    for j in range(3):\n",
    "        A = s_iris[keys_i[i*3+j]]\n",
    "        metric = keys_i[i*3+j][4:]\n",
    "        U = cdist(A, ie, metric = metric).T \n",
    "        U = np.argmin(U, axis=-1)\n",
    "        a.append(ch(ie,U))\n",
    "        b.append(db(ie,U))\n",
    "        c.append(len(A))\n",
    "    ie_db[metric] = b\n",
    "    ie_ch[metric] = a\n",
    "    ie_n[metric] = c"
   ]
  },
  {
   "cell_type": "code",
   "execution_count": 15,
   "metadata": {},
   "outputs": [
    {
     "data": {
      "text/html": [
       "<div>\n",
       "<style scoped>\n",
       "    .dataframe tbody tr th:only-of-type {\n",
       "        vertical-align: middle;\n",
       "    }\n",
       "\n",
       "    .dataframe tbody tr th {\n",
       "        vertical-align: top;\n",
       "    }\n",
       "\n",
       "    .dataframe thead th {\n",
       "        text-align: right;\n",
       "    }\n",
       "</style>\n",
       "<table border=\"1\" class=\"dataframe\">\n",
       "  <thead>\n",
       "    <tr style=\"text-align: right;\">\n",
       "      <th></th>\n",
       "      <th>euclidean</th>\n",
       "      <th>cosine</th>\n",
       "      <th>cityblock</th>\n",
       "    </tr>\n",
       "  </thead>\n",
       "  <tbody>\n",
       "    <tr>\n",
       "      <th>0</th>\n",
       "      <td>99</td>\n",
       "      <td>3</td>\n",
       "      <td>99</td>\n",
       "    </tr>\n",
       "    <tr>\n",
       "      <th>1</th>\n",
       "      <td>91</td>\n",
       "      <td>2</td>\n",
       "      <td>99</td>\n",
       "    </tr>\n",
       "    <tr>\n",
       "      <th>2</th>\n",
       "      <td>37</td>\n",
       "      <td>2</td>\n",
       "      <td>48</td>\n",
       "    </tr>\n",
       "  </tbody>\n",
       "</table>\n",
       "</div>"
      ],
      "text/plain": [
       "   euclidean  cosine  cityblock\n",
       "0         99       3         99\n",
       "1         91       2         99\n",
       "2         37       2         48"
      ]
     },
     "execution_count": 15,
     "metadata": {},
     "output_type": "execute_result"
    }
   ],
   "source": [
    "ie_n"
   ]
  },
  {
   "cell_type": "code",
   "execution_count": 16,
   "metadata": {},
   "outputs": [],
   "source": [
    "i1_db = pd.DataFrame()\n",
    "i1_ch = pd.DataFrame()\n",
    "i1_n = pd.DataFrame()\n",
    "for i in range(3):\n",
    "    a = []\n",
    "    b = []\n",
    "    c = []\n",
    "    for j in range(3):\n",
    "        A = s_iris[keys_i[i*3+j]]\n",
    "        metric = keys_i[i*3+j][4:]\n",
    "        U = cdist(A, i1, metric = metric).T \n",
    "        U = np.argmin(U, axis=-1)\n",
    "        try:\n",
    "            a.append(ch(i1,U))\n",
    "        except:\n",
    "            a.append(np.nan)\n",
    "        try:\n",
    "            b.append(db(i1,U))\n",
    "        except:\n",
    "            b.append(np.nan)\n",
    "        c.append(len(A))\n",
    "    i1_db[metric] = b\n",
    "    i1_ch[metric] = a\n",
    "    i1_n[metric] = c"
   ]
  },
  {
   "cell_type": "code",
   "execution_count": 35,
   "metadata": {},
   "outputs": [],
   "source": [
    "i2_db = pd.DataFrame()\n",
    "i2_ch = pd.DataFrame()\n",
    "i2_n = pd.DataFrame(index=['0.4','0.5','0.7'])\n",
    "for i in range(3,6):\n",
    "    a = []\n",
    "    b = []\n",
    "    c = []\n",
    "    for j in range(3):\n",
    "        A = s_iris[keys_i[i*3+j]]\n",
    "        metric = keys_i[i*3+j][4:]\n",
    "        U = cdist(A, i2, metric = metric).T \n",
    "        U = np.argmin(U, axis=-1)\n",
    "        try:\n",
    "            a.append(ch(i2,U))\n",
    "        except:\n",
    "            a.append(np.nan)\n",
    "        try:\n",
    "            b.append(db(i2,U))\n",
    "        except:\n",
    "            b.append(np.nan)\n",
    "        c.append(len(A))\n",
    "    i2_db[metric] = b\n",
    "    i2_ch[metric] = a\n",
    "    i2_n[metric] = c"
   ]
  },
  {
   "cell_type": "markdown",
   "metadata": {},
   "source": [
    "## Mountain clustering"
   ]
  },
  {
   "cell_type": "code",
   "execution_count": 14,
   "metadata": {},
   "outputs": [],
   "source": [
    "with open('mountain_iris.pickle', 'rb') as f:\n",
    "    m_iris = pickle.load(f)"
   ]
  },
  {
   "cell_type": "code",
   "execution_count": 15,
   "metadata": {},
   "outputs": [],
   "source": [
    "with open('mountain_credit2.pickle', 'rb') as f:\n",
    "    m_c2 = pickle.load(f)"
   ]
  },
  {
   "cell_type": "code",
   "execution_count": 16,
   "metadata": {},
   "outputs": [],
   "source": [
    "keys = list(m_c2.keys())\n",
    "keys_i = list(m_iris.keys())"
   ]
  },
  {
   "cell_type": "code",
   "execution_count": 85,
   "metadata": {},
   "outputs": [],
   "source": [
    "c2_db = pd.DataFrame(index=['0.4','0.5','0.7'])\n",
    "c2_ch = pd.DataFrame(index=['0.4','0.5','0.7'])\n",
    "c2_n = pd.DataFrame(index=['0.4','0.5','0.7'])\n",
    "for i in range(3):\n",
    "    a = []\n",
    "    b = []\n",
    "    c = []\n",
    "    for j in range(3):\n",
    "        A = m_c2[keys[i*3+j]]\n",
    "        metric = keys[i*3+j][4:]\n",
    "        U = cdist(A, c2, metric = metric).T \n",
    "        U = np.argmin(U, axis=-1)\n",
    "        a.append(ch(c2,U))\n",
    "        b.append(db(c2,U))\n",
    "        c.append(len(A))\n",
    "    c2_db[metric] = b\n",
    "    c2_ch[metric] = a\n",
    "    c2_n[metric] = c"
   ]
  },
  {
   "cell_type": "code",
   "execution_count": 86,
   "metadata": {},
   "outputs": [],
   "source": [
    "with open('mountain_credit3.pickle', 'rb') as f:\n",
    "    m_c3 = pickle.load(f)"
   ]
  },
  {
   "cell_type": "code",
   "execution_count": 87,
   "metadata": {},
   "outputs": [],
   "source": [
    "keys_e = list(m_c3.keys())"
   ]
  },
  {
   "cell_type": "code",
   "execution_count": 88,
   "metadata": {},
   "outputs": [],
   "source": [
    "ce_db = pd.DataFrame(index=['0.4','0.5','0.7'])\n",
    "ce_ch = pd.DataFrame(index=['0.4','0.5','0.7'])\n",
    "ce_n = pd.DataFrame(index=['0.4','0.5','0.7'])\n",
    "for i in range(3):\n",
    "    a = []\n",
    "    b = []\n",
    "    c = []\n",
    "    for j in range(3):\n",
    "        A = m_c3[keys[i*3+j]]\n",
    "        metric = keys[i*3+j][4:]\n",
    "        U = cdist(A, ce, metric = metric).T \n",
    "        U = np.argmin(U, axis=-1)\n",
    "        a.append(ch(ce,U))\n",
    "        b.append(db(ce,U))\n",
    "        c.append(len(A))\n",
    "    ce_db[metric] = b\n",
    "    ce_ch[metric] = a\n",
    "    ce_n[metric] = c"
   ]
  },
  {
   "cell_type": "code",
   "execution_count": 89,
   "metadata": {},
   "outputs": [],
   "source": [
    "ie_db = pd.DataFrame(index=['0.4','0.5','0.7'])\n",
    "ie_ch = pd.DataFrame(index=['0.4','0.5','0.7'])\n",
    "ie_n = pd.DataFrame(index=['0.4','0.5','0.7'])\n",
    "for i in range(6,9):\n",
    "    a = []\n",
    "    b = []\n",
    "    c = []\n",
    "    for j in range(3):\n",
    "        A = m_iris[keys_i[i*3+j]]\n",
    "        metric = keys_i[i*3+j][4:]\n",
    "        U = cdist(A, ie, metric = metric).T \n",
    "        U = np.argmin(U, axis=-1)\n",
    "        a.append(ch(ie,U))\n",
    "        b.append(db(ie,U))\n",
    "        c.append(len(A))\n",
    "    ie_db[metric] = b\n",
    "    ie_ch[metric] = a\n",
    "    ie_n[metric] = c"
   ]
  },
  {
   "cell_type": "code",
   "execution_count": 101,
   "metadata": {},
   "outputs": [],
   "source": [
    "i1_db = pd.DataFrame(index=['0.4','0.5','0.7'])\n",
    "i1_ch = pd.DataFrame(index=['0.4','0.5','0.7'])\n",
    "i1_n = pd.DataFrame(index=['0.4','0.5','0.7'])\n",
    "for i in range(3):\n",
    "    a = []\n",
    "    b = []\n",
    "    c = []\n",
    "    for j in range(3):\n",
    "        A = m_iris[keys_i[i*3+j]]\n",
    "        metric = keys_i[i*3+j][4:]\n",
    "        U = cdist(A, i1, metric = metric).T \n",
    "        U = np.argmin(U, axis=-1)\n",
    "        try:\n",
    "            a.append(ch(i1,U))\n",
    "        except:\n",
    "            a.append(np.nan)\n",
    "        try:\n",
    "            b.append(db(i1,U))\n",
    "        except:\n",
    "            b.append(np.nan)\n",
    "        c.append(len(A))\n",
    "    i1_db[metric] = b\n",
    "    i1_ch[metric] = a\n",
    "    i1_n[metric] = c"
   ]
  },
  {
   "cell_type": "code",
   "execution_count": 91,
   "metadata": {},
   "outputs": [],
   "source": [
    "i2_db = pd.DataFrame(index=['0.4','0.5','0.7'])\n",
    "i2_ch = pd.DataFrame(index=['0.4','0.5','0.7'])\n",
    "i2_n = pd.DataFrame(index=['0.4','0.5','0.7'])\n",
    "for i in range(3,6):\n",
    "    a = []\n",
    "    b = []\n",
    "    c = []\n",
    "    for j in range(3):\n",
    "        A = m_iris[keys_i[i*3+j]]\n",
    "        metric = keys_i[i*3+j][4:]\n",
    "        U = cdist(A, i2, metric = metric).T \n",
    "        U = np.argmin(U, axis=-1)\n",
    "        try:\n",
    "            a.append(ch(i2,U))\n",
    "        except:\n",
    "            a.append(np.nan)\n",
    "        try:\n",
    "            b.append(db(i2,U))\n",
    "        except:\n",
    "            b.append(np.nan)\n",
    "        c.append(len(A))\n",
    "    i2_db[metric] = b\n",
    "    i2_ch[metric] = a\n",
    "    i2_n[metric] = c"
   ]
  },
  {
   "cell_type": "code",
   "execution_count": 133,
   "metadata": {},
   "outputs": [
    {
     "name": "stdout",
     "output_type": "stream",
     "text": [
      "\\begin{tabular}{lrrr}\n",
      "\\toprule\n",
      "{} &      euclidean &         cosine &      cityblock \\\\\n",
      "\\midrule\n",
      "0.4 &  198415.832838 &  193511.849750 &  188520.438083 \\\\\n",
      "0.5 &  208251.768500 &  207307.628003 &  198415.832838 \\\\\n",
      "0.7 &  208251.768500 &  217172.104734 &  208251.768500 \\\\\n",
      "\\bottomrule\n",
      "\\end{tabular}\n",
      "\n"
     ]
    }
   ],
   "source": [
    "print(ce_ch.to_latex())"
   ]
  },
  {
   "cell_type": "code",
   "execution_count": 23,
   "metadata": {},
   "outputs": [
    {
     "data": {
      "text/plain": [
       "array([[0.7721519 , 0.72727273, 0.57246377, 0.52      ],\n",
       "       [0.65822785, 0.72727273, 0.35869565, 0.04      ]])"
      ]
     },
     "execution_count": 23,
     "metadata": {},
     "output_type": "execute_result"
    }
   ],
   "source": [
    "m_iris['00.7euclidean']"
   ]
  },
  {
   "cell_type": "code",
   "execution_count": null,
   "metadata": {},
   "outputs": [],
   "source": []
  }
 ],
 "metadata": {
  "kernelspec": {
   "display_name": "Python 3",
   "language": "python",
   "name": "python3"
  },
  "language_info": {
   "codemirror_mode": {
    "name": "ipython",
    "version": 3
   },
   "file_extension": ".py",
   "mimetype": "text/x-python",
   "name": "python",
   "nbconvert_exporter": "python",
   "pygments_lexer": "ipython3",
   "version": "3.8.1"
  }
 },
 "nbformat": 4,
 "nbformat_minor": 4
}
