{
 "cells": [
  {
   "cell_type": "markdown",
   "metadata": {},
   "source": [
    "# Result analysis\n",
    "_María Camila Vásquez Correa_\n",
    "\n",
    "This notebook is an auxiliary to read the results obtained from the methods."
   ]
  },
  {
   "cell_type": "code",
   "execution_count": 1,
   "metadata": {},
   "outputs": [],
   "source": [
    "import pickle\n",
    "import gc\n",
    "gc.enable()\n",
    "import pandas as pd\n",
    "from sklearn.datasets import load_iris\n",
    "from scipy.spatial.distance import cdist\n",
    "import numpy as np\n",
    "from matplotlib import pyplot as plt\n",
    "from tqdm import tqdm\n",
    "from sklearn.metrics import davies_bouldin_score as db\n",
    "from sklearn.metrics import calinski_harabasz_score as ch"
   ]
  },
  {
   "cell_type": "code",
   "execution_count": 2,
   "metadata": {},
   "outputs": [],
   "source": [
    "# Data loading\n",
    "n1 = 150  # Number of samples\n",
    "N1 = 4    # Number of features\n",
    "i1 = load_iris().data.T\n",
    "# Normalization\n",
    "for i in range(N1):\n",
    "    i1[i] = i1[i]/np.max(i1[i])\n",
    "i1 = i1.T\n",
    "ie = pd.read_csv('../data/iris_embbeding.csv').values\n",
    "i2 = pd.read_csv('../data/high_dimension_iris.csv').values"
   ]
  },
  {
   "cell_type": "code",
   "execution_count": 3,
   "metadata": {},
   "outputs": [],
   "source": [
    "n2 = 284807  # Number of samples\n",
    "N2 = 29    # Number of features\n",
    "c1 = pd.read_csv('../data/creditcard.csv')\n",
    "c1 = c1.drop('Time', axis=1)\n",
    "c1 = c1.drop('Class', axis = 1)\n",
    "c1 = c1.values.T\n",
    "# Normalization\n",
    "for i in range(N2):\n",
    "    c1[i] = c1[i]/np.max(c1[i])\n",
    "c1 = c1.T\n",
    "ce = pd.read_csv('../data/credit_embbeding.csv').values\n",
    "c2 = pd.read_csv('../data/credit_pca.csv').values"
   ]
  },
  {
   "cell_type": "markdown",
   "metadata": {},
   "source": [
    "## Subtractive clustering"
   ]
  },
  {
   "cell_type": "code",
   "execution_count": 4,
   "metadata": {},
   "outputs": [],
   "source": [
    "with open('subtractive_iris.pickle', 'rb') as f:\n",
    "    s_iris = pickle.load(f)"
   ]
  },
  {
   "cell_type": "code",
   "execution_count": 5,
   "metadata": {},
   "outputs": [],
   "source": [
    "with open('subtractive_credit.pickle', 'rb') as f:\n",
    "    s_credit = pickle.load(f)"
   ]
  },
  {
   "cell_type": "code",
   "execution_count": 6,
   "metadata": {},
   "outputs": [],
   "source": [
    "keys = list(s_credit.keys())\n",
    "keys_i = list(s_iris.keys())"
   ]
  },
  {
   "cell_type": "code",
   "execution_count": 38,
   "metadata": {},
   "outputs": [],
   "source": [
    "c1_db = pd.DataFrame(index=['0.4','0.5','0.7'])\n",
    "c1_ch = pd.DataFrame(index=['0.4','0.5','0.7'])\n",
    "c1_n = pd.DataFrame(index=['0.4','0.5','0.7'])\n",
    "for i in range(3):\n",
    "    a = []\n",
    "    b = []\n",
    "    c = []\n",
    "    for j in range(3):\n",
    "        A = s_credit[keys[i*3+j]]\n",
    "        metric = keys[i*3+j][4:]\n",
    "        U = cdist(A, c1, metric = metric).T \n",
    "        U = np.argmin(U, axis=-1)\n",
    "        a.append(ch(c1,U))\n",
    "        b.append(db(c1,U))\n",
    "        c.append(len(A))\n",
    "    c1_db[metric] = b\n",
    "    c1_ch[metric] = a\n",
    "    c1_n[metric] = c"
   ]
  },
  {
   "cell_type": "code",
   "execution_count": 39,
   "metadata": {},
   "outputs": [],
   "source": [
    "c2_db = pd.DataFrame(index=['0.4','0.5','0.7'])\n",
    "c2_ch = pd.DataFrame(index=['0.4','0.5','0.7'])\n",
    "c2_n = pd.DataFrame(index=['0.4','0.5','0.7'])\n",
    "for i in range(3,6):\n",
    "    a = []\n",
    "    b = []\n",
    "    c = []\n",
    "    for j in range(3):\n",
    "        A = s_credit[keys[i*3+j]]\n",
    "        metric = keys[i*3+j][4:]\n",
    "        U = cdist(A, c2, metric = metric).T \n",
    "        U = np.argmin(U, axis=-1)\n",
    "        a.append(ch(c2,U))\n",
    "        b.append(db(c2,U))\n",
    "        c.append(len(A))\n",
    "    c2_db[metric] = b\n",
    "    c2_ch[metric] = a\n",
    "    c2_n[metric] = c"
   ]
  },
  {
   "cell_type": "code",
   "execution_count": 40,
   "metadata": {},
   "outputs": [],
   "source": [
    "ce_db = pd.DataFrame(index=['0.4','0.5','0.7'])\n",
    "ce_ch = pd.DataFrame(index=['0.4','0.5','0.7'])\n",
    "ce_n = pd.DataFrame(index=['0.4','0.5','0.7'])\n",
    "for i in range(6,9):\n",
    "    a = []\n",
    "    b = []\n",
    "    c = []\n",
    "    for j in range(3):\n",
    "        A = s_credit[keys[i*3+j]]\n",
    "        metric = keys[i*3+j][4:]\n",
    "        U = cdist(A, ce, metric = metric).T \n",
    "        U = np.argmin(U, axis=-1)\n",
    "        a.append(ch(ce,U))\n",
    "        b.append(db(ce,U))\n",
    "        c.append(len(A))\n",
    "    ce_db[metric] = b\n",
    "    ce_ch[metric] = a\n",
    "    ce_n[metric] = c"
   ]
  },
  {
   "cell_type": "code",
   "execution_count": 14,
   "metadata": {},
   "outputs": [],
   "source": [
    "ie_db = pd.DataFrame()\n",
    "ie_ch = pd.DataFrame()\n",
    "ie_n = pd.DataFrame()\n",
    "for i in range(6,9):\n",
    "    a = []\n",
    "    b = []\n",
    "    c = []\n",
    "    for j in range(3):\n",
    "        A = s_iris[keys_i[i*3+j]]\n",
    "        metric = keys_i[i*3+j][4:]\n",
    "        U = cdist(A, ie, metric = metric).T \n",
    "        U = np.argmin(U, axis=-1)\n",
    "        a.append(ch(ie,U))\n",
    "        b.append(db(ie,U))\n",
    "        c.append(len(A))\n",
    "    ie_db[metric] = b\n",
    "    ie_ch[metric] = a\n",
    "    ie_n[metric] = c"
   ]
  },
  {
   "cell_type": "code",
   "execution_count": 16,
   "metadata": {},
   "outputs": [],
   "source": [
    "i1_db = pd.DataFrame()\n",
    "i1_ch = pd.DataFrame()\n",
    "i1_n = pd.DataFrame()\n",
    "for i in range(3):\n",
    "    a = []\n",
    "    b = []\n",
    "    c = []\n",
    "    for j in range(3):\n",
    "        A = s_iris[keys_i[i*3+j]]\n",
    "        metric = keys_i[i*3+j][4:]\n",
    "        U = cdist(A, i1, metric = metric).T \n",
    "        U = np.argmin(U, axis=-1)\n",
    "        try:\n",
    "            a.append(ch(i1,U))\n",
    "        except:\n",
    "            a.append(np.nan)\n",
    "        try:\n",
    "            b.append(db(i1,U))\n",
    "        except:\n",
    "            b.append(np.nan)\n",
    "        c.append(len(A))\n",
    "    i1_db[metric] = b\n",
    "    i1_ch[metric] = a\n",
    "    i1_n[metric] = c"
   ]
  },
  {
   "cell_type": "code",
   "execution_count": 35,
   "metadata": {},
   "outputs": [],
   "source": [
    "i2_db = pd.DataFrame()\n",
    "i2_ch = pd.DataFrame()\n",
    "i2_n = pd.DataFrame(index=['0.4','0.5','0.7'])\n",
    "for i in range(3,6):\n",
    "    a = []\n",
    "    b = []\n",
    "    c = []\n",
    "    for j in range(3):\n",
    "        A = s_iris[keys_i[i*3+j]]\n",
    "        metric = keys_i[i*3+j][4:]\n",
    "        U = cdist(A, i2, metric = metric).T \n",
    "        U = np.argmin(U, axis=-1)\n",
    "        try:\n",
    "            a.append(ch(i2,U))\n",
    "        except:\n",
    "            a.append(np.nan)\n",
    "        try:\n",
    "            b.append(db(i2,U))\n",
    "        except:\n",
    "            b.append(np.nan)\n",
    "        c.append(len(A))\n",
    "    i2_db[metric] = b\n",
    "    i2_ch[metric] = a\n",
    "    i2_n[metric] = c"
   ]
  },
  {
   "cell_type": "markdown",
   "metadata": {},
   "source": [
    "## Mountain clustering"
   ]
  },
  {
   "cell_type": "code",
   "execution_count": 11,
   "metadata": {},
   "outputs": [],
   "source": [
    "with open('mountain_iris.pickle', 'rb') as f:\n",
    "    m_iris = pickle.load(f)"
   ]
  },
  {
   "cell_type": "code",
   "execution_count": 9,
   "metadata": {},
   "outputs": [],
   "source": [
    "with open('mountain_credit2.pickle', 'rb') as f:\n",
    "    m_c2 = pickle.load(f)"
   ]
  },
  {
   "cell_type": "code",
   "execution_count": 12,
   "metadata": {},
   "outputs": [],
   "source": [
    "keys = list(m_c2.keys())\n",
    "keys_i = list(m_iris.keys())"
   ]
  },
  {
   "cell_type": "code",
   "execution_count": 85,
   "metadata": {},
   "outputs": [],
   "source": [
    "c2_db = pd.DataFrame(index=['0.4','0.5','0.7'])\n",
    "c2_ch = pd.DataFrame(index=['0.4','0.5','0.7'])\n",
    "c2_n = pd.DataFrame(index=['0.4','0.5','0.7'])\n",
    "for i in range(3):\n",
    "    a = []\n",
    "    b = []\n",
    "    c = []\n",
    "    for j in range(3):\n",
    "        A = m_c2[keys[i*3+j]]\n",
    "        metric = keys[i*3+j][4:]\n",
    "        U = cdist(A, c2, metric = metric).T \n",
    "        U = np.argmin(U, axis=-1)\n",
    "        a.append(ch(c2,U))\n",
    "        b.append(db(c2,U))\n",
    "        c.append(len(A))\n",
    "    c2_db[metric] = b\n",
    "    c2_ch[metric] = a\n",
    "    c2_n[metric] = c"
   ]
  },
  {
   "cell_type": "code",
   "execution_count": 86,
   "metadata": {},
   "outputs": [],
   "source": [
    "with open('mountain_credit3.pickle', 'rb') as f:\n",
    "    m_c3 = pickle.load(f)"
   ]
  },
  {
   "cell_type": "code",
   "execution_count": 87,
   "metadata": {},
   "outputs": [],
   "source": [
    "keys_e = list(m_c3.keys())"
   ]
  },
  {
   "cell_type": "code",
   "execution_count": 88,
   "metadata": {},
   "outputs": [],
   "source": [
    "ce_db = pd.DataFrame(index=['0.4','0.5','0.7'])\n",
    "ce_ch = pd.DataFrame(index=['0.4','0.5','0.7'])\n",
    "ce_n = pd.DataFrame(index=['0.4','0.5','0.7'])\n",
    "for i in range(3):\n",
    "    a = []\n",
    "    b = []\n",
    "    c = []\n",
    "    for j in range(3):\n",
    "        A = m_c3[keys[i*3+j]]\n",
    "        metric = keys[i*3+j][4:]\n",
    "        U = cdist(A, ce, metric = metric).T \n",
    "        U = np.argmin(U, axis=-1)\n",
    "        a.append(ch(ce,U))\n",
    "        b.append(db(ce,U))\n",
    "        c.append(len(A))\n",
    "    ce_db[metric] = b\n",
    "    ce_ch[metric] = a\n",
    "    ce_n[metric] = c"
   ]
  },
  {
   "cell_type": "code",
   "execution_count": 89,
   "metadata": {},
   "outputs": [],
   "source": [
    "ie_db = pd.DataFrame(index=['0.4','0.5','0.7'])\n",
    "ie_ch = pd.DataFrame(index=['0.4','0.5','0.7'])\n",
    "ie_n = pd.DataFrame(index=['0.4','0.5','0.7'])\n",
    "for i in range(6,9):\n",
    "    a = []\n",
    "    b = []\n",
    "    c = []\n",
    "    for j in range(3):\n",
    "        A = m_iris[keys_i[i*3+j]]\n",
    "        metric = keys_i[i*3+j][4:]\n",
    "        U = cdist(A, ie, metric = metric).T \n",
    "        U = np.argmin(U, axis=-1)\n",
    "        a.append(ch(ie,U))\n",
    "        b.append(db(ie,U))\n",
    "        c.append(len(A))\n",
    "    ie_db[metric] = b\n",
    "    ie_ch[metric] = a\n",
    "    ie_n[metric] = c"
   ]
  },
  {
   "cell_type": "code",
   "execution_count": 101,
   "metadata": {},
   "outputs": [],
   "source": [
    "i1_db = pd.DataFrame(index=['0.4','0.5','0.7'])\n",
    "i1_ch = pd.DataFrame(index=['0.4','0.5','0.7'])\n",
    "i1_n = pd.DataFrame(index=['0.4','0.5','0.7'])\n",
    "for i in range(3):\n",
    "    a = []\n",
    "    b = []\n",
    "    c = []\n",
    "    for j in range(3):\n",
    "        A = m_iris[keys_i[i*3+j]]\n",
    "        metric = keys_i[i*3+j][4:]\n",
    "        U = cdist(A, i1, metric = metric).T \n",
    "        U = np.argmin(U, axis=-1)\n",
    "        try:\n",
    "            a.append(ch(i1,U))\n",
    "        except:\n",
    "            a.append(np.nan)\n",
    "        try:\n",
    "            b.append(db(i1,U))\n",
    "        except:\n",
    "            b.append(np.nan)\n",
    "        c.append(len(A))\n",
    "    i1_db[metric] = b\n",
    "    i1_ch[metric] = a\n",
    "    i1_n[metric] = c"
   ]
  },
  {
   "cell_type": "code",
   "execution_count": 91,
   "metadata": {},
   "outputs": [],
   "source": [
    "i2_db = pd.DataFrame(index=['0.4','0.5','0.7'])\n",
    "i2_ch = pd.DataFrame(index=['0.4','0.5','0.7'])\n",
    "i2_n = pd.DataFrame(index=['0.4','0.5','0.7'])\n",
    "for i in range(3,6):\n",
    "    a = []\n",
    "    b = []\n",
    "    c = []\n",
    "    for j in range(3):\n",
    "        A = m_iris[keys_i[i*3+j]]\n",
    "        metric = keys_i[i*3+j][4:]\n",
    "        U = cdist(A, i2, metric = metric).T \n",
    "        U = np.argmin(U, axis=-1)\n",
    "        try:\n",
    "            a.append(ch(i2,U))\n",
    "        except:\n",
    "            a.append(np.nan)\n",
    "        try:\n",
    "            b.append(db(i2,U))\n",
    "        except:\n",
    "            b.append(np.nan)\n",
    "        c.append(len(A))\n",
    "    i2_db[metric] = b\n",
    "    i2_ch[metric] = a\n",
    "    i2_n[metric] = c"
   ]
  }
 ],
 "metadata": {
  "kernelspec": {
   "display_name": "Python 3",
   "language": "python",
   "name": "python3"
  },
  "language_info": {
   "codemirror_mode": {
    "name": "ipython",
    "version": 3
   },
   "file_extension": ".py",
   "mimetype": "text/x-python",
   "name": "python",
   "nbconvert_exporter": "python",
   "pygments_lexer": "ipython3",
   "version": "3.8.1"
  }
 },
 "nbformat": 4,
 "nbformat_minor": 4
}
