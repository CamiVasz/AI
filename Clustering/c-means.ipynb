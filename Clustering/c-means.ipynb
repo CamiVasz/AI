{
 "cells": [
  {
   "cell_type": "markdown",
   "metadata": {},
   "source": [
    "# Fuzzy c-means clustering\n",
    "_María Camila Vásquez Correa_"
   ]
  },
  {
   "cell_type": "markdown",
   "metadata": {},
   "source": [
    "### Necessary packages"
   ]
  },
  {
   "cell_type": "code",
   "execution_count": 1,
   "metadata": {},
   "outputs": [],
   "source": [
    "import numpy as np\n",
    "import pandas as pd\n",
    "import matplotlib.pyplot as plt\n",
    "from sklearn.datasets import load_iris\n",
    "from scipy.spatial.distance import cdist\n",
    "%matplotlib inline"
   ]
  },
  {
   "cell_type": "code",
   "execution_count": 2,
   "metadata": {},
   "outputs": [],
   "source": [
    "random_seed = 0\n",
    "rng = np.random.RandomState(random_seed)  # random_seed"
   ]
  },
  {
   "cell_type": "markdown",
   "metadata": {},
   "source": [
    "## Data loading\n",
    "We will load the data, the higher dimensional data and the embbeding"
   ]
  },
  {
   "cell_type": "code",
   "execution_count": 3,
   "metadata": {},
   "outputs": [],
   "source": [
    "n1 = 150  # Number of samples\n",
    "N1 = 4    # Number of features\n",
    "i1 = load_iris().data.T\n",
    "# Normalization\n",
    "for i in range(N1):\n",
    "    i1[i] = i1[i]/np.max(i1[i])\n",
    "i1 = i1.T\n",
    "ie = pd.read_csv('iris_embbeding.csv').values\n",
    "i2 = pd.read_csv('high_dimension_iris.csv').values"
   ]
  },
  {
   "cell_type": "code",
   "execution_count": 4,
   "metadata": {},
   "outputs": [],
   "source": [
    "n2 = 284807  # Number of samples\n",
    "N2 = 29    # Number of features\n",
    "c1 = pd.read_csv('creditcard.csv')\n",
    "c1.drop('Time', axis=1)\n",
    "c1.drop('Class', axis = 1)\n",
    "c1 = c1.values.T\n",
    "# Normalization\n",
    "for i in range(N2):\n",
    "    c1[i] = c1[i]/np.max(c1[i])\n",
    "c1 = c1.T\n",
    "ce = pd.read_csv('credit_embbeding.csv').values\n",
    "c2 = pd.read_csv('credit_pca.csv').values"
   ]
  },
  {
   "cell_type": "markdown",
   "metadata": {},
   "source": [
    "### Parameters"
   ]
  },
  {
   "cell_type": "code",
   "execution_count": 5,
   "metadata": {},
   "outputs": [],
   "source": [
    "# Data\n",
    "X = i1\n",
    "N = N1\n",
    "n = n1\n",
    "Y = ie"
   ]
  },
  {
   "cell_type": "code",
   "execution_count": 6,
   "metadata": {},
   "outputs": [],
   "source": [
    "# Parameters\n",
    "k = 3\n",
    "m = 2\n",
    "previous_J, diff = np.inf, np.inf\n",
    "epsilon = 0.005\n",
    "n_iter = 1000\n",
    "metric = 'euclidean'"
   ]
  },
  {
   "cell_type": "markdown",
   "metadata": {},
   "source": [
    "## Clustering"
   ]
  },
  {
   "cell_type": "code",
   "execution_count": 7,
   "metadata": {},
   "outputs": [],
   "source": [
    "# random initialization\n",
    "U = rng.rand(k, n)\n",
    "U = U / U.sum(axis=0)"
   ]
  },
  {
   "cell_type": "code",
   "execution_count": 8,
   "metadata": {},
   "outputs": [],
   "source": [
    "def calculate_cluster(U, data):\n",
    "    Um = np.power(U, m)\n",
    "    C = (Um @ data) / Um.sum(axis=1).reshape(k, 1)\n",
    "    return C"
   ]
  },
  {
   "cell_type": "code",
   "execution_count": 9,
   "metadata": {},
   "outputs": [],
   "source": [
    "def cost_function(U, data, clusters):\n",
    "    Um = np.power(U, m)\n",
    "    dist = cdist(clusters, data, metric = metric)\n",
    "    J = np.sum(Um * dist)\n",
    "    return J"
   ]
  },
  {
   "cell_type": "code",
   "execution_count": 10,
   "metadata": {},
   "outputs": [],
   "source": [
    "def update_U(U, data, clusters):\n",
    "    dist = cdist(clusters, data, metric = metric)\n",
    "    n_clusters = len(clusters)\n",
    "    d_ij = dist.reshape(n_clusters, 1, n)\n",
    "    d_kj = dist.reshape(1, n_clusters, n)\n",
    "\n",
    "    U = d_ij / d_kj\n",
    "    U = np.power(U, 2 / (m - 1))\n",
    "    U = U.sum(axis=1)\n",
    "    U = 1 / U\n",
    "    return U"
   ]
  },
  {
   "cell_type": "code",
   "execution_count": 11,
   "metadata": {},
   "outputs": [],
   "source": [
    "# Ciclo principal\n",
    "i = 0\n",
    "while (diff > 0) & (previous_J > epsilon) & (i < n_iter):\n",
    "    # Calculamos los clusters\n",
    "    clusters = calculate_cluster(U,X)\n",
    "    # Calculamos el costo\n",
    "    J = cost_function(U, X, clusters)\n",
    "    # Calculamos la matriz de pertenencia\n",
    "    U = update_U(U, X, clusters)\n",
    "    # Criterio de parada\n",
    "    diff = previous_J - J\n",
    "    previous_J = J\n",
    "    i += 1"
   ]
  },
  {
   "cell_type": "code",
   "execution_count": 12,
   "metadata": {},
   "outputs": [],
   "source": [
    "U = np.argmax(U, axis = 0)"
   ]
  },
  {
   "cell_type": "code",
   "execution_count": 13,
   "metadata": {},
   "outputs": [
    {
     "data": {
      "image/png": "[encoded data removed]",
      "text/plain": [
       "<Figure size 432x288 with 1 Axes>"
      ]
     },
     "metadata": {
      "needs_background": "light"
     },
     "output_type": "display_data"
    }
   ],
   "source": [
    "plt.scatter(Y[:, 0], Y[:, 1], c=U)\n",
    "plt.show()"
   ]
  },
  {
   "cell_type": "code",
   "execution_count": 14,
   "metadata": {},
   "outputs": [],
   "source": [
    "def cmeans(X, k, metric):\n",
    "    m = 2\n",
    "    previous_J, diff = np.inf, np.inf\n",
    "    n_iter = 1000\n",
    "    epsilon = 0.0005\n",
    "    # random initialization\n",
    "    U = rng.rand(k, n)\n",
    "    U = U / U.sum(axis=0)\n",
    "    # Ciclo principal\n",
    "    i = 0\n",
    "    while (diff > 0) & (previous_J > epsilon) & (i < n_iter):\n",
    "        # Calculamos los clusters\n",
    "        clusters = calculate_cluster(U,X)\n",
    "        # Calculamos el costo\n",
    "        J = cost_function(U, X, clusters)\n",
    "        # Calculamos la matriz de pertenencia\n",
    "        U = update_U(U, X, clusters)\n",
    "        # Criterio de parada\n",
    "        diff = previous_J - J\n",
    "        previous_J = J\n",
    "        i += 1\n",
    "    return clusters"
   ]
  },
  {
   "cell_type": "code",
   "execution_count": 19,
   "metadata": {},
   "outputs": [
    {
     "data": {
      "text/plain": [
       "array([[0.69051761, 0.6263043 , 0.48399352, 0.41167077],\n",
       "       [0.63305366, 0.77809387, 0.21089926, 0.09296595],\n",
       "       [0.63463117, 0.77682741, 0.21726938, 0.10618726],\n",
       "       [0.83032129, 0.67866188, 0.79395053, 0.80252473],\n",
       "       [0.73381118, 0.61571458, 0.59991061, 0.51440835],\n",
       "       [0.70395259, 0.58358898, 0.53874197, 0.45125519],\n",
       "       [0.81218597, 0.66867098, 0.73645018, 0.69592562],\n",
       "       [0.75897369, 0.64679506, 0.64481517, 0.56006689]])"
      ]
     },
     "execution_count": 19,
     "metadata": {},
     "output_type": "execute_result"
    }
   ],
   "source": [
    "k = \n",
    "cmeans(i1,8,'euclidean')"
   ]
  },
  {
   "cell_type": "code",
   "execution_count": null,
   "metadata": {},
   "outputs": [],
   "source": []
  }
 ],
 "metadata": {
  "kernelspec": {
   "display_name": "Python 3",
   "language": "python",
   "name": "python3"
  },
  "language_info": {
   "codemirror_mode": {
    "name": "ipython",
    "version": 3
   },
   "file_extension": ".py",
   "mimetype": "text/x-python",
   "name": "python",
   "nbconvert_exporter": "python",
   "pygments_lexer": "ipython3",
   "version": "3.8.1"
  }
 },
 "nbformat": 4,
 "nbformat_minor": 4
}
