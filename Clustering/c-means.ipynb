{
 "cells": [
  {
   "cell_type": "markdown",
   "metadata": {},
   "source": [
    "# Fuzzy c-means clustering\n",
    "_María Camila Vásquez Correa_"
   ]
  },
  {
   "cell_type": "markdown",
   "metadata": {},
   "source": [
    "### Necessary packages"
   ]
  },
  {
   "cell_type": "code",
   "execution_count": 2,
   "metadata": {},
   "outputs": [],
   "source": [
    "import numpy as np\n",
    "import pandas as pd\n",
    "import matplotlib.pyplot as plt\n",
    "from sklearn.datasets import load_iris\n",
    "from scipy.spatial.distance import cdist\n",
    "%matplotlib inline"
   ]
  },
  {
   "cell_type": "code",
   "execution_count": 3,
   "metadata": {},
   "outputs": [],
   "source": [
    "random_seed = 0\n",
    "rng = np.random.RandomState(random_seed)  # random_seed"
   ]
  },
  {
   "cell_type": "markdown",
   "metadata": {},
   "source": [
    "## Data loading\n",
    "We will load the data, the higher dimensional data and the embbeding"
   ]
  },
  {
   "cell_type": "code",
   "execution_count": 6,
   "metadata": {},
   "outputs": [],
   "source": [
    "n1 = 150  # Number of samples\n",
    "N1 = 4    # Number of features\n",
    "i1 = load_iris().data.T\n",
    "# Normalization\n",
    "for i in range(N1):\n",
    "    i1[i] = i1[i]/np.max(i1[i])\n",
    "i1 = i1.T\n",
    "ie = pd.read_csv('data/iris_embbeding.csv').values\n",
    "i2 = pd.read_csv('data/high_dimension_iris.csv').values"
   ]
  },
  {
   "cell_type": "code",
   "execution_count": 7,
   "metadata": {},
   "outputs": [],
   "source": [
    "n2 = 284807  # Number of samples\n",
    "N2 = 29    # Number of features\n",
    "c1 = pd.read_csv('data/creditcard.csv')\n",
    "c1.drop('Time', axis=1)\n",
    "c1.drop('Class', axis = 1)\n",
    "c1 = c1.values.T\n",
    "# Normalization\n",
    "for i in range(N2):\n",
    "    c1[i] = c1[i]/np.max(c1[i])\n",
    "c1 = c1.T\n",
    "ce = pd.read_csv('data/credit_embbeding.csv').values\n",
    "c2 = pd.read_csv('data/credit_pca.csv').values"
   ]
  },
  {
   "cell_type": "markdown",
   "metadata": {},
   "source": [
    "### Parameters"
   ]
  },
  {
   "cell_type": "code",
   "execution_count": 68,
   "metadata": {},
   "outputs": [],
   "source": [
    "# Data\n",
    "X = i1\n",
    "N = 4\n",
    "n = n1\n",
    "Y = ie"
   ]
  },
  {
   "cell_type": "code",
   "execution_count": 69,
   "metadata": {},
   "outputs": [],
   "source": [
    "# Parameters\n",
    "k = 11\n",
    "m = 2\n",
    "previous_J, diff = np.inf, np.inf\n",
    "epsilon = 0.005\n",
    "n_iter = 1000\n",
    "metric = 'cityblock'"
   ]
  },
  {
   "cell_type": "markdown",
   "metadata": {},
   "source": [
    "## Clustering"
   ]
  },
  {
   "cell_type": "code",
   "execution_count": 70,
   "metadata": {},
   "outputs": [],
   "source": [
    "# random initialization\n",
    "U = rng.rand(k, n)\n",
    "U = U / U.sum(axis=0)"
   ]
  },
  {
   "cell_type": "code",
   "execution_count": 71,
   "metadata": {},
   "outputs": [
    {
     "data": {
      "text/plain": [
       "(11, 150)"
      ]
     },
     "execution_count": 71,
     "metadata": {},
     "output_type": "execute_result"
    }
   ],
   "source": [
    "U.shape"
   ]
  },
  {
   "cell_type": "code",
   "execution_count": 72,
   "metadata": {},
   "outputs": [],
   "source": [
    "def calculate_cluster(U, data):\n",
    "    k = U.shape[0]\n",
    "    Um = np.power(U, m)\n",
    "    C = (Um @ data) / Um.sum(axis=1).reshape(k, 1)\n",
    "    return C"
   ]
  },
  {
   "cell_type": "code",
   "execution_count": 50,
   "metadata": {},
   "outputs": [],
   "source": [
    "def cost_function(U, data, clusters):\n",
    "    Um = np.power(U, m)\n",
    "    dist = cdist(clusters, data, metric = metric)\n",
    "    J = np.sum(Um * dist)\n",
    "    return J"
   ]
  },
  {
   "cell_type": "code",
   "execution_count": 51,
   "metadata": {},
   "outputs": [],
   "source": [
    "def update_U(U, data, clusters):\n",
    "    dist = cdist(clusters, data, metric = metric)\n",
    "    n_clusters = len(clusters)\n",
    "    d_ij = dist.reshape(n_clusters, 1, n)\n",
    "    d_kj = dist.reshape(1, n_clusters, n)\n",
    "\n",
    "    U = d_ij / d_kj\n",
    "    U = np.power(U, 2 / (m - 1))\n",
    "    U = U.sum(axis=1)\n",
    "    U = 1 / U\n",
    "    return U"
   ]
  },
  {
   "cell_type": "code",
   "execution_count": 52,
   "metadata": {},
   "outputs": [],
   "source": [
    "# Ciclo principal\n",
    "i = 0\n",
    "while (diff > 0) & (previous_J > epsilon) & (i < n_iter):\n",
    "    # Calculamos los clusters\n",
    "    clusters = calculate_cluster(U,X)\n",
    "    # Calculamos el costo\n",
    "    J = cost_function(U, X, clusters)\n",
    "    # Calculamos la matriz de pertenencia\n",
    "    U = update_U(U, X, clusters)\n",
    "    # Criterio de parada\n",
    "    diff = previous_J - J\n",
    "    previous_J = J\n",
    "    i += 1"
   ]
  },
  {
   "cell_type": "code",
   "execution_count": 53,
   "metadata": {},
   "outputs": [],
   "source": [
    "U = np.argmax(U, axis = 0)"
   ]
  },
  {
   "cell_type": "code",
   "execution_count": 54,
   "metadata": {},
   "outputs": [
    {
     "data": {
      "text/plain": [
       "array([[0.80143115, 0.65986054, 0.72592682, 0.68978651],\n",
       "       [0.6369838 , 0.76807774, 0.23024839, 0.1186182 ]])"
      ]
     },
     "execution_count": 54,
     "metadata": {},
     "output_type": "execute_result"
    }
   ],
   "source": [
    "clusters"
   ]
  },
  {
   "cell_type": "code",
   "execution_count": 56,
   "metadata": {},
   "outputs": [
    {
     "data": {
      "image/png": "[encoded data removed]",
      "text/plain": [
       "<Figure size 432x288 with 1 Axes>"
      ]
     },
     "metadata": {
      "needs_background": "light"
     },
     "output_type": "display_data"
    }
   ],
   "source": [
    "plt.scatter(Y[:, 0], Y[:, 1], c=U)\n",
    "plt.show()"
   ]
  },
  {
   "cell_type": "code",
   "execution_count": 61,
   "metadata": {},
   "outputs": [],
   "source": [
    "def cmeans(X, k, metric):\n",
    "    m = 2\n",
    "    previous_J, diff = np.inf, np.inf\n",
    "    n_iter = 1000\n",
    "    epsilon = 0.0005\n",
    "    # random initialization\n",
    "    U = rng.rand(k, n)\n",
    "    U = U / U.sum(axis=0)\n",
    "    # Ciclo principal\n",
    "    i = 0\n",
    "    while (diff > 0) & (previous_J > epsilon) & (i < n_iter):\n",
    "        # Calculamos los clusters\n",
    "        clusters = calculate_cluster(U,X)\n",
    "        # Calculamos el costo\n",
    "        J = cost_function(U, X, clusters)\n",
    "        # Calculamos la matriz de pertenencia\n",
    "        U = update_U(U, X, clusters)\n",
    "        # Criterio de parada\n",
    "        diff = previous_J - J\n",
    "        previous_J = J\n",
    "        i += 1\n",
    "    return clusters"
   ]
  },
  {
   "cell_type": "code",
   "execution_count": 62,
   "metadata": {},
   "outputs": [],
   "source": [
    "k = cmeans(i1,11,'euclidean')"
   ]
  },
  {
   "cell_type": "code",
   "execution_count": 63,
   "metadata": {},
   "outputs": [
    {
     "data": {
      "text/plain": [
       "array([[0.72635164, 0.61678829, 0.5952998 , 0.50530438],\n",
       "       [0.67906031, 0.54572503, 0.52095183, 0.42249057],\n",
       "       [0.85093985, 0.69222174, 0.81556592, 0.84527134],\n",
       "       [0.81593452, 0.67362888, 0.75702371, 0.737211  ],\n",
       "       [0.66982983, 0.55771042, 0.49971349, 0.41692848],\n",
       "       [0.8158396 , 0.67354882, 0.76643685, 0.74961141],\n",
       "       [0.75502704, 0.64187094, 0.63196357, 0.54001614],\n",
       "       [0.63724466, 0.78720717, 0.210313  , 0.09545635],\n",
       "       [0.84431233, 0.68556593, 0.80663594, 0.82798835],\n",
       "       [0.62972445, 0.7698345 , 0.21451246, 0.09839234],\n",
       "       [0.78324003, 0.65987816, 0.67152748, 0.5903263 ]])"
      ]
     },
     "execution_count": 63,
     "metadata": {},
     "output_type": "execute_result"
    }
   ],
   "source": [
    "k"
   ]
  },
  {
   "cell_type": "code",
   "execution_count": null,
   "metadata": {},
   "outputs": [],
   "source": []
  }
 ],
 "metadata": {
  "kernelspec": {
   "display_name": "Python 3",
   "language": "python",
   "name": "python3"
  },
  "language_info": {
   "codemirror_mode": {
    "name": "ipython",
    "version": 3
   },
   "file_extension": ".py",
   "mimetype": "text/x-python",
   "name": "python",
   "nbconvert_exporter": "python",
   "pygments_lexer": "ipython3",
   "version": "3.8.1"
  }
 },
 "nbformat": 4,
 "nbformat_minor": 4
}
