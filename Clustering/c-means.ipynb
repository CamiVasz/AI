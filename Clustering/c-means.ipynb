{
 "cells": [
  {
   "cell_type": "markdown",
   "metadata": {},
   "source": [
    "# Fuzzy c-means clustering\n",
    "_María Camila Vásquez Correa_"
   ]
  },
  {
   "cell_type": "markdown",
   "metadata": {},
   "source": [
    "### Necessary packages"
   ]
  },
  {
   "cell_type": "code",
   "execution_count": 1,
   "metadata": {},
   "outputs": [],
   "source": [
    "import numpy as np\n",
    "import pandas as pd\n",
    "import matplotlib.pyplot as plt\n",
    "from sklearn.datasets import load_iris\n",
    "from scipy.spatial.distance import cdist\n",
    "%matplotlib inline"
   ]
  },
  {
   "cell_type": "code",
   "execution_count": 3,
   "metadata": {},
   "outputs": [],
   "source": [
    "random_seed = 0\n",
    "rng = np.random.RandomState(random_seed)  # random_seed"
   ]
  },
  {
   "cell_type": "markdown",
   "metadata": {},
   "source": [
    "## Data loading\n",
    "We will load the data, the higher dimensional data and the embbeding"
   ]
  },
  {
   "cell_type": "code",
   "execution_count": 22,
   "metadata": {},
   "outputs": [],
   "source": [
    "n = 150  # Number of samples\n",
    "N = 4    # Number of features\n",
    "X = load_iris().data.T\n",
    "# Normalization\n",
    "for i in range(N):\n",
    "    X[i] = X[i]/np.max(X[i])\n",
    "X = X.T\n",
    "Y = pd.read_csv('iris_embbeding.csv').values\n",
    "X1 = pd.read_csv('high_dimension_iris.csv').values"
   ]
  },
  {
   "cell_type": "markdown",
   "metadata": {},
   "source": [
    "### Parameters"
   ]
  },
  {
   "cell_type": "code",
   "execution_count": 13,
   "metadata": {},
   "outputs": [],
   "source": [
    "# Parameters\n",
    "k = 3\n",
    "m = 2\n",
    "previous_J, diff = np.inf, np.inf\n",
    "epsilon = 0.005\n",
    "n_iter = 1000\n",
    "metric = 'euclidean'"
   ]
  },
  {
   "cell_type": "markdown",
   "metadata": {},
   "source": [
    "## Clustering"
   ]
  },
  {
   "cell_type": "code",
   "execution_count": 14,
   "metadata": {},
   "outputs": [],
   "source": [
    "# random initialization\n",
    "U = rng.rand(k, n)\n",
    "U = U / U.sum(axis=0)"
   ]
  },
  {
   "cell_type": "code",
   "execution_count": 15,
   "metadata": {},
   "outputs": [],
   "source": [
    "def calculate_cluster(U, data):\n",
    "    Um = np.power(U, m)\n",
    "    C = (Um @ data) / Um.sum(axis=1).reshape(k, 1)\n",
    "    return C"
   ]
  },
  {
   "cell_type": "code",
   "execution_count": 16,
   "metadata": {},
   "outputs": [],
   "source": [
    "def cost_function(U, data, clusters):\n",
    "    Um = np.power(U, m)\n",
    "    dist = cdist(clusters, data, metric = metric)\n",
    "    J = np.sum(Um * dist)\n",
    "    return J"
   ]
  },
  {
   "cell_type": "code",
   "execution_count": 17,
   "metadata": {},
   "outputs": [],
   "source": [
    "def update_U(U, data, clusters):\n",
    "    dist = cdist(clusters, data, metric = metric)\n",
    "    n_clusters = len(clusters)\n",
    "    d_ij = dist.reshape(n_clusters, 1, n)\n",
    "    d_kj = dist.reshape(1, n_clusters, n)\n",
    "\n",
    "    U = d_ij / d_kj\n",
    "    U = np.power(U, 2 / (m - 1))\n",
    "    U = U.sum(axis=1)\n",
    "    U = 1 / U\n",
    "    return U"
   ]
  },
  {
   "cell_type": "code",
   "execution_count": 19,
   "metadata": {},
   "outputs": [],
   "source": [
    "# Ciclo principal\n",
    "i = 0\n",
    "while (diff > 0) & (previous_J > epsilon) & (i < n_iter):\n",
    "    # Calculamos los clusters\n",
    "    clusters = calculate_cluster(U,X)\n",
    "    # Calculamos el costo\n",
    "    J = cost_function(U, X, clusters)\n",
    "    # Calculamos la matriz de pertenencia\n",
    "    U = update_U(U, X, clusters)\n",
    "    # Criterio de parada\n",
    "    diff = previous_J - J\n",
    "    previous_J = J\n",
    "    i += 1"
   ]
  },
  {
   "cell_type": "code",
   "execution_count": 20,
   "metadata": {},
   "outputs": [],
   "source": [
    "U = np.argmax(U, axis = 0)"
   ]
  },
  {
   "cell_type": "code",
   "execution_count": 21,
   "metadata": {},
   "outputs": [
    {
     "data": {
      "image/png": "[encoded data removed]",
      "text/plain": [
       "<Figure size 432x288 with 1 Axes>"
      ]
     },
     "metadata": {
      "needs_background": "light"
     },
     "output_type": "display_data"
    }
   ],
   "source": [
    "plt.scatter(Y[:, 0], Y[:, 1], c=U)\n",
    "plt.show()"
   ]
  },
  {
   "cell_type": "code",
   "execution_count": null,
   "metadata": {},
   "outputs": [],
   "source": []
  }
 ],
 "metadata": {
  "kernelspec": {
   "display_name": "Python 3",
   "language": "python",
   "name": "python3"
  },
  "language_info": {
   "codemirror_mode": {
    "name": "ipython",
    "version": 3
   },
   "file_extension": ".py",
   "mimetype": "text/x-python",
   "name": "python",
   "nbconvert_exporter": "python",
   "pygments_lexer": "ipython3",
   "version": "3.8.1"
  }
 },
 "nbformat": 4,
 "nbformat_minor": 4
}
