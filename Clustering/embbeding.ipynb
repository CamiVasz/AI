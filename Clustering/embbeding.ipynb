{
 "cells": [
  {
   "cell_type": "markdown",
   "metadata": {},
   "source": [
    "# Feature extraction and embbeding\n",
    "_María Camila Vásquez Correa_"
   ]
  },
  {
   "cell_type": "markdown",
   "metadata": {},
   "source": [
    "### Necessary packages"
   ]
  },
  {
   "cell_type": "code",
   "execution_count": 40,
   "metadata": {},
   "outputs": [],
   "source": [
    "import numpy as np\n",
    "import itertools\n",
    "import pandas as pd\n",
    "from bhtsne import tsne\n",
    "from matplotlib import pyplot as plt\n",
    "from sklearn.datasets import load_iris"
   ]
  },
  {
   "cell_type": "markdown",
   "metadata": {},
   "source": [
    "### Data loading\n",
    "And normalization!"
   ]
  },
  {
   "cell_type": "code",
   "execution_count": 41,
   "metadata": {},
   "outputs": [],
   "source": [
    "iris = load_iris().data.T\n",
    "target = load_iris().target\n",
    "N = 4\n",
    "n = 150\n",
    "# Normalization\n",
    "for i in range(N):\n",
    "    iris[i] = iris[i]/np.max(iris[i])\n",
    "iris = iris.T"
   ]
  },
  {
   "cell_type": "markdown",
   "metadata": {},
   "source": [
    "## Embbeding\n",
    "The algorithm to be used is the Barnes-Hut T-sne, with 2 dimensions for visualization"
   ]
  },
  {
   "cell_type": "code",
   "execution_count": 42,
   "metadata": {},
   "outputs": [],
   "source": [
    "# To preserve the results of the embbeding\n",
    "random_seed = 42\n",
    "rng = np.random.RandomState() \n",
    "np.random.seed(random_seed)"
   ]
  },
  {
   "cell_type": "code",
   "execution_count": 43,
   "metadata": {},
   "outputs": [
    {
     "data": {
      "image/png": "[encoded data removed]",
      "text/plain": [
       "<Figure size 432x288 with 1 Axes>"
      ]
     },
     "metadata": {
      "needs_background": "light"
     },
     "output_type": "display_data"
    }
   ],
   "source": [
    "Y = tsne(iris)\n",
    "plt.scatter(Y[:, 0], Y[:, 1], c=target)\n",
    "plt.show()"
   ]
  },
  {
   "cell_type": "code",
   "execution_count": 44,
   "metadata": {},
   "outputs": [],
   "source": [
    "# Save the results for later visualization\n",
    "pd.DataFrame(Y).to_csv('iris_embbeding.csv', index = False)"
   ]
  },
  {
   "cell_type": "markdown",
   "metadata": {},
   "source": [
    "## Feature extraction\n",
    "The features for this dataset include proportions between the sepal and the petal (length and width) and they increment the dimension by 4 (double)"
   ]
  },
  {
   "cell_type": "code",
   "execution_count": 45,
   "metadata": {},
   "outputs": [],
   "source": [
    "iris1 = pd.DataFrame(iris)\n",
    "iris1['Proportion1'] = iris1[0]/iris1[1]\n",
    "iris1['Proportion2'] = iris1[1]/iris1[2]\n",
    "iris1['Proportion3'] = iris1[2]/iris1[3]\n",
    "iris1['Proportion4'] = iris1[0]/iris1[3]"
   ]
  },
  {
   "cell_type": "code",
   "execution_count": 46,
   "metadata": {},
   "outputs": [],
   "source": [
    "# Save the results for later learning\n",
    "iris1.to_csv('high_dimension_iris.csv', index = False)"
   ]
  },
  {
   "cell_type": "code",
   "execution_count": null,
   "metadata": {},
   "outputs": [],
   "source": []
  }
 ],
 "metadata": {
  "kernelspec": {
   "display_name": "Python 3",
   "language": "python",
   "name": "python3"
  },
  "language_info": {
   "codemirror_mode": {
    "name": "ipython",
    "version": 3
   },
   "file_extension": ".py",
   "mimetype": "text/x-python",
   "name": "python",
   "nbconvert_exporter": "python",
   "pygments_lexer": "ipython3",
   "version": "3.8.1"
  }
 },
 "nbformat": 4,
 "nbformat_minor": 4
}
