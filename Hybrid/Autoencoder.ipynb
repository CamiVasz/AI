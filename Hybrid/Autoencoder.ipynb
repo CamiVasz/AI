{
  "nbformat": 4,
  "nbformat_minor": 0,
  "metadata": {
    "kernelspec": {
      "display_name": "Python 3",
      "language": "python",
      "name": "python3"
    },
    "language_info": {
      "codemirror_mode": {
        "name": "ipython",
        "version": 3
      },
      "file_extension": ".py",
      "mimetype": "text/x-python",
      "name": "python",
      "nbconvert_exporter": "python",
      "pygments_lexer": "ipython3",
      "version": "3.8.1"
    },
    "colab": {
      "name": "Autoencoder.ipynb",
      "provenance": [],
      "collapsed_sections": [],
      "toc_visible": true
    }
  },
  "cells": [
    {
      "cell_type": "markdown",
      "metadata": {
        "id": "rxvmsVPeAiml",
        "colab_type": "text"
      },
      "source": [
        "# Autoencoder learning\n",
        "_María Camila Vásquez Correa_"
      ]
    },
    {
      "cell_type": "code",
      "metadata": {
        "id": "ZYteKdHCAimm",
        "colab_type": "code",
        "colab": {}
      },
      "source": [
        "import itertools\n",
        "import numpy as np\n",
        "import matplotlib.pyplot as plt\n",
        "import pandas as pd\n",
        "from sklearn.model_selection import train_test_split\n",
        "from sklearn import preprocessing\n",
        "from sklearn.model_selection import KFold\n",
        "from sklearn.preprocessing import OneHotEncoder, label_binarize\n",
        "from sklearn.model_selection import train_test_split, StratifiedKFold\n",
        "from sklearn.metrics import roc_curve, roc_auc_score, plot_roc_curve, auc"
      ],
      "execution_count": 0,
      "outputs": []
    },
    {
      "cell_type": "markdown",
      "metadata": {
        "id": "O8NFM8fEAims",
        "colab_type": "text"
      },
      "source": [
        "## Multilayer perceptron\n",
        "The class model receives a list of layers (with its respective activation function) along with the loss that is going to be used for the training to initialize.\n",
        "* The fit method performs the training on X and y using learning rate lr, a number of epochs epochs, a batch_size and stops given a tolerance tol.\n",
        "* The evaluate method gives the prediction for an X\n",
        "* The score method gives the cost function for an X and y"
      ]
    },
    {
      "cell_type": "code",
      "metadata": {
        "id": "L-s4yQ9UAimt",
        "colab_type": "code",
        "colab": {}
      },
      "source": [
        "class Model:\n",
        "    def __init__(self, layers, loss):\n",
        "        self.layers = layers\n",
        "        self.loss = loss\n",
        "    \n",
        "    def fit(self, X, y, lr, epochs, batch_size, tol,print_loss = True):\n",
        "        if self.loss.history:\n",
        "            self.initialize()\n",
        "        total_loss = np.inf\n",
        "        j = 0\n",
        "        test_loss = []\n",
        "        while j <= epochs and total_loss >= tol:\n",
        "            _loss = 0\n",
        "            batches = len(y)//batch_size\n",
        "            for i in range(batches):\n",
        "                y_pred = self.forward_pass(X[i*batch_size:(i+1)*batch_size])\n",
        "                loss_ = self.loss.forward_pass(y_pred,y[i*batch_size:(i+1)*batch_size])\n",
        "                loss_gradient = loss.backward_pass(y_pred, y[i*batch_size:(i+1)*batch_size])\n",
        "                self.backward_pass(loss_gradient)\n",
        "                self.update_parameters(lr)\n",
        "                _loss += loss_\n",
        "            total_loss = _loss/batches\n",
        "            y_pred_test = self.forward_pass(X_test)\n",
        "            test_loss.append(loss.forward_pass(X_test, y_pred_test))\n",
        "            loss.history.append(total_loss)\n",
        "            self.update_gradient_history()\n",
        "            if print_loss:\n",
        "                print(f'epoch {j}: loss {total_loss}') \n",
        "            j += 1\n",
        "        return(test_loss)\n",
        "    \n",
        "    def initialize(self):\n",
        "        for layer in self.layers:\n",
        "            if layer.trainable:\n",
        "                layer.initialize()\n",
        "        self.loss.initialize()\n",
        "    \n",
        "    def forward_pass(self, X):\n",
        "        x = X.copy()\n",
        "        for layer in self.layers:\n",
        "            a = layer.forward_pass(x)\n",
        "            x = a\n",
        "        return x\n",
        "    \n",
        "    def backward_pass(self, upstream_gradient):\n",
        "        for layer in reversed(self.layers):\n",
        "            upstream_gradient = layer.backward_pass(upstream_gradient)                \n",
        "        return upstream_gradient\n",
        "    \n",
        "    def update_parameters(self,lr):\n",
        "        for layer in self.layers:\n",
        "            if layer.trainable:\n",
        "                layer.update_parameters(lr)\n",
        "                \n",
        "    def update_gradient_history(self):\n",
        "        for layer in self.layers:\n",
        "            if layer.trainable:\n",
        "                layer.gradient_history.append([np.sum(layer.gradient_history_w),np.sum(layer.gradient_history_b)])\n",
        "                layer.gradient_history_w = []\n",
        "                layer.gradient_history_b = []\n",
        "    \n",
        "    def evaluate(self, X):\n",
        "        return self.forward_pass(X)\n",
        "    \n",
        "    def score(self, X, y):\n",
        "        y_pred = self.forward_pass(X)\n",
        "        loss = self.loss.forward_pass(y_pred,y)\n",
        "        return loss"
      ],
      "execution_count": 0,
      "outputs": []
    },
    {
      "cell_type": "markdown",
      "metadata": {
        "id": "v8yCTulMAimz",
        "colab_type": "text"
      },
      "source": [
        "### Layer\n",
        "Each layer has its own initialization (in which we specify whether or not the layer is trainable) and has their forward and backward pass defined for the backpropagation algorithm"
      ]
    },
    {
      "cell_type": "code",
      "metadata": {
        "id": "6h3gaUpAAim0",
        "colab_type": "code",
        "colab": {}
      },
      "source": [
        "class Layer:\n",
        "    def __init__(self):\n",
        "        pass\n",
        "    \n",
        "    def forward_pass(self, x):\n",
        "        pass\n",
        "    \n",
        "    def backward_pass(self, upstream_gradient):\n",
        "        pass"
      ],
      "execution_count": 0,
      "outputs": []
    },
    {
      "cell_type": "markdown",
      "metadata": {
        "id": "trui4qpnAim4",
        "colab_type": "text"
      },
      "source": [
        "### Local layer\n",
        "Each local layer has the weights and bias for an input, and gives an output to be activated with any of the activation functions specified. It is a trainable layer, that means it has a method update_parameters in which the gradient descend algorithm is performed in each parameter (weights and bias) taking into account the local gradient stored "
      ]
    },
    {
      "cell_type": "code",
      "metadata": {
        "id": "jmKfBfSKAim5",
        "colab_type": "code",
        "colab": {}
      },
      "source": [
        "class Local(Layer):\n",
        "    def __init__(self, input_size, output_size, bias = True):\n",
        "        Xstdd = 2 / (input_size + output_size)\n",
        "        self.weights = np.random.normal(loc = 0, scale = Xstdd, size = (input_size, output_size))\n",
        "        if bias:\n",
        "            self.bias = np.zeros(output_size)\n",
        "            self.has_bias = True\n",
        "        else:\n",
        "            self.has_bias = False\n",
        "        self.local_gradient = {}\n",
        "        self.x = None\n",
        "        self.trainable = True\n",
        "        self.gradient_history = []\n",
        "        self.input_size = input_size\n",
        "        self.output_size = output_size\n",
        "        self.gradient_history_w = []\n",
        "        self.gradient_history_b = []\n",
        "    \n",
        "    def initialize(self):\n",
        "        Xstdd = 2 / (self.input_size + self.output_size)\n",
        "        self.weights = np.random.normal(loc = 0, scale = Xstdd, size = (self.input_size, self.output_size))\n",
        "        if self.has_bias:\n",
        "            self.bias = np.zeros(self.output_size)\n",
        "        self.local_gradient = {}\n",
        "        self.gradient_history = []\n",
        "        self.gradient_history_w = []\n",
        "        self.gradient_history_b = []\n",
        "        \n",
        "    # x: (batch_size, input_size)\n",
        "    # w: (input_size, output_size)\n",
        "    def forward_pass(self,_x):\n",
        "        self.x = _x.copy()\n",
        "        return _x @ self.weights + self.bias\n",
        "    \n",
        "    def backward_pass(self,upstream_gradient):\n",
        "        dx = upstream_gradient @ self.weights.T\n",
        "        dw = self.x.T @ upstream_gradient\n",
        "        if self.has_bias:\n",
        "            db = np.sum(upstream_gradient, axis = 0)\n",
        "            self.local_gradient = {'dw': dw, 'db': db}\n",
        "            self.gradient_history_b.append(np.sum(db))\n",
        "        else:\n",
        "            self.local_gradient = {'dw': dw}\n",
        "        self.gradient_history_w.append(np.sum(dw))\n",
        "        return dx\n",
        "    \n",
        "    def update_parameters(self,lr):\n",
        "        self.weights = self.weights - lr*self.local_gradient['dw']\n",
        "        if self.has_bias:\n",
        "            self.bias = self.bias - lr*self.local_gradient['db']"
      ],
      "execution_count": 0,
      "outputs": []
    },
    {
      "cell_type": "markdown",
      "metadata": {
        "id": "76DKP-mPAinA",
        "colab_type": "text"
      },
      "source": [
        "### Activation layers\n",
        "Each activation layer has the forward and backward pass, an is not trainable. Currently available layers: Relu, Sigmoid and Hiperbolic Tangent (Tanh). For a linear activation, do not set any activation."
      ]
    },
    {
      "cell_type": "code",
      "metadata": {
        "id": "D0gM6y58AinC",
        "colab_type": "code",
        "colab": {}
      },
      "source": [
        "class Sigmoid(Layer):\n",
        "    def __init__(self):\n",
        "        self.x = None\n",
        "        self.trainable = False\n",
        "        \n",
        "    def forward_pass(self,_x):\n",
        "        self.x = _x.copy()\n",
        "        return 1 / (1 + np.exp(-_x))\n",
        "    \n",
        "    def backward_pass(self,upstream_gradient):\n",
        "        s_prime = (1 / (1 + np.exp(-self.x)))*(1-(1 / (1 + np.exp(-self.x))))\n",
        "        dx = upstream_gradient * s_prime\n",
        "        return dx"
      ],
      "execution_count": 0,
      "outputs": []
    },
    {
      "cell_type": "code",
      "metadata": {
        "id": "TadCGrB5AinH",
        "colab_type": "code",
        "colab": {}
      },
      "source": [
        "class Relu(Layer):\n",
        "    def __init__(self):\n",
        "        self.x = None\n",
        "        self.trainable = False\n",
        "        \n",
        "    def forward_pass(self,x):\n",
        "        self.x = x\n",
        "        return np.where(x > 0, x, 0)\n",
        "    \n",
        "    def backward_pass(self,upstream_gradient):\n",
        "        r_prime = (self.x > 0).astype(np.float32)\n",
        "        dx = upstream_gradient * r_prime\n",
        "        return dx"
      ],
      "execution_count": 0,
      "outputs": []
    },
    {
      "cell_type": "code",
      "metadata": {
        "id": "E1dJ4SFrAinL",
        "colab_type": "code",
        "colab": {}
      },
      "source": [
        "class Tanh(Layer):\n",
        "    def __init__(self):\n",
        "        self.x = None\n",
        "        self.trainable = False\n",
        "        \n",
        "    def forward_pass(self,x):\n",
        "        self.x = x\n",
        "        return np.tanh(x)\n",
        "    \n",
        "    def backward_pass(self,upstream_gradient):\n",
        "        tan = np.tanh(self.x)\n",
        "        dx = 1 - np.power(tan,2)\n",
        "        return dx   "
      ],
      "execution_count": 0,
      "outputs": []
    },
    {
      "cell_type": "markdown",
      "metadata": {
        "id": "uzoPLmRyAinQ",
        "colab_type": "text"
      },
      "source": [
        "### Loss layer\n",
        "It receives the output of the perceptron and calculates the loss, as well as the gradient passing trough the loss function. It also stores its history, so we can explore the cost in different stages of the training."
      ]
    },
    {
      "cell_type": "code",
      "metadata": {
        "id": "dEeX9aUHAinR",
        "colab_type": "code",
        "colab": {}
      },
      "source": [
        "class Loss:\n",
        "    def __init__(self):\n",
        "        self.history = []\n",
        "    \n",
        "    def forward_pass(self, y_pred, y_true):\n",
        "        pass\n",
        "    \n",
        "    def backward_pass(self):\n",
        "        pass\n",
        "    \n",
        "    def initialize(self):\n",
        "        self.history = []"
      ],
      "execution_count": 0,
      "outputs": []
    },
    {
      "cell_type": "code",
      "metadata": {
        "id": "k6HtsYmnAinV",
        "colab_type": "code",
        "colab": {}
      },
      "source": [
        "class RegressionLoss(Loss):\n",
        "    def forward_pass(self, y_pred, y_true):\n",
        "        a = np.square((y_pred-y_true)*(y_pred - y_true)).sum(axis = 1).mean()\n",
        "        return a\n",
        "    \n",
        "    def backward_pass(self,y_pred,y_true):\n",
        "        return (2/y_true.shape[0])* (y_pred - y_true)"
      ],
      "execution_count": 0,
      "outputs": []
    },
    {
      "cell_type": "markdown",
      "metadata": {
        "id": "VCLfLBYRAinZ",
        "colab_type": "text"
      },
      "source": [
        "# Preprocessing\n",
        "## Data loading and normalization"
      ]
    },
    {
      "cell_type": "code",
      "metadata": {
        "id": "p4GVDhpEAina",
        "colab_type": "code",
        "colab": {}
      },
      "source": [
        "data = pd.read_csv(\"StudentsPerformance.csv\") \n",
        "categorical_vars = list(data.columns[0:5])\n",
        "df_raw = data[categorical_vars]\n",
        "df_temp = df_raw.astype(\"category\").apply(lambda x: x.cat.codes)\n",
        "data[categorical_vars] = df_temp.where(~df_raw.isna(), df_raw)\n",
        "continuous_vars = data.columns.difference(categorical_vars)"
      ],
      "execution_count": 0,
      "outputs": []
    },
    {
      "cell_type": "code",
      "metadata": {
        "id": "nFkr8koQ1nzX",
        "colab_type": "code",
        "colab": {}
      },
      "source": [
        "min_max_scaler = preprocessing.MinMaxScaler()\n",
        "data[continuous_vars]= min_max_scaler.fit_transform(data[continuous_vars])\n",
        "X = data.drop('test preparation course', axis = 1)\n",
        "X = X.astype(np.float64)\n",
        "y = data['test preparation course']"
      ],
      "execution_count": 0,
      "outputs": []
    },
    {
      "cell_type": "code",
      "metadata": {
        "id": "Yb5FfVzR2K_E",
        "colab_type": "code",
        "colab": {}
      },
      "source": [
        "cat_x = X.columns[1:3]\n",
        "enc = OneHotEncoder(sparse = False)\n",
        "a = enc.fit_transform(X[cat_x])\n",
        "a = pd.DataFrame(a)\n",
        "X = pd.concat([a,X], axis = 1)\n",
        "X = X.drop(cat_x, axis = 1)"
      ],
      "execution_count": 0,
      "outputs": []
    },
    {
      "cell_type": "markdown",
      "metadata": {
        "id": "jqIQJbFWAini",
        "colab_type": "text"
      },
      "source": [
        "## Data splitting\n",
        "We need three sets of data: training, validation and test"
      ]
    },
    {
      "cell_type": "code",
      "metadata": {
        "id": "6iYzdT9VAinj",
        "colab_type": "code",
        "colab": {}
      },
      "source": [
        "X_train, X_test, y_train, y_test = train_test_split(X, y, test_size=0.2, random_state=1)\n",
        "\n",
        "X_train, X_val, y_train, y_val = train_test_split(X_train, y_train, test_size=0.25, random_state=1)"
      ],
      "execution_count": 0,
      "outputs": []
    },
    {
      "cell_type": "code",
      "metadata": {
        "id": "ofx7H9_EAinn",
        "colab_type": "code",
        "colab": {}
      },
      "source": [
        "M = X_train.shape[0] # Number of samples\n",
        "m = X_train.shape[1] # Number of features or entries\n",
        "n = m # number of outputs"
      ],
      "execution_count": 0,
      "outputs": []
    },
    {
      "cell_type": "code",
      "metadata": {
        "id": "PT8Z6lXsAinr",
        "colab_type": "code",
        "colab": {}
      },
      "source": [
        "l = 1 # Hidden layers\n",
        "i = 10 # Number of neurons in each hidden layer\n",
        "L = []\n",
        "inp = m\n",
        "activation_functions = [Sigmoid(), Sigmoid()]\n",
        "for j in range(l+1):\n",
        "    a = Local(inp,i)\n",
        "    L.append(Local(inp,i))\n",
        "    L.append(activation_functions[j])\n",
        "    inp = i\n",
        "L.append(Local(inp,n))"
      ],
      "execution_count": 0,
      "outputs": []
    },
    {
      "cell_type": "code",
      "metadata": {
        "id": "ChlHtLMqAinv",
        "colab_type": "code",
        "colab": {}
      },
      "source": [
        "loss = RegressionLoss()\n",
        "model = Model(L,loss)"
      ],
      "execution_count": 0,
      "outputs": []
    },
    {
      "cell_type": "code",
      "metadata": {
        "id": "PbLFOYQjAin3",
        "colab_type": "code",
        "colab": {}
      },
      "source": [
        "lr = 0.5\n",
        "batch_size = 10\n",
        "epochs = 100\n",
        "tol = 1e-2"
      ],
      "execution_count": 0,
      "outputs": []
    },
    {
      "cell_type": "code",
      "metadata": {
        "id": "BDrRoCggwQgA",
        "colab_type": "code",
        "colab": {
          "base_uri": "https://localhost:8080/",
          "height": 1000
        },
        "outputId": "93f3927f-1b0a-4df6-b330-9c971643d5c0"
      },
      "source": [
        "test_loss"
      ],
      "execution_count": 34,
      "outputs": [
        {
          "output_type": "execute_result",
          "data": {
            "text/plain": [
              "[0.9573881742441371,\n",
              " 0.9570069381060567,\n",
              " 0.9563904308582013,\n",
              " 0.9552717598284608,\n",
              " 0.952886620824842,\n",
              " 0.9466493591306413,\n",
              " 0.9305538724361315,\n",
              " 0.9132354425066243,\n",
              " 0.9046880356411948,\n",
              " 0.9019198217089226,\n",
              " 0.9004678229682672,\n",
              " 0.8981394871661759,\n",
              " 0.8942644954190083,\n",
              " 0.8878312140336103,\n",
              " 0.8746177568670988,\n",
              " 0.8306822109065303,\n",
              " 0.7701090689243415,\n",
              " 0.7634342114781301,\n",
              " 0.7625517532488097,\n",
              " 0.7592260989620856,\n",
              " 0.7468909017590784,\n",
              " 0.6938330977296358,\n",
              " 0.6745280532487306,\n",
              " 0.6647865405006655,\n",
              " 0.6596845761891237,\n",
              " 0.652613400747413,\n",
              " 0.6410141014961701,\n",
              " 0.6138938986890905,\n",
              " 0.5937094873028405,\n",
              " 0.5937297574522441,\n",
              " 0.578407757035829,\n",
              " 0.53823535872764,\n",
              " 0.4675794882092354,\n",
              " 0.44305400531577627,\n",
              " 0.4380052271976574,\n",
              " 0.4005969577034598,\n",
              " 0.40440564916194705,\n",
              " 0.3902974472444172,\n",
              " 0.3924081315965556,\n",
              " 0.35979180036686137,\n",
              " 0.33153964163030464,\n",
              " 0.3155946251834402,\n",
              " 0.2975002724409555,\n",
              " 0.29623033322827963,\n",
              " 0.28802723717498513,\n",
              " 0.2867441607974298,\n",
              " 0.27920730041237085,\n",
              " 0.2710226838846201,\n",
              " 0.2606069312512501,\n",
              " 0.24456831433197063,\n",
              " 0.2216955855912546,\n",
              " 0.19065989248264212,\n",
              " 0.15932544859199418,\n",
              " 0.13306834962847824,\n",
              " 0.13085922543506903,\n",
              " 0.12307449005193766,\n",
              " 0.11576628086849221,\n",
              " 0.12597900783786792,\n",
              " 0.12154340868428258,\n",
              " 0.12247976086352619,\n",
              " 0.11681676736314837,\n",
              " 0.12226251915649294,\n",
              " 0.12023010670903705,\n",
              " 0.11526033699750406,\n",
              " 0.12037173036743891,\n",
              " 0.12113430772843359,\n",
              " 0.11852323547941035,\n",
              " 0.11472171112078171,\n",
              " 0.11728231418870197,\n",
              " 0.12252238983175788,\n",
              " 0.11476972741575438,\n",
              " 0.11072940475309641,\n",
              " 0.1101551728696319,\n",
              " 0.11422441265534342,\n",
              " 0.10871092099249254,\n",
              " 0.10224750476805591,\n",
              " 0.10028553753209649,\n",
              " 0.09712517959866515,\n",
              " 0.09525974054608709,\n",
              " 0.09168908452298911,\n",
              " 0.08866593734319345,\n",
              " 0.10165267409925066,\n",
              " 0.08407991381454898,\n",
              " 0.07874364653296603,\n",
              " 0.07344213552638859,\n",
              " 0.06988571227001955,\n",
              " 0.08032264338095771,\n",
              " 0.06255721353099408,\n",
              " 0.057474251984566925,\n",
              " 0.05496838325501632,\n",
              " 0.06132090024113508,\n",
              " 0.05106656778561826,\n",
              " 0.045611088862980924,\n",
              " 0.045413124599461466,\n",
              " 0.04605686561392861,\n",
              " 0.04070565127772783,\n",
              " 0.04707039029188729,\n",
              " 0.039105974709771486,\n",
              " 0.03782354818598744,\n",
              " 0.03655511653861734,\n",
              " 0.037132499696509995]"
            ]
          },
          "metadata": {
            "tags": []
          },
          "execution_count": 34
        }
      ]
    },
    {
      "cell_type": "markdown",
      "metadata": {
        "id": "4UPspRLlAin8",
        "colab_type": "text"
      },
      "source": [
        "## First learning rate"
      ]
    },
    {
      "cell_type": "code",
      "metadata": {
        "id": "0SV694tsAin9",
        "colab_type": "code",
        "outputId": "7f450896-a8d0-4b2a-e42c-de3f18f6657c",
        "colab": {
          "base_uri": "https://localhost:8080/",
          "height": 1000
        }
      },
      "source": [
        "test_loss = model.fit(X_train.values, X_train.values, lr, epochs, batch_size, tol)"
      ],
      "execution_count": 33,
      "outputs": [
        {
          "output_type": "stream",
          "text": [
            "epoch 0: loss 3.943608102994729\n",
            "epoch 1: loss 1.198898595354663\n",
            "epoch 2: loss 1.1975461601911148\n",
            "epoch 3: loss 1.1952691483283997\n",
            "epoch 4: loss 1.19087590870666\n",
            "epoch 5: loss 1.1806036006774128\n",
            "epoch 6: loss 1.1520866304196382\n",
            "epoch 7: loss 1.0934249762743593\n",
            "epoch 8: loss 1.0482707665342403\n",
            "epoch 9: loss 1.0379893655170878\n",
            "epoch 10: loss 1.0384555154855115\n",
            "epoch 11: loss 1.039337313509037\n",
            "epoch 12: loss 1.0392195614750572\n",
            "epoch 13: loss 1.0381932319152698\n",
            "epoch 14: loss 1.0358575692549175\n",
            "epoch 15: loss 1.0307142545646935\n",
            "epoch 16: loss 0.9434336741846107\n",
            "epoch 17: loss 0.8722581770185099\n",
            "epoch 18: loss 0.8545005477263984\n",
            "epoch 19: loss 0.8460769837690514\n",
            "epoch 20: loss 0.8333484926789823\n",
            "epoch 21: loss 0.8168010604636099\n",
            "epoch 22: loss 0.7461847859545659\n",
            "epoch 23: loss 0.716754630918686\n",
            "epoch 24: loss 0.7061423961303838\n",
            "epoch 25: loss 0.6980119867325036\n",
            "epoch 26: loss 0.6870616735553716\n",
            "epoch 27: loss 0.6619685466599068\n",
            "epoch 28: loss 0.6297413634923525\n",
            "epoch 29: loss 0.5968865532062975\n",
            "epoch 30: loss 0.5647201954183312\n",
            "epoch 31: loss 0.5340734938176444\n",
            "epoch 32: loss 0.4828206724850172\n",
            "epoch 33: loss 0.4227362699457294\n",
            "epoch 34: loss 0.3857803090736625\n",
            "epoch 35: loss 0.3730846443790885\n",
            "epoch 36: loss 0.35090449074242513\n",
            "epoch 37: loss 0.3424040785187534\n",
            "epoch 38: loss 0.34658827083302973\n",
            "epoch 39: loss 0.3101055940846396\n",
            "epoch 40: loss 0.3015287707354427\n",
            "epoch 41: loss 0.27662335713860514\n",
            "epoch 42: loss 0.2630111355974457\n",
            "epoch 43: loss 0.26019984470406526\n",
            "epoch 44: loss 0.2420088580305764\n",
            "epoch 45: loss 0.2483868670347461\n",
            "epoch 46: loss 0.23367531366419808\n",
            "epoch 47: loss 0.22760428952029338\n",
            "epoch 48: loss 0.218982836149235\n",
            "epoch 49: loss 0.20807862809348368\n",
            "epoch 50: loss 0.1926683340094137\n",
            "epoch 51: loss 0.17255095542586607\n",
            "epoch 52: loss 0.15359328287455273\n",
            "epoch 53: loss 0.1389428589392344\n",
            "epoch 54: loss 0.12720565318630636\n",
            "epoch 55: loss 0.11207782505443348\n",
            "epoch 56: loss 0.1042703826555749\n",
            "epoch 57: loss 0.11234783440700687\n",
            "epoch 58: loss 0.10593391132623645\n",
            "epoch 59: loss 0.10481468866595658\n",
            "epoch 60: loss 0.09951045519067198\n",
            "epoch 61: loss 0.10120099806216754\n",
            "epoch 62: loss 0.093785572307341\n",
            "epoch 63: loss 0.093224996729742\n",
            "epoch 64: loss 0.09964104932542642\n",
            "epoch 65: loss 0.10427134491926598\n",
            "epoch 66: loss 0.09208634233624141\n",
            "epoch 67: loss 0.0912731232591154\n",
            "epoch 68: loss 0.09646302842401534\n",
            "epoch 69: loss 0.09084613941615068\n",
            "epoch 70: loss 0.0947413784611076\n",
            "epoch 71: loss 0.0870576009613778\n",
            "epoch 72: loss 0.09038028050216322\n",
            "epoch 73: loss 0.08511694209531306\n",
            "epoch 74: loss 0.09462018824679386\n",
            "epoch 75: loss 0.08196266616851164\n",
            "epoch 76: loss 0.0815460158618071\n",
            "epoch 77: loss 0.0793126259210632\n",
            "epoch 78: loss 0.07765802258965453\n",
            "epoch 79: loss 0.07556356070325373\n",
            "epoch 80: loss 0.07384718922453189\n",
            "epoch 81: loss 0.07331328985774195\n",
            "epoch 82: loss 0.08724563442655617\n",
            "epoch 83: loss 0.06781730783545181\n",
            "epoch 84: loss 0.06410048742369123\n",
            "epoch 85: loss 0.06152000547808831\n",
            "epoch 86: loss 0.0655852278685986\n",
            "epoch 87: loss 0.05991195289900631\n",
            "epoch 88: loss 0.05461855141527721\n",
            "epoch 89: loss 0.05187217007367749\n",
            "epoch 90: loss 0.053315443183328294\n",
            "epoch 91: loss 0.05356834716981889\n",
            "epoch 92: loss 0.04644163626440537\n",
            "epoch 93: loss 0.04478622766909938\n",
            "epoch 94: loss 0.04301765921988306\n",
            "epoch 95: loss 0.04145759553591708\n",
            "epoch 96: loss 0.05386781505441366\n",
            "epoch 97: loss 0.038866465044623634\n",
            "epoch 98: loss 0.03690792639269142\n",
            "epoch 99: loss 0.037525550466446046\n",
            "epoch 100: loss 0.03918226810200485\n"
          ],
          "name": "stdout"
        }
      ]
    },
    {
      "cell_type": "markdown",
      "metadata": {
        "id": "P_oQm9AXAioD",
        "colab_type": "text"
      },
      "source": [
        "### Energy of the instant error"
      ]
    },
    {
      "cell_type": "code",
      "metadata": {
        "id": "pOATj2vTAioD",
        "colab_type": "code",
        "outputId": "444caf0a-2aa4-4f27-e47b-470f3c3672a9",
        "colab": {
          "base_uri": "https://localhost:8080/",
          "height": 281
        }
      },
      "source": [
        "plt.plot(loss.history, label = 'Training loss')\n",
        "plt.title('Loss history')\n",
        "plt.plot(test_loss, label = 'Test loss')\n",
        "plt.legend()\n",
        "plt.show()"
      ],
      "execution_count": 36,
      "outputs": [
        {
          "output_type": "display_data",
          "data": {
            "image/png": "[encoded data removed]",
            "text/plain": [
              "<Figure size 432x288 with 1 Axes>"
            ]
          },
          "metadata": {
            "tags": [],
            "needs_background": "light"
          }
        }
      ]
    },
    {
      "cell_type": "code",
      "metadata": {
        "id": "CRMFse5QudWf",
        "colab_type": "code",
        "colab": {
          "base_uri": "https://localhost:8080/",
          "height": 35
        },
        "outputId": "49502783-2f34-4c1e-8bbc-edcb54a1d532"
      },
      "source": [
        "print('Test score: ', model.score(X_test, X_test))"
      ],
      "execution_count": 20,
      "outputs": [
        {
          "output_type": "stream",
          "text": [
            "Test score:  0.017611415739129145\n"
          ],
          "name": "stdout"
        }
      ]
    },
    {
      "cell_type": "code",
      "metadata": {
        "id": "l_gFIDrvtvOh",
        "colab_type": "code",
        "colab": {}
      },
      "source": [
        "scores = []\n",
        "cv = KFold(n_splits=10, shuffle = True, random_state = 42)\n",
        "for train_index, test_index in cv.split(X_val):\n",
        "    loss = RegressionLoss()\n",
        "    model_ = Model(L,loss)\n",
        "    X_train_v, X_test_v = X_val.values[train_index], X_val.values[test_index]\n",
        "    model_.fit(X_train_v, X_train_v, lr, epochs, batch_size, tol, print_loss = False)\n",
        "    scores.append(model_.score(X_test_v, X_test_v))"
      ],
      "execution_count": 0,
      "outputs": []
    },
    {
      "cell_type": "code",
      "metadata": {
        "id": "fb_QX4lZuLB6",
        "colab_type": "code",
        "colab": {
          "base_uri": "https://localhost:8080/",
          "height": 53
        },
        "outputId": "8159111c-58e5-4ee8-c2b7-14bea206842b"
      },
      "source": [
        "print('Cross validation score: ', np.mean(scores))\n",
        "print('Test score: ', model.score(X_test, X_test))"
      ],
      "execution_count": 22,
      "outputs": [
        {
          "output_type": "stream",
          "text": [
            "Cross validation score:  0.04487935954239422\n",
            "Test score:  0.03243881716618395\n"
          ],
          "name": "stdout"
        }
      ]
    },
    {
      "cell_type": "markdown",
      "metadata": {
        "id": "JUattd-5mzTA",
        "colab_type": "text"
      },
      "source": [
        "## Extract the encoded dataset"
      ]
    },
    {
      "cell_type": "code",
      "metadata": {
        "id": "01fL5PMzmxy-",
        "colab_type": "code",
        "colab": {}
      },
      "source": [
        "X_encoded = L[1].forward_pass(L[0].forward_pass(X))"
      ],
      "execution_count": 0,
      "outputs": []
    },
    {
      "cell_type": "code",
      "metadata": {
        "id": "I-c-1SSqm6fc",
        "colab_type": "code",
        "colab": {}
      },
      "source": [
        "X_encoded.to_csv('/content/students_encoded.csv')"
      ],
      "execution_count": 0,
      "outputs": []
    },
    {
      "cell_type": "code",
      "metadata": {
        "id": "kMnDcWxtnHLY",
        "colab_type": "code",
        "colab": {}
      },
      "source": [
        ""
      ],
      "execution_count": 0,
      "outputs": []
    }
  ]
}