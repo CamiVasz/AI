{
  "nbformat": 4,
  "nbformat_minor": 0,
  "metadata": {
    "colab": {
      "name": "lenet5-mnist.ipynb",
      "provenance": [],
      "collapsed_sections": [],
      "toc_visible": true
    },
    "kernelspec": {
      "name": "python3",
      "display_name": "Python 3"
    },
    "accelerator": "GPU"
  },
  "cells": [
    {
      "cell_type": "markdown",
      "metadata": {
        "id": "8T9gTj0WZSuo",
        "colab_type": "text"
      },
      "source": [
        "# MNIST training using CNN (LeNet5) \n",
        "_María Camila Vásquez Correa_\n",
        "\n",
        "[LeNet architecture source](https://github.com/ChawDoe/LeNet5-MNIST-PyTorch)"
      ]
    },
    {
      "cell_type": "code",
      "metadata": {
        "id": "IG2FQTFqXEge",
        "colab_type": "code",
        "colab": {}
      },
      "source": [
        "from mlxtend.data import loadlocal_mnist\n",
        "import torchvision.transforms as transforms\n",
        "%matplotlib inline\n",
        "import os\n",
        "\n",
        "import torch\n",
        "import torch.nn as nn\n",
        "import torch.nn.functional as F\n",
        "from skimage import io, transform\n",
        "from torch.utils.data import Dataset, DataLoader\n",
        "import matplotlib.pyplot as plt\n",
        "import numpy as np"
      ],
      "execution_count": 0,
      "outputs": []
    },
    {
      "cell_type": "markdown",
      "metadata": {
        "id": "kWxuzs070b21",
        "colab_type": "text"
      },
      "source": [
        "## Data loading\n",
        "\n",
        "The dataset that is going to be used is the original [mnis dataset](http://yann.lecun.com/exdb/mnist/) that must be in the specified path (local loading)"
      ]
    },
    {
      "cell_type": "code",
      "metadata": {
        "id": "tCAdJ2HTXyBJ",
        "colab_type": "code",
        "colab": {}
      },
      "source": [
        "X_train, y_train = loadlocal_mnist(\n",
        "        images_path='/content/data/train-images-idx3-ubyte', \n",
        "        labels_path='/content/data/train-labels-idx1-ubyte')\n",
        "\n",
        "X_test, y_test = loadlocal_mnist(\n",
        "        images_path='/content/data/t10k-images-idx3-ubyte', \n",
        "        labels_path='/content/data/t10k-labels-idx1-ubyte')"
      ],
      "execution_count": 0,
      "outputs": []
    },
    {
      "cell_type": "markdown",
      "metadata": {
        "id": "e5VPiPxG0zwZ",
        "colab_type": "text"
      },
      "source": [
        "### Dataset pytorch\n",
        "In order to handle the data in Pytorch, we define a class MnistDataset that is an heir from the Dataset class and includes a way to know the length of the dataset as well as an indexer that retrieves the elements of the dataset in the index 'idx'."
      ]
    },
    {
      "cell_type": "code",
      "metadata": {
        "id": "VdfGYCSTie0i",
        "colab_type": "code",
        "colab": {}
      },
      "source": [
        "class MNISTDataset(Dataset):    \n",
        "    def __init__(self, X, y, size = 28, transform=None):\n",
        "        self.X = X\n",
        "        self.y = y\n",
        "        self.size = size\n",
        "        self.transform = transform\n",
        "\n",
        "    def __len__(self):\n",
        "        return len(self.y)\n",
        "\n",
        "    def __getitem__(self, idx):\n",
        "        if torch.is_tensor(idx):\n",
        "            idx = idx.tolist()\n",
        "\n",
        "        sample = {'image': self.X[idx,:].reshape(28,28), 'label': self.y[idx]}\n",
        "        sample['image'] = np.array(transforms.Resize(self.size)(transforms.ToPILImage()(sample['image'])))\n",
        "        sample['image'] = transforms.ToTensor()(sample['image']).reshape(1,self.size, self.size)\n",
        "\n",
        "        if self.transform:\n",
        "            sample['image'] = self.transform(sample['image'])\n",
        "\n",
        "        return sample"
      ],
      "execution_count": 0,
      "outputs": []
    },
    {
      "cell_type": "code",
      "metadata": {
        "id": "mIARu7golA7A",
        "colab_type": "code",
        "outputId": "407ee737-4c3b-47dc-bbc3-2dc7bc931eaa",
        "colab": {
          "base_uri": "https://localhost:8080/",
          "height": 97
        }
      },
      "source": [
        "mnist = MNISTDataset(X_train, y_train)\n",
        "\n",
        "fig = plt.figure()\n",
        "\n",
        "for i in range(5):\n",
        "    sample = mnist[i]\n",
        "\n",
        "    ax = plt.subplot(1, 5, i + 1)\n",
        "    plt.imshow(sample['image'].reshape(28,28))\n",
        "    plt.tight_layout()\n",
        "    ax.set_title('Sample #{}'.format(i))\n",
        "    ax.axis('off')\n",
        "plt.show()"
      ],
      "execution_count": 4,
      "outputs": [
        {
          "output_type": "display_data",
          "data": {
            "image/png": "[encoded data removed]",
            "text/plain": [
              "<Figure size 432x288 with 5 Axes>"
            ]
          },
          "metadata": {
            "tags": [],
            "needs_background": "light"
          }
        }
      ]
    },
    {
      "cell_type": "markdown",
      "metadata": {
        "id": "XRmQjY-dt4DS",
        "colab_type": "text"
      },
      "source": [
        "## LeNet 5\n",
        "This architecture built in Python can be found [here](https://github.com/ChawDoe/LeNet5-MNIST-PyTorch)."
      ]
    },
    {
      "cell_type": "code",
      "metadata": {
        "id": "oryqESpnZ8km",
        "colab_type": "code",
        "colab": {}
      },
      "source": [
        "from torch.nn import Module\n",
        "from torch import nn\n",
        "\n",
        "\n",
        "class Model(Module):\n",
        "    def __init__(self):\n",
        "        super(Model, self).__init__()\n",
        "        self.conv1 = nn.Conv2d(1, 6, 5)\n",
        "        self.relu1 = nn.ReLU()\n",
        "        self.pool1 = nn.MaxPool2d(2)\n",
        "        self.conv2 = nn.Conv2d(6, 16, 5)\n",
        "        self.relu2 = nn.ReLU()\n",
        "        self.pool2 = nn.MaxPool2d(2)\n",
        "        self.fc1 = nn.Linear(256, 120)\n",
        "        self.relu3 = nn.ReLU()\n",
        "        self.fc2 = nn.Linear(120, 84)\n",
        "        self.relu4 = nn.ReLU()\n",
        "        self.fc3 = nn.Linear(84, 10)\n",
        "        self.relu5 = nn.ReLU()\n",
        "\n",
        "    def forward(self, x):\n",
        "        y = self.conv1(x)\n",
        "        y = self.relu1(y)\n",
        "        y = self.pool1(y)\n",
        "        y = self.conv2(y)\n",
        "        y = self.relu2(y)\n",
        "        y = self.pool2(y)\n",
        "        y = y.view(y.shape[0], -1)\n",
        "        y = self.fc1(y)\n",
        "        y = self.relu3(y)\n",
        "        y = self.fc2(y)\n",
        "        y = self.relu4(y)\n",
        "        y = self.fc3(y)\n",
        "        y = self.relu5(y)\n",
        "        return y"
      ],
      "execution_count": 0,
      "outputs": []
    },
    {
      "cell_type": "code",
      "metadata": {
        "id": "Izkg2mbruIiW",
        "colab_type": "code",
        "outputId": "b3bd1191-62e0-4c8c-dff8-7993c7059306",
        "colab": {
          "base_uri": "https://localhost:8080/",
          "height": 109
        }
      },
      "source": [
        "import numpy as np\n",
        "import torch\n",
        "from torch.nn import CrossEntropyLoss\n",
        "from torch.optim import SGD\n",
        "from torch.utils.data import DataLoader\n",
        "\n",
        "batch_size = 256\n",
        "model = Model()\n",
        "train_dataset = MNISTDataset(X_train, y_train, size = 28)\n",
        "test_dataset = MNISTDataset(X_test, y_test, size = 28)\n",
        "train_loader = DataLoader(train_dataset, batch_size=batch_size, shuffle=True)\n",
        "test_loader = DataLoader(test_dataset, batch_size=batch_size, shuffle=True)\n",
        "sgd = SGD(model.parameters(), lr=1e-1)\n",
        "cross_error = CrossEntropyLoss()\n",
        "epoch = 10\n",
        "\n",
        "loss = []\n",
        "for _epoch in range(epoch):\n",
        "    errors = []\n",
        "    for idx, d_point in enumerate(train_loader):\n",
        "        train_label = d_point['label']\n",
        "        train_x = d_point['image']\n",
        "        label_np = np.zeros((train_label.shape[0], 10))\n",
        "        sgd.zero_grad()\n",
        "        predict_y = model(train_x.float())\n",
        "        _error = cross_error(predict_y, train_label.long())\n",
        "        _error.backward()\n",
        "        errors.append(_error.detach().numpy())\n",
        "        sgd.step()\n",
        "    if _epoch % 10 == 0:\n",
        "            print('idx: {}, _error: {}'.format(_epoch, np.mean(errors)))\n",
        "    loss.extend(errors)\n",
        "\n",
        "    correct = 0\n",
        "    _sum = 0\n",
        "\n",
        "    for idx, d_point in enumerate(test_loader):\n",
        "        test_label = d_point['label']\n",
        "        predict_y = model(d_point['image'].float()).detach()\n",
        "        predict_ys = np.argmax(predict_y, axis=-1)\n",
        "        label_np = test_label.numpy()\n",
        "        _ = predict_ys == test_label\n",
        "        correct += np.sum(_.numpy(), axis=-1)\n",
        "        _sum += _.shape[0]\n",
        "    if _epoch % 10 == 0:\n",
        "      print('accuracy: {:.2f}'.format(correct / _sum))\n",
        "      torch.save(model, 'mnist_{:.2f}.pkl'.format(correct / _sum))"
      ],
      "execution_count": 6,
      "outputs": [
        {
          "output_type": "stream",
          "text": [
            "idx: 0, _error: 1.8256009817123413\n",
            "accuracy: 0.77\n"
          ],
          "name": "stdout"
        },
        {
          "output_type": "stream",
          "text": [
            "/usr/local/lib/python3.6/dist-packages/torch/serialization.py:402: UserWarning: Couldn't retrieve source code for container of type Model. It won't be checked for correctness upon loading.\n",
            "  \"type \" + obj.__name__ + \". It won't be checked \"\n"
          ],
          "name": "stderr"
        }
      ]
    },
    {
      "cell_type": "code",
      "metadata": {
        "id": "G19p5WMlGe7G",
        "colab_type": "code",
        "outputId": "00b7a4c2-bad3-408a-8fc4-3f6baa6fec36",
        "colab": {
          "base_uri": "https://localhost:8080/",
          "height": 265
        }
      },
      "source": [
        "plt.plot(loss)\n",
        "plt.show()"
      ],
      "execution_count": 7,
      "outputs": [
        {
          "output_type": "display_data",
          "data": {
            "image/png": "[encoded data removed]",
            "text/plain": [
              "<Figure size 432x288 with 1 Axes>"
            ]
          },
          "metadata": {
            "tags": [],
            "needs_background": "light"
          }
        }
      ]
    },
    {
      "cell_type": "code",
      "metadata": {
        "id": "z-Fgu-kvbOJo",
        "colab_type": "code",
        "colab": {}
      },
      "source": [
        ""
      ],
      "execution_count": 0,
      "outputs": []
    }
  ]
}