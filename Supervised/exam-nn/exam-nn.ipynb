{
 "cells": [
  {
   "cell_type": "markdown",
   "metadata": {},
   "source": [
    "# Back propagation algorithm\n",
    "_María Camila Vásquez Correa_"
   ]
  },
  {
   "cell_type": "code",
   "execution_count": 1,
   "metadata": {},
   "outputs": [],
   "source": [
    "import itertools\n",
    "import numpy as np\n",
    "import matplotlib.pyplot as plt\n",
    "import pandas as pd\n",
    "from sklearn.model_selection import train_test_split\n",
    "from sklearn import preprocessing\n",
    "from sklearn.model_selection import KFold"
   ]
  },
  {
   "cell_type": "markdown",
   "metadata": {},
   "source": [
    "## Multilayer perceptron\n",
    "The class model receives a list of layers (with its respective activation function) along with the loss that is going to be used for the training to initialize.\n",
    "* The fit method performs the training on X and y using learning rate lr, a number of epochs epochs, a batch_size and stops given a tolerance tol.\n",
    "* The evaluate method gives the prediction for an X\n",
    "* The score method gives the cost function for an X and y"
   ]
  },
  {
   "cell_type": "code",
   "execution_count": 2,
   "metadata": {},
   "outputs": [],
   "source": [
    "class Model:\n",
    "    def __init__(self, layers, loss):\n",
    "        self.layers = layers\n",
    "        self.loss = loss\n",
    "    \n",
    "    def fit(self, X, y, lr, epochs, batch_size, tol,print_loss = True):\n",
    "        if self.loss.history:\n",
    "            self.initialize()\n",
    "        total_loss = np.inf\n",
    "        j = 0\n",
    "        while j <= epochs and total_loss >= tol:\n",
    "            _loss = 0\n",
    "            batches = len(y)//batch_size\n",
    "            for i in range(batches):\n",
    "                y_pred = self.forward_pass(X[i*batch_size:(i+1)*batch_size])\n",
    "                loss_ = self.loss.forward_pass(y_pred,y[i*batch_size:(i+1)*batch_size])\n",
    "                loss_gradient = loss.backward_pass(y_pred, y[i*batch_size:(i+1)*batch_size])\n",
    "                self.backward_pass(loss_gradient)\n",
    "                self.update_parameters(lr)\n",
    "                _loss += loss_\n",
    "            total_loss = _loss/batches\n",
    "            loss.history.append(total_loss)\n",
    "            self.update_gradient_history()\n",
    "            if print_loss:\n",
    "                print(f'epoch {j}: loss {total_loss}') \n",
    "            j += 1\n",
    "    \n",
    "    def initialize(self):\n",
    "        for layer in self.layers:\n",
    "            if layer.trainable:\n",
    "                layer.initialize()\n",
    "        self.loss.initialize()\n",
    "    \n",
    "    def forward_pass(self, X):\n",
    "        x = X\n",
    "        for layer in self.layers:\n",
    "            x = layer.forward_pass(x)\n",
    "        return x\n",
    "    \n",
    "    def backward_pass(self, upstream_gradient):\n",
    "        for layer in reversed(self.layers):\n",
    "            upstream_gradient = layer.backward_pass(upstream_gradient)                \n",
    "        return upstream_gradient\n",
    "    \n",
    "    def update_parameters(self,lr):\n",
    "        for layer in self.layers:\n",
    "            if layer.trainable:\n",
    "                layer.update_parameters(lr)\n",
    "                \n",
    "    def update_gradient_history(self):\n",
    "        for layer in self.layers:\n",
    "            if layer.trainable:\n",
    "                layer.gradient_history.append([np.sum(layer.gradient_history_w),np.sum(layer.gradient_history_b)])\n",
    "                layer.gradient_history_w = []\n",
    "                layer.gradient_history_b = []\n",
    "    \n",
    "    def evaluate(self, X):\n",
    "        return self.forward_pass(X)\n",
    "    \n",
    "    def score(self, X, y):\n",
    "        y_pred = self.forward_pass(X)\n",
    "        loss = self.loss.forward_pass(y_pred,y)\n",
    "        return loss"
   ]
  },
  {
   "cell_type": "markdown",
   "metadata": {},
   "source": [
    "### Layer\n",
    "Each layer has its own initialization (in which we specify whether or not the layer is trainable) and has their forward and backward pass defined for the backpropagation algorithm"
   ]
  },
  {
   "cell_type": "code",
   "execution_count": 3,
   "metadata": {},
   "outputs": [],
   "source": [
    "class Layer:\n",
    "    def __init__(self):\n",
    "        pass\n",
    "    \n",
    "    def forward_pass(self, x):\n",
    "        pass\n",
    "    \n",
    "    def backward_pass(self, upstream_gradient):\n",
    "        pass"
   ]
  },
  {
   "cell_type": "markdown",
   "metadata": {},
   "source": [
    "### Local layer\n",
    "Each local layer has the weights and bias for an input, and gives an output to be activated with any of the activation functions specified. It is a trainable layer, that means it has a method update_parameters in which the gradient descend algorithm is performed in each parameter (weights and bias) taking into account the local gradient stored "
   ]
  },
  {
   "cell_type": "code",
   "execution_count": 4,
   "metadata": {},
   "outputs": [],
   "source": [
    "class Local(Layer):\n",
    "    def __init__(self, input_size, output_size, bias = True):\n",
    "        self.weights = np.random.random((input_size, output_size))\n",
    "        if bias:\n",
    "            self.bias = np.zeros(output_size)\n",
    "            self.has_bias = True\n",
    "        else:\n",
    "            self.has_bias = False\n",
    "        self.local_gradient = {}\n",
    "        self.x = None\n",
    "        self.trainable = True\n",
    "        self.gradient_history = []\n",
    "        self.input_size = input_size\n",
    "        self.output_size = output_size\n",
    "        self.gradient_history_w = []\n",
    "        self.gradient_history_b = []\n",
    "    \n",
    "    def initialize(self):\n",
    "        self.weights = np.random.random((self.input_size, self.output_size))\n",
    "        if self.has_bias:\n",
    "            self.bias = np.zeros(self.output_size)\n",
    "        self.local_gradient = {}\n",
    "        self.gradient_history = []\n",
    "        self.gradient_history_w = []\n",
    "        self.gradient_history_b = []\n",
    "        \n",
    "    # x: (batch_size, input_size)\n",
    "    # w: (input_size, output_size)\n",
    "    def forward_pass(self,x):\n",
    "        self.x = x\n",
    "        return x @ self.weights + self.bias\n",
    "    \n",
    "    def backward_pass(self,upstream_gradient):\n",
    "        dx = upstream_gradient @ self.weights.T\n",
    "        dw = self.x.T @ upstream_gradient\n",
    "        if self.has_bias:\n",
    "            db = np.sum(upstream_gradient, axis = 0)\n",
    "            self.local_gradient = {'dw': dw, 'db': db}\n",
    "            self.gradient_history_b.append(np.sum(db))\n",
    "        else:\n",
    "            self.local_gradient = {'dw': dw}\n",
    "        self.gradient_history_w.append(np.sum(dw))\n",
    "        return dx\n",
    "    \n",
    "    def update_parameters(self,lr):\n",
    "        self.weights = self.weights - lr*self.local_gradient['dw']\n",
    "        if self.has_bias:\n",
    "            self.bias = self.bias - lr*self.local_gradient['db']"
   ]
  },
  {
   "cell_type": "markdown",
   "metadata": {},
   "source": [
    "### Activation layers\n",
    "Each activation layer has the forward and backward pass, an is not trainable. Currently available layers: Relu, Sigmoid and Hiperbolic Tangent (Tanh). For a linear activation, do not set any activation."
   ]
  },
  {
   "cell_type": "code",
   "execution_count": 5,
   "metadata": {},
   "outputs": [],
   "source": [
    "class Sigmoid(Layer):\n",
    "    def __init__(self):\n",
    "        self.x = None\n",
    "        self.trainable = False\n",
    "        \n",
    "    def forward_pass(self,x):\n",
    "        self.x = x\n",
    "        return 1 / (1 + np.exp(-x))\n",
    "    \n",
    "    def backward_pass(self,upstream_gradient):\n",
    "        s_prime = (1 / (1 + np.exp(-self.x)))*(1-(1 / (1 + np.exp(-self.x))))\n",
    "        dx = upstream_gradient * s_prime\n",
    "        return dx"
   ]
  },
  {
   "cell_type": "code",
   "execution_count": 6,
   "metadata": {},
   "outputs": [],
   "source": [
    "class Relu(Layer):\n",
    "    def __init__(self):\n",
    "        self.x = None\n",
    "        self.trainable = False\n",
    "        \n",
    "    def forward_pass(self,x):\n",
    "        self.x = x\n",
    "        return np.where(x > 0, x, 0)\n",
    "    \n",
    "    def backward_pass(self,upstream_gradient):\n",
    "        r_prime = (self.x > 0).astype(np.float32)\n",
    "        dx = upstream_gradient * r_prime\n",
    "        return dx"
   ]
  },
  {
   "cell_type": "code",
   "execution_count": 7,
   "metadata": {},
   "outputs": [],
   "source": [
    "class Tanh(Layer):\n",
    "    def __init__(self):\n",
    "        self.x = None\n",
    "        self.trainable = False\n",
    "        \n",
    "    def forward_pass(self,x):\n",
    "        self.x = x\n",
    "        return np.tanh(x)\n",
    "    \n",
    "    def backward_pass(self,upstream_gradient):\n",
    "        tan = np.tanh(self.x)\n",
    "        dx = 1 - np.power(tan,2)\n",
    "        return dx   "
   ]
  },
  {
   "cell_type": "markdown",
   "metadata": {},
   "source": [
    "### Loss layer\n",
    "It receives the output of the perceptron and calculates the loss, as well as the gradient passing trough the loss function. It also stores its history, so we can explore the cost in different stages of the training."
   ]
  },
  {
   "cell_type": "code",
   "execution_count": 8,
   "metadata": {},
   "outputs": [],
   "source": [
    "class Loss:\n",
    "    def __init__(self):\n",
    "        self.history = []\n",
    "    \n",
    "    def forward_pass(self, y_pred, y_true):\n",
    "        pass\n",
    "    \n",
    "    def backward_pass(self):\n",
    "        pass\n",
    "    \n",
    "    def initialize(self):\n",
    "        self.history = []"
   ]
  },
  {
   "cell_type": "code",
   "execution_count": 9,
   "metadata": {},
   "outputs": [],
   "source": [
    "class RegressionLoss(Loss):\n",
    "    def forward_pass(self, y_pred, y_true):\n",
    "        a = np.sum((y_pred - y_true)**2)\n",
    "        return a\n",
    "    \n",
    "    def backward_pass(self,y_pred,y_true):\n",
    "        return (2 * (y_pred - y_true)) "
   ]
  },
  {
   "cell_type": "markdown",
   "metadata": {},
   "source": [
    "# Preprocessing\n",
    "## Data loading and normalization"
   ]
  },
  {
   "cell_type": "code",
   "execution_count": 10,
   "metadata": {},
   "outputs": [],
   "source": [
    "data = pd.read_csv(\"examen.csv\", header = None) "
   ]
  },
  {
   "cell_type": "code",
   "execution_count": 11,
   "metadata": {},
   "outputs": [],
   "source": [
    "X, y = data.loc[:,1:4].values, data.loc[:,0].values\n",
    "X = preprocessing.normalize(X)\n",
    "y = preprocessing.normalize(y.reshape(-1, 1))"
   ]
  },
  {
   "cell_type": "markdown",
   "metadata": {},
   "source": [
    "## Data splitting\n",
    "We need three sets of data: training, validation and test"
   ]
  },
  {
   "cell_type": "code",
   "execution_count": 12,
   "metadata": {},
   "outputs": [],
   "source": [
    "X_train, X_test, y_train, y_test = train_test_split(X, y, test_size=0.2, random_state=1)\n",
    "\n",
    "X_train, X_val, y_train, y_val = train_test_split(X_train, y_train, test_size=0.25, random_state=1)"
   ]
  },
  {
   "cell_type": "code",
   "execution_count": 13,
   "metadata": {},
   "outputs": [],
   "source": [
    "M = X_train.shape[0] # Number of samples\n",
    "m = X_train.shape[1] # Number of features or entries\n",
    "n = 1 # number of outputs"
   ]
  },
  {
   "cell_type": "code",
   "execution_count": 14,
   "metadata": {},
   "outputs": [],
   "source": [
    "l = 2 # Hidden layers\n",
    "i = 5 # Number of neurons in each hidden layer\n",
    "L = []\n",
    "inp = m\n",
    "activation_functions = [Sigmoid(), Sigmoid(), Sigmoid()]\n",
    "for j in range(l+1):\n",
    "    a = Local(inp,i)\n",
    "    L.append(Local(inp,i))\n",
    "    L.append(activation_functions[j])\n",
    "    inp = i\n",
    "L.append(Local(inp,1))\n",
    "L.append(Sigmoid())"
   ]
  },
  {
   "cell_type": "code",
   "execution_count": 15,
   "metadata": {},
   "outputs": [],
   "source": [
    "loss = RegressionLoss()\n",
    "model = Model(L,loss)"
   ]
  },
  {
   "cell_type": "code",
   "execution_count": 16,
   "metadata": {},
   "outputs": [],
   "source": [
    "lr1 = 0.2\n",
    "lr2 = 0.9"
   ]
  },
  {
   "cell_type": "markdown",
   "metadata": {},
   "source": [
    "## First learning rate"
   ]
  },
  {
   "cell_type": "code",
   "execution_count": 17,
   "metadata": {},
   "outputs": [
    {
     "name": "stdout",
     "output_type": "stream",
     "text": [
      "epoch 0: loss 10.510517057871356\n",
      "epoch 1: loss 1.9999999419629266\n",
      "epoch 2: loss 1.9999999419629222\n",
      "epoch 3: loss 1.9999999419629186\n",
      "epoch 4: loss 1.9999999419629142\n",
      "epoch 5: loss 1.9999999419629098\n",
      "epoch 6: loss 1.9999999419629062\n",
      "epoch 7: loss 1.9999999419629018\n",
      "epoch 8: loss 1.9999999419628978\n",
      "epoch 9: loss 1.9999999419628938\n",
      "epoch 10: loss 1.9999999419628893\n",
      "epoch 11: loss 1.9999999419628858\n",
      "epoch 12: loss 1.9999999419628813\n",
      "epoch 13: loss 1.999999941962877\n",
      "epoch 14: loss 1.9999999419628733\n",
      "epoch 15: loss 1.999999941962869\n",
      "epoch 16: loss 1.9999999419628645\n",
      "epoch 17: loss 1.999999941962861\n",
      "epoch 18: loss 1.9999999419628565\n",
      "epoch 19: loss 1.9999999419628525\n",
      "epoch 20: loss 1.9999999419628485\n",
      "epoch 21: loss 1.999999941962844\n",
      "epoch 22: loss 1.9999999419628405\n",
      "epoch 23: loss 1.999999941962836\n",
      "epoch 24: loss 1.9999999419628316\n",
      "epoch 25: loss 1.999999941962828\n",
      "epoch 26: loss 1.9999999419628236\n",
      "epoch 27: loss 1.9999999419628196\n",
      "epoch 28: loss 1.9999999419628156\n",
      "epoch 29: loss 1.9999999419628112\n",
      "epoch 30: loss 1.9999999419628076\n",
      "epoch 31: loss 1.9999999419628032\n",
      "epoch 32: loss 1.9999999419627987\n",
      "epoch 33: loss 1.9999999419627952\n",
      "epoch 34: loss 1.9999999419627907\n",
      "epoch 35: loss 1.9999999419627867\n",
      "epoch 36: loss 1.9999999419627827\n",
      "epoch 37: loss 1.9999999419627783\n",
      "epoch 38: loss 1.9999999419627748\n",
      "epoch 39: loss 1.9999999419627703\n",
      "epoch 40: loss 1.9999999419627659\n",
      "epoch 41: loss 1.9999999419627623\n",
      "epoch 42: loss 1.9999999419627579\n",
      "epoch 43: loss 1.9999999419627539\n",
      "epoch 44: loss 1.9999999419627499\n",
      "epoch 45: loss 1.9999999419627454\n",
      "epoch 46: loss 1.999999941962742\n",
      "epoch 47: loss 1.9999999419627374\n",
      "epoch 48: loss 1.999999941962733\n",
      "epoch 49: loss 1.9999999419627295\n",
      "epoch 50: loss 1.999999941962725\n"
     ]
    }
   ],
   "source": [
    "model.fit(X_train, y_train.reshape((M,1)), lr1, 50, M, 1e-2)"
   ]
  },
  {
   "cell_type": "markdown",
   "metadata": {},
   "source": [
    "### Energy of the instant error"
   ]
  },
  {
   "cell_type": "code",
   "execution_count": 18,
   "metadata": {},
   "outputs": [
    {
     "data": {
      "image/png": "[encoded data removed]",
      "text/plain": [
       "<Figure size 432x288 with 1 Axes>"
      ]
     },
     "metadata": {
      "needs_background": "light"
     },
     "output_type": "display_data"
    }
   ],
   "source": [
    "plt.plot(loss.history)\n",
    "plt.show()"
   ]
  },
  {
   "cell_type": "markdown",
   "metadata": {},
   "source": [
    "### Local gradient evolution"
   ]
  },
  {
   "cell_type": "code",
   "execution_count": 19,
   "metadata": {},
   "outputs": [
    {
     "data": {
      "image/png": "[encoded data removed]",
      "text/plain": [
       "<Figure size 432x288 with 1 Axes>"
      ]
     },
     "metadata": {
      "needs_background": "light"
     },
     "output_type": "display_data"
    }
   ],
   "source": [
    "plt.plot(L[0].gradient_history)\n",
    "plt.legend(['weights', 'bias'])\n",
    "plt.title('Entry layer')\n",
    "plt.show()"
   ]
  },
  {
   "cell_type": "code",
   "execution_count": 20,
   "metadata": {},
   "outputs": [
    {
     "data": {
      "image/png": "[encoded data removed]",
      "text/plain": [
       "<Figure size 432x288 with 1 Axes>"
      ]
     },
     "metadata": {
      "needs_background": "light"
     },
     "output_type": "display_data"
    }
   ],
   "source": [
    "plt.plot(L[2].gradient_history)\n",
    "plt.legend(['weights', 'bias'])\n",
    "plt.title('First layer')\n",
    "plt.show()"
   ]
  },
  {
   "cell_type": "code",
   "execution_count": 21,
   "metadata": {},
   "outputs": [
    {
     "data": {
      "image/png": "[encoded data removed]",
      "text/plain": [
       "<Figure size 432x288 with 1 Axes>"
      ]
     },
     "metadata": {
      "needs_background": "light"
     },
     "output_type": "display_data"
    }
   ],
   "source": [
    "plt.plot(L[4].gradient_history)\n",
    "plt.legend(['weights', 'bias'])\n",
    "plt.title('Second layer')\n",
    "plt.show()"
   ]
  },
  {
   "cell_type": "code",
   "execution_count": 22,
   "metadata": {},
   "outputs": [
    {
     "data": {
      "image/png": "[encoded data removed]",
      "text/plain": [
       "<Figure size 432x288 with 1 Axes>"
      ]
     },
     "metadata": {
      "needs_background": "light"
     },
     "output_type": "display_data"
    }
   ],
   "source": [
    "plt.plot(L[6].gradient_history)\n",
    "plt.legend(['weights', 'bias'])\n",
    "plt.title('Output layer')\n",
    "plt.show()"
   ]
  },
  {
   "cell_type": "markdown",
   "metadata": {},
   "source": [
    "### Predictions"
   ]
  },
  {
   "cell_type": "code",
   "execution_count": 23,
   "metadata": {},
   "outputs": [
    {
     "data": {
      "image/png": "[encoded data removed]",
      "text/plain": [
       "<Figure size 432x288 with 1 Axes>"
      ]
     },
     "metadata": {
      "needs_background": "light"
     },
     "output_type": "display_data"
    }
   ],
   "source": [
    "plt.plot(y_train, label = 'Real')\n",
    "plt.plot(model.evaluate(X_train), label = 'Prediction')\n",
    "plt.title('Output for the training data')\n",
    "plt.legend()\n",
    "plt.show()"
   ]
  },
  {
   "cell_type": "code",
   "execution_count": 24,
   "metadata": {},
   "outputs": [
    {
     "data": {
      "image/png": "[encoded data removed]",
      "text/plain": [
       "<Figure size 432x288 with 1 Axes>"
      ]
     },
     "metadata": {
      "needs_background": "light"
     },
     "output_type": "display_data"
    }
   ],
   "source": [
    "plt.plot(y_val, label = 'Real')\n",
    "plt.plot(model.evaluate(X_val), label = 'Prediction')\n",
    "plt.title('Output for the validation data')\n",
    "plt.legend()\n",
    "plt.show()"
   ]
  },
  {
   "cell_type": "code",
   "execution_count": 25,
   "metadata": {},
   "outputs": [
    {
     "data": {
      "image/png": "[encoded data removed]",
      "text/plain": [
       "<Figure size 432x288 with 1 Axes>"
      ]
     },
     "metadata": {
      "needs_background": "light"
     },
     "output_type": "display_data"
    }
   ],
   "source": [
    "plt.plot(y_test, label = 'Real')\n",
    "plt.plot(model.evaluate(X_test), label = 'Prediction')\n",
    "plt.title('Output for the test data')\n",
    "plt.legend()\n",
    "plt.show()"
   ]
  },
  {
   "cell_type": "markdown",
   "metadata": {},
   "source": [
    "## Cross validation"
   ]
  },
  {
   "cell_type": "code",
   "execution_count": 26,
   "metadata": {},
   "outputs": [],
   "source": [
    "scores = []\n",
    "cv = KFold(n_splits=10, shuffle = True, random_state = 42)\n",
    "for train_index, test_index in cv.split(X_val):\n",
    "    loss = RegressionLoss()\n",
    "    model = Model(L,loss)\n",
    "    X_train_v, X_test_v, y_train_v, y_test_v = X[train_index], X[test_index], y[train_index], y[test_index]\n",
    "    model.fit(X_train_v, y_train_v.reshape((len(y_train_v),1)), lr1, 50, len(y_train_v), 1e-2, print_loss = False)\n",
    "    scores.append(model.score(X_test_v, y_test_v.reshape((len(y_test_v),1))))"
   ]
  },
  {
   "cell_type": "code",
   "execution_count": 27,
   "metadata": {},
   "outputs": [
    {
     "name": "stdout",
     "output_type": "stream",
     "text": [
      "Cross validation score: 0.1999999941961233\n"
     ]
    }
   ],
   "source": [
    "print('Cross validation score:', np.mean(scores))"
   ]
  },
  {
   "cell_type": "markdown",
   "metadata": {},
   "source": [
    "## Second learning rate"
   ]
  },
  {
   "cell_type": "code",
   "execution_count": 28,
   "metadata": {},
   "outputs": [
    {
     "name": "stdout",
     "output_type": "stream",
     "text": [
      "epoch 0: loss 54.57685166014407\n",
      "epoch 1: loss 2.0\n",
      "epoch 2: loss 2.0\n",
      "epoch 3: loss 2.0\n",
      "epoch 4: loss 2.0\n",
      "epoch 5: loss 2.0\n",
      "epoch 6: loss 2.0\n",
      "epoch 7: loss 2.0\n",
      "epoch 8: loss 2.0\n",
      "epoch 9: loss 2.0\n",
      "epoch 10: loss 2.0\n",
      "epoch 11: loss 2.0\n",
      "epoch 12: loss 2.0\n",
      "epoch 13: loss 2.0\n",
      "epoch 14: loss 2.0\n",
      "epoch 15: loss 2.0\n",
      "epoch 16: loss 2.0\n",
      "epoch 17: loss 2.0\n",
      "epoch 18: loss 2.0\n",
      "epoch 19: loss 2.0\n",
      "epoch 20: loss 2.0\n",
      "epoch 21: loss 2.0\n",
      "epoch 22: loss 2.0\n",
      "epoch 23: loss 2.0\n",
      "epoch 24: loss 2.0\n",
      "epoch 25: loss 2.0\n",
      "epoch 26: loss 2.0\n",
      "epoch 27: loss 2.0\n",
      "epoch 28: loss 2.0\n",
      "epoch 29: loss 2.0\n",
      "epoch 30: loss 2.0\n",
      "epoch 31: loss 2.0\n",
      "epoch 32: loss 2.0\n",
      "epoch 33: loss 2.0\n",
      "epoch 34: loss 2.0\n",
      "epoch 35: loss 2.0\n",
      "epoch 36: loss 2.0\n",
      "epoch 37: loss 2.0\n",
      "epoch 38: loss 2.0\n",
      "epoch 39: loss 2.0\n",
      "epoch 40: loss 2.0\n",
      "epoch 41: loss 2.0\n",
      "epoch 42: loss 2.0\n",
      "epoch 43: loss 2.0\n",
      "epoch 44: loss 2.0\n",
      "epoch 45: loss 2.0\n",
      "epoch 46: loss 2.0\n",
      "epoch 47: loss 2.0\n",
      "epoch 48: loss 2.0\n",
      "epoch 49: loss 2.0\n",
      "epoch 50: loss 2.0\n"
     ]
    }
   ],
   "source": [
    "model.fit(X_train, y_train.reshape((M,1)), lr2, 50, M, 1e-2)"
   ]
  },
  {
   "cell_type": "markdown",
   "metadata": {},
   "source": [
    "### Energy of the instant error"
   ]
  },
  {
   "cell_type": "code",
   "execution_count": 29,
   "metadata": {},
   "outputs": [
    {
     "data": {
      "image/png": "[encoded data removed]",
      "text/plain": [
       "<Figure size 432x288 with 1 Axes>"
      ]
     },
     "metadata": {
      "needs_background": "light"
     },
     "output_type": "display_data"
    }
   ],
   "source": [
    "plt.plot(loss.history)\n",
    "plt.show()"
   ]
  },
  {
   "cell_type": "markdown",
   "metadata": {},
   "source": [
    "### Gradient history"
   ]
  },
  {
   "cell_type": "code",
   "execution_count": 30,
   "metadata": {},
   "outputs": [
    {
     "data": {
      "image/png": "[encoded data removed]",
      "text/plain": [
       "<Figure size 432x288 with 1 Axes>"
      ]
     },
     "metadata": {
      "needs_background": "light"
     },
     "output_type": "display_data"
    }
   ],
   "source": [
    "plt.plot(L[0].gradient_history)\n",
    "plt.legend(['weights', 'bias'])\n",
    "plt.title('Entry layer')\n",
    "plt.show()"
   ]
  },
  {
   "cell_type": "code",
   "execution_count": 31,
   "metadata": {},
   "outputs": [
    {
     "data": {
      "image/png": "[encoded data removed]",
      "text/plain": [
       "<Figure size 432x288 with 1 Axes>"
      ]
     },
     "metadata": {
      "needs_background": "light"
     },
     "output_type": "display_data"
    }
   ],
   "source": [
    "plt.plot(L[2].gradient_history)\n",
    "plt.legend(['weights', 'bias'])\n",
    "plt.title('First layer')\n",
    "plt.show()"
   ]
  },
  {
   "cell_type": "code",
   "execution_count": 32,
   "metadata": {},
   "outputs": [
    {
     "data": {
      "image/png": "[encoded data removed]",
      "text/plain": [
       "<Figure size 432x288 with 1 Axes>"
      ]
     },
     "metadata": {
      "needs_background": "light"
     },
     "output_type": "display_data"
    }
   ],
   "source": [
    "plt.plot(L[4].gradient_history)\n",
    "plt.legend(['weights', 'bias'])\n",
    "plt.title('Second layer')\n",
    "plt.show()"
   ]
  },
  {
   "cell_type": "code",
   "execution_count": 33,
   "metadata": {},
   "outputs": [
    {
     "data": {
      "image/png": "[encoded data removed]",
      "text/plain": [
       "<Figure size 432x288 with 1 Axes>"
      ]
     },
     "metadata": {
      "needs_background": "light"
     },
     "output_type": "display_data"
    }
   ],
   "source": [
    "plt.plot(L[6].gradient_history)\n",
    "plt.legend(['weights', 'bias'])\n",
    "plt.title('Output layer')\n",
    "plt.show()"
   ]
  },
  {
   "cell_type": "code",
   "execution_count": 34,
   "metadata": {},
   "outputs": [
    {
     "data": {
      "image/png": "[encoded data removed]",
      "text/plain": [
       "<Figure size 432x288 with 1 Axes>"
      ]
     },
     "metadata": {
      "needs_background": "light"
     },
     "output_type": "display_data"
    }
   ],
   "source": [
    "plt.plot(y_train, label = 'Real')\n",
    "plt.plot(model.evaluate(X_train), label = 'Prediction')\n",
    "plt.title('Output for the training data')\n",
    "plt.legend()\n",
    "plt.show()"
   ]
  },
  {
   "cell_type": "code",
   "execution_count": 35,
   "metadata": {},
   "outputs": [
    {
     "data": {
      "image/png": "[encoded data removed]",
      "text/plain": [
       "<Figure size 432x288 with 1 Axes>"
      ]
     },
     "metadata": {
      "needs_background": "light"
     },
     "output_type": "display_data"
    }
   ],
   "source": [
    "plt.plot(y_val, label = 'Real')\n",
    "plt.plot(model.evaluate(X_val), label = 'Prediction')\n",
    "plt.title('Output for the validation data')\n",
    "plt.legend()\n",
    "plt.show()"
   ]
  },
  {
   "cell_type": "code",
   "execution_count": 36,
   "metadata": {},
   "outputs": [
    {
     "data": {
      "image/png": "[encoded data removed]",
      "text/plain": [
       "<Figure size 432x288 with 1 Axes>"
      ]
     },
     "metadata": {
      "needs_background": "light"
     },
     "output_type": "display_data"
    }
   ],
   "source": [
    "plt.plot(y_test, label = 'Real')\n",
    "plt.plot(model.evaluate(X_test), label = 'Prediction')\n",
    "plt.title('Output for the test data')\n",
    "plt.legend()\n",
    "plt.show()"
   ]
  },
  {
   "cell_type": "markdown",
   "metadata": {},
   "source": [
    "### Cross validation"
   ]
  },
  {
   "cell_type": "code",
   "execution_count": 37,
   "metadata": {},
   "outputs": [],
   "source": [
    "scores = []\n",
    "cv = KFold(n_splits=10, shuffle = True, random_state = 42)\n",
    "for train_index, test_index in cv.split(X_val):\n",
    "    loss = RegressionLoss()\n",
    "    model = Model(L,loss)\n",
    "    X_train_v, X_test_v, y_train_v, y_test_v = X[train_index], X[test_index], y[train_index], y[test_index]\n",
    "    model.fit(X_train_v, y_train_v.reshape((len(y_train_v),1)), lr2, 50, len(y_train_v), 1e-2, print_loss = False)\n",
    "    scores.append(model.score(X_test_v, y_test_v.reshape((len(y_test_v),1))))"
   ]
  },
  {
   "cell_type": "code",
   "execution_count": 38,
   "metadata": {},
   "outputs": [
    {
     "name": "stdout",
     "output_type": "stream",
     "text": [
      "Cross validation score: 0.2\n"
     ]
    }
   ],
   "source": [
    "print('Cross validation score:', np.mean(scores))"
   ]
  },
  {
   "cell_type": "code",
   "execution_count": null,
   "metadata": {},
   "outputs": [],
   "source": []
  }
 ],
 "metadata": {
  "kernelspec": {
   "display_name": "Python 3",
   "language": "python",
   "name": "python3"
  },
  "language_info": {
   "codemirror_mode": {
    "name": "ipython",
    "version": 3
   },
   "file_extension": ".py",
   "mimetype": "text/x-python",
   "name": "python",
   "nbconvert_exporter": "python",
   "pygments_lexer": "ipython3",
   "version": "3.8.1"
  }
 },
 "nbformat": 4,
 "nbformat_minor": 4
}
