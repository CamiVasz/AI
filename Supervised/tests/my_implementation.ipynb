{
  "nbformat": 4,
  "nbformat_minor": 0,
  "metadata": {
    "kernelspec": {
      "display_name": "Python 3",
      "language": "python",
      "name": "python3"
    },
    "language_info": {
      "codemirror_mode": {
        "name": "ipython",
        "version": 3
      },
      "file_extension": ".py",
      "mimetype": "text/x-python",
      "name": "python",
      "nbconvert_exporter": "python",
      "pygments_lexer": "ipython3",
      "version": "3.8.1"
    },
    "colab": {
      "name": "exam-nn.ipynb",
      "provenance": [],
      "toc_visible": true
    }
  },
  "cells": [
    {
      "cell_type": "markdown",
      "metadata": {
        "id": "rxvmsVPeAiml",
        "colab_type": "text"
      },
      "source": [
        "# Back propagation algorithm\n",
        "_María Camila Vásquez Correa_"
      ]
    },
    {
      "cell_type": "code",
      "metadata": {
        "id": "ZYteKdHCAimm",
        "colab_type": "code",
        "colab": {}
      },
      "source": [
        "import itertools\n",
        "import numpy as np\n",
        "import matplotlib.pyplot as plt\n",
        "import pandas as pd\n",
        "from sklearn.model_selection import train_test_split\n",
        "from sklearn import preprocessing\n",
        "from sklearn.model_selection import KFold"
      ],
      "execution_count": 0,
      "outputs": []
    },
    {
      "cell_type": "markdown",
      "metadata": {
        "id": "O8NFM8fEAims",
        "colab_type": "text"
      },
      "source": [
        "## Multilayer perceptron\n",
        "The class model receives a list of layers (with its respective activation function) along with the loss that is going to be used for the training to initialize.\n",
        "* The fit method performs the training on X and y using learning rate lr, a number of epochs epochs, a batch_size and stops given a tolerance tol.\n",
        "* The evaluate method gives the prediction for an X\n",
        "* The score method gives the cost function for an X and y"
      ]
    },
    {
      "cell_type": "code",
      "metadata": {
        "id": "L-s4yQ9UAimt",
        "colab_type": "code",
        "colab": {}
      },
      "source": [
        "class Model:\n",
        "    def __init__(self, layers, loss):\n",
        "        self.layers = layers\n",
        "        self.loss = loss\n",
        "    \n",
        "    def fit(self, X, y, lr, epochs, batch_size, tol,print_loss = True):\n",
        "        if self.loss.history:\n",
        "            self.initialize()\n",
        "        total_loss = np.inf\n",
        "        j = 0\n",
        "        while j <= epochs and total_loss >= tol:\n",
        "            _loss = 0\n",
        "            batches = len(y)//batch_size\n",
        "            for i in range(batches):\n",
        "                y_pred = self.forward_pass(X[i*batch_size:(i+1)*batch_size])\n",
        "                loss_ = self.loss.forward_pass(y_pred,y[i*batch_size:(i+1)*batch_size])\n",
        "                loss_gradient = loss.backward_pass(y_pred, y[i*batch_size:(i+1)*batch_size])\n",
        "                self.backward_pass(loss_gradient)\n",
        "                self.update_parameters(lr)\n",
        "                _loss += loss_\n",
        "            total_loss = _loss/batches\n",
        "            loss.history.append(total_loss)\n",
        "            self.update_gradient_history()\n",
        "            if print_loss:\n",
        "                print(f'epoch {j}: loss {total_loss}') \n",
        "            j += 1\n",
        "    \n",
        "    def initialize(self):\n",
        "        for layer in self.layers:\n",
        "            if layer.trainable:\n",
        "                layer.initialize()\n",
        "        self.loss.initialize()\n",
        "    \n",
        "    def forward_pass(self, X):\n",
        "        x = X.copy()\n",
        "        for layer in self.layers:\n",
        "            a = layer.forward_pass(x)\n",
        "            x = a\n",
        "        return x\n",
        "    \n",
        "    def backward_pass(self, upstream_gradient):\n",
        "        for layer in reversed(self.layers):\n",
        "            upstream_gradient = layer.backward_pass(upstream_gradient)                \n",
        "        return upstream_gradient\n",
        "    \n",
        "    def update_parameters(self,lr):\n",
        "        for layer in self.layers:\n",
        "            if layer.trainable:\n",
        "                layer.update_parameters(lr)\n",
        "                \n",
        "    def update_gradient_history(self):\n",
        "        for layer in self.layers:\n",
        "            if layer.trainable:\n",
        "                layer.gradient_history.append([np.sum(layer.gradient_history_w),np.sum(layer.gradient_history_b)])\n",
        "                layer.gradient_history_w = []\n",
        "                layer.gradient_history_b = []\n",
        "    \n",
        "    def evaluate(self, X):\n",
        "        return self.forward_pass(X)\n",
        "    \n",
        "    def score(self, X, y):\n",
        "        y_pred = self.forward_pass(X)\n",
        "        loss = self.loss.forward_pass(y_pred,y)\n",
        "        return loss"
      ],
      "execution_count": 0,
      "outputs": []
    },
    {
      "cell_type": "markdown",
      "metadata": {
        "id": "v8yCTulMAimz",
        "colab_type": "text"
      },
      "source": [
        "### Layer\n",
        "Each layer has its own initialization (in which we specify whether or not the layer is trainable) and has their forward and backward pass defined for the backpropagation algorithm"
      ]
    },
    {
      "cell_type": "code",
      "metadata": {
        "id": "6h3gaUpAAim0",
        "colab_type": "code",
        "colab": {}
      },
      "source": [
        "class Layer:\n",
        "    def __init__(self):\n",
        "        pass\n",
        "    \n",
        "    def forward_pass(self, x):\n",
        "        pass\n",
        "    \n",
        "    def backward_pass(self, upstream_gradient):\n",
        "        pass"
      ],
      "execution_count": 0,
      "outputs": []
    },
    {
      "cell_type": "markdown",
      "metadata": {
        "id": "trui4qpnAim4",
        "colab_type": "text"
      },
      "source": [
        "### Local layer\n",
        "Each local layer has the weights and bias for an input, and gives an output to be activated with any of the activation functions specified. It is a trainable layer, that means it has a method update_parameters in which the gradient descend algorithm is performed in each parameter (weights and bias) taking into account the local gradient stored "
      ]
    },
    {
      "cell_type": "code",
      "metadata": {
        "id": "jmKfBfSKAim5",
        "colab_type": "code",
        "colab": {}
      },
      "source": [
        "class Local(Layer):\n",
        "    def __init__(self, input_size, output_size, bias = True):\n",
        "        Xstdd = 2 / (input_size + output_size)\n",
        "        self.weights = np.random.normal(loc = 0, scale = Xstdd, size = (input_size, output_size))\n",
        "        if bias:\n",
        "            self.bias = np.zeros(output_size)\n",
        "            self.has_bias = True\n",
        "        else:\n",
        "            self.has_bias = False\n",
        "        self.local_gradient = {}\n",
        "        self.x = None\n",
        "        self.trainable = True\n",
        "        self.gradient_history = []\n",
        "        self.input_size = input_size\n",
        "        self.output_size = output_size\n",
        "        self.gradient_history_w = []\n",
        "        self.gradient_history_b = []\n",
        "    \n",
        "    def initialize(self):\n",
        "        Xstdd = 2 / (self.input_size + self.output_size)\n",
        "        self.weights = np.random.normal(loc = 0, scale = Xstdd, size = (self.input_size, self.output_size))\n",
        "        if self.has_bias:\n",
        "            self.bias = np.zeros(self.output_size)\n",
        "        self.local_gradient = {}\n",
        "        self.gradient_history = []\n",
        "        self.gradient_history_w = []\n",
        "        self.gradient_history_b = []\n",
        "        \n",
        "    # x: (batch_size, input_size)\n",
        "    # w: (input_size, output_size)\n",
        "    def forward_pass(self,_x):\n",
        "        self.x = _x.copy()\n",
        "        return _x @ self.weights + self.bias\n",
        "    \n",
        "    def backward_pass(self,upstream_gradient):\n",
        "        dx = upstream_gradient @ self.weights.T\n",
        "        dw = self.x.T @ upstream_gradient\n",
        "        if self.has_bias:\n",
        "            db = np.sum(upstream_gradient, axis = 0)\n",
        "            self.local_gradient = {'dw': dw, 'db': db}\n",
        "            self.gradient_history_b.append(np.sum(db))\n",
        "        else:\n",
        "            self.local_gradient = {'dw': dw}\n",
        "        self.gradient_history_w.append(np.sum(dw))\n",
        "        return dx\n",
        "    \n",
        "    def update_parameters(self,lr):\n",
        "        self.weights = self.weights - lr*self.local_gradient['dw']\n",
        "        if self.has_bias:\n",
        "            self.bias = self.bias - lr*self.local_gradient['db']"
      ],
      "execution_count": 0,
      "outputs": []
    },
    {
      "cell_type": "markdown",
      "metadata": {
        "id": "76DKP-mPAinA",
        "colab_type": "text"
      },
      "source": [
        "### Activation layers\n",
        "Each activation layer has the forward and backward pass, an is not trainable. Currently available layers: Relu, Sigmoid and Hiperbolic Tangent (Tanh). For a linear activation, do not set any activation."
      ]
    },
    {
      "cell_type": "code",
      "metadata": {
        "id": "D0gM6y58AinC",
        "colab_type": "code",
        "colab": {}
      },
      "source": [
        "class Sigmoid(Layer):\n",
        "    def __init__(self):\n",
        "        self.x = None\n",
        "        self.trainable = False\n",
        "        \n",
        "    def forward_pass(self,_x):\n",
        "        self.x = _x.copy()\n",
        "        return 1 / (1 + np.exp(-_x))\n",
        "    \n",
        "    def backward_pass(self,upstream_gradient):\n",
        "        s_prime = (1 / (1 + np.exp(-self.x)))*(1-(1 / (1 + np.exp(-self.x))))\n",
        "        dx = upstream_gradient * s_prime\n",
        "        return dx"
      ],
      "execution_count": 0,
      "outputs": []
    },
    {
      "cell_type": "code",
      "metadata": {
        "id": "TadCGrB5AinH",
        "colab_type": "code",
        "colab": {}
      },
      "source": [
        "class Relu(Layer):\n",
        "    def __init__(self):\n",
        "        self.x = None\n",
        "        self.trainable = False\n",
        "        \n",
        "    def forward_pass(self,x):\n",
        "        self.x = x\n",
        "        return np.where(x > 0, x, 0)\n",
        "    \n",
        "    def backward_pass(self,upstream_gradient):\n",
        "        r_prime = (self.x > 0).astype(np.float32)\n",
        "        dx = upstream_gradient * r_prime\n",
        "        return dx"
      ],
      "execution_count": 0,
      "outputs": []
    },
    {
      "cell_type": "code",
      "metadata": {
        "id": "E1dJ4SFrAinL",
        "colab_type": "code",
        "colab": {}
      },
      "source": [
        "class Tanh(Layer):\n",
        "    def __init__(self):\n",
        "        self.x = None\n",
        "        self.trainable = False\n",
        "        \n",
        "    def forward_pass(self,x):\n",
        "        self.x = x\n",
        "        return np.tanh(x)\n",
        "    \n",
        "    def backward_pass(self,upstream_gradient):\n",
        "        tan = np.tanh(self.x)\n",
        "        dx = 1 - np.power(tan,2)\n",
        "        return dx   "
      ],
      "execution_count": 0,
      "outputs": []
    },
    {
      "cell_type": "markdown",
      "metadata": {
        "id": "uzoPLmRyAinQ",
        "colab_type": "text"
      },
      "source": [
        "### Loss layer\n",
        "It receives the output of the perceptron and calculates the loss, as well as the gradient passing trough the loss function. It also stores its history, so we can explore the cost in different stages of the training."
      ]
    },
    {
      "cell_type": "code",
      "metadata": {
        "id": "dEeX9aUHAinR",
        "colab_type": "code",
        "colab": {}
      },
      "source": [
        "class Loss:\n",
        "    def __init__(self):\n",
        "        self.history = []\n",
        "    \n",
        "    def forward_pass(self, y_pred, y_true):\n",
        "        pass\n",
        "    \n",
        "    def backward_pass(self):\n",
        "        pass\n",
        "    \n",
        "    def initialize(self):\n",
        "        self.history = []"
      ],
      "execution_count": 0,
      "outputs": []
    },
    {
      "cell_type": "code",
      "metadata": {
        "id": "k6HtsYmnAinV",
        "colab_type": "code",
        "colab": {}
      },
      "source": [
        "class RegressionLoss(Loss):\n",
        "    def forward_pass(self, y_pred, y_true):\n",
        "        a = np.sum((y_pred - y_true)**2)\n",
        "        return a / len(y_true)\n",
        "    \n",
        "    def backward_pass(self,y_pred,y_true):\n",
        "        return (1/len(y_true))*(2 * (y_pred - y_true)) "
      ],
      "execution_count": 0,
      "outputs": []
    },
    {
      "cell_type": "markdown",
      "metadata": {
        "id": "VCLfLBYRAinZ",
        "colab_type": "text"
      },
      "source": [
        "# Preprocessing\n",
        "## Data loading and normalization"
      ]
    },
    {
      "cell_type": "code",
      "metadata": {
        "id": "p4GVDhpEAina",
        "colab_type": "code",
        "colab": {}
      },
      "source": [
        "data = pd.read_csv(\"examen.csv\", header = None) "
      ],
      "execution_count": 0,
      "outputs": []
    },
    {
      "cell_type": "code",
      "metadata": {
        "id": "z04iTPxmAind",
        "colab_type": "code",
        "colab": {}
      },
      "source": [
        "X, y = data.loc[:,1:4].values, data.loc[:,0].values\n",
        "X = X / np.max(X, axis = 0)\n",
        "y = data[0] / max(data[0])\n",
        "y = y.values"
      ],
      "execution_count": 0,
      "outputs": []
    },
    {
      "cell_type": "code",
      "metadata": {
        "id": "Q2hwbs2cMWLV",
        "colab_type": "code",
        "colab": {
          "base_uri": "https://localhost:8080/",
          "height": 265
        },
        "outputId": "6974c24a-b50f-4be1-fa44-4f0c9d51732a"
      },
      "source": [
        "plt.plot(X)\n",
        "plt.show()"
      ],
      "execution_count": 392,
      "outputs": [
        {
          "output_type": "display_data",
          "data": {
            "image/png": "[encoded data removed]",
            "text/plain": [
              "<Figure size 432x288 with 1 Axes>"
            ]
          },
          "metadata": {
            "tags": [],
            "needs_background": "light"
          }
        }
      ]
    },
    {
      "cell_type": "markdown",
      "metadata": {
        "id": "jqIQJbFWAini",
        "colab_type": "text"
      },
      "source": [
        "## Data splitting\n",
        "We need three sets of data: training, validation and test"
      ]
    },
    {
      "cell_type": "code",
      "metadata": {
        "id": "6iYzdT9VAinj",
        "colab_type": "code",
        "colab": {}
      },
      "source": [
        "X_train, X_test, y_train, y_test = train_test_split(X, y, test_size=0.2, random_state=1)\n",
        "\n",
        "X_train, X_val, y_train, y_val = train_test_split(X_train, y_train, test_size=0.25, random_state=1)"
      ],
      "execution_count": 0,
      "outputs": []
    },
    {
      "cell_type": "code",
      "metadata": {
        "id": "ofx7H9_EAinn",
        "colab_type": "code",
        "colab": {}
      },
      "source": [
        "M = X_train.shape[0] # Number of samples\n",
        "m = X_train.shape[1] # Number of features or entries\n",
        "n = 1 # number of outputs"
      ],
      "execution_count": 0,
      "outputs": []
    },
    {
      "cell_type": "code",
      "metadata": {
        "id": "PT8Z6lXsAinr",
        "colab_type": "code",
        "colab": {}
      },
      "source": [
        "l = 2 # Hidden layers\n",
        "i = 5 # Number of neurons in each hidden layer\n",
        "L = []\n",
        "inp = m\n",
        "activation_functions = [Sigmoid(), Sigmoid(), Sigmoid(), Sigmoid()]\n",
        "for j in range(l+1):\n",
        "    a = Local(inp,i)\n",
        "    L.append(Local(inp,i))\n",
        "    L.append(activation_functions[j])\n",
        "    inp = i\n",
        "L.append(Local(inp,1))"
      ],
      "execution_count": 0,
      "outputs": []
    },
    {
      "cell_type": "code",
      "metadata": {
        "id": "8DQ5yjkvEc9Y",
        "colab_type": "code",
        "colab": {}
      },
      "source": [
        "L[0].weights = np.array([[-0.1337,  0.0874, -0.1069, -0.2706],\n",
        "        [ 0.1733,  0.3348,  0.2583,  0.1232],\n",
        "        [-0.0607, -0.1557, -0.3172,  0.3525],\n",
        "        [-0.2465,  0.3329, -0.0024,  0.2357],\n",
        "        [ 0.4099,  0.1306, -0.1127, -0.0377]]).T"
      ],
      "execution_count": 0,
      "outputs": []
    },
    {
      "cell_type": "code",
      "metadata": {
        "id": "OFnaoyWrEfLS",
        "colab_type": "code",
        "colab": {}
      },
      "source": [
        "L[2].weights = np.array([[ 0.2459,  0.4003, -0.2752,  0.0781, -0.4327],\n",
        "        [-0.2687, -0.1221, -0.0464, -0.2257, -0.2737],\n",
        "        [ 0.2551, -0.1137,  0.0599, -0.1505,  0.2294],\n",
        "        [-0.3911, -0.2979, -0.0358, -0.4079, -0.1854],\n",
        "        [-0.1694, -0.2072, -0.3281, -0.3312,  0.3809]]).T"
      ],
      "execution_count": 0,
      "outputs": []
    },
    {
      "cell_type": "code",
      "metadata": {
        "id": "qxe0PdNgEh8F",
        "colab_type": "code",
        "colab": {}
      },
      "source": [
        "L[4].weights = np.array([[-0.3884, -0.3393, -0.0121, -0.2346,  0.2158],\n",
        "        [ 0.2595, -0.1074,  0.4093,  0.3875, -0.2710],\n",
        "        [ 0.2406, -0.1602, -0.3381, -0.4144,  0.2412],\n",
        "        [ 0.0811, -0.1548,  0.0645, -0.2701, -0.0554],\n",
        "        [ 0.1744,  0.3234,  0.1110,  0.2217, -0.0673]]).T"
      ],
      "execution_count": 0,
      "outputs": []
    },
    {
      "cell_type": "code",
      "metadata": {
        "id": "XiO6o3peEnEb",
        "colab_type": "code",
        "colab": {}
      },
      "source": [
        "L[6].weights = np.array([[-0.2442,  0.1191,  0.3998, -0.4047,  0.4461]]).T"
      ],
      "execution_count": 0,
      "outputs": []
    },
    {
      "cell_type": "code",
      "metadata": {
        "id": "NO_tItcFgI4B",
        "colab_type": "code",
        "colab": {}
      },
      "source": [
        "#L = [Local(4,10), Relu(), Local(10,15), Relu(), Local(15,1)]"
      ],
      "execution_count": 0,
      "outputs": []
    },
    {
      "cell_type": "code",
      "metadata": {
        "id": "ChlHtLMqAinv",
        "colab_type": "code",
        "colab": {}
      },
      "source": [
        "loss = RegressionLoss()\n",
        "model = Model(L,loss)"
      ],
      "execution_count": 0,
      "outputs": []
    },
    {
      "cell_type": "code",
      "metadata": {
        "id": "PbLFOYQjAin3",
        "colab_type": "code",
        "colab": {}
      },
      "source": [
        "lr1 = 0.2\n",
        "lr2 = 0.9"
      ],
      "execution_count": 0,
      "outputs": []
    },
    {
      "cell_type": "markdown",
      "metadata": {
        "id": "4UPspRLlAin8",
        "colab_type": "text"
      },
      "source": [
        "## First learning rate"
      ]
    },
    {
      "cell_type": "code",
      "metadata": {
        "id": "0SV694tsAin9",
        "colab_type": "code",
        "colab": {
          "base_uri": "https://localhost:8080/",
          "height": 935
        },
        "outputId": "71968751-2594-4b5d-d586-493ad15df5ad"
      },
      "source": [
        "model.fit(X_train, y_train.reshape((M,1)), 0.01, 50, M, 1e-2)"
      ],
      "execution_count": 405,
      "outputs": [
        {
          "output_type": "stream",
          "text": [
            "epoch 0: loss 0.14081205216507664\n",
            "epoch 1: loss 0.14078885698192367\n",
            "epoch 2: loss 0.14076763914757418\n",
            "epoch 3: loss 0.14074822991771344\n",
            "epoch 4: loss 0.14073047496038685\n",
            "epoch 5: loss 0.1407142331235354\n",
            "epoch 6: loss 0.1406993753081165\n",
            "epoch 7: loss 0.1406857834377407\n",
            "epoch 8: loss 0.14067334951653587\n",
            "epoch 9: loss 0.14066197476766595\n",
            "epoch 10: loss 0.1406515688455836\n",
            "epoch 11: loss 0.1406420491156909\n",
            "epoch 12: loss 0.14063333999562852\n",
            "epoch 13: loss 0.1406253723529094\n",
            "epoch 14: loss 0.1406180829540683\n",
            "epoch 15: loss 0.1406114139609128\n",
            "epoch 16: loss 0.14060531246984193\n",
            "epoch 17: loss 0.14059973009054302\n",
            "epoch 18: loss 0.14059462256069663\n",
            "epoch 19: loss 0.1405899493936059\n",
            "epoch 20: loss 0.14058567355593396\n",
            "epoch 21: loss 0.1405817611729722\n",
            "epoch 22: loss 0.14057818125908483\n",
            "epoch 23: loss 0.1405749054711766\n",
            "epoch 24: loss 0.14057190788321366\n",
            "epoch 25: loss 0.14056916477999923\n",
            "epoch 26: loss 0.1405666544685566\n",
            "epoch 27: loss 0.14056435710561532\n",
            "epoch 28: loss 0.14056225453982393\n",
            "epoch 29: loss 0.14056033016743127\n",
            "epoch 30: loss 0.14055856880028522\n",
            "epoch 31: loss 0.14055695654509695\n",
            "epoch 32: loss 0.14055548069300847\n",
            "epoch 33: loss 0.1405541296185831\n",
            "epoch 34: loss 0.1405528926874146\n",
            "epoch 35: loss 0.14055176017161908\n",
            "epoch 36: loss 0.14055072317253597\n",
            "epoch 37: loss 0.14054977355002377\n",
            "epoch 38: loss 0.1405489038577864\n",
            "epoch 39: loss 0.14054810728421663\n",
            "epoch 40: loss 0.14054737759828426\n",
            "epoch 41: loss 0.1405467091000403\n",
            "epoch 42: loss 0.14054609657534162\n",
            "epoch 43: loss 0.1405455352544369\n",
            "epoch 44: loss 0.1405450207740843\n",
            "epoch 45: loss 0.1405445491428991\n",
            "epoch 46: loss 0.14054411670965655\n",
            "epoch 47: loss 0.14054372013429664\n",
            "epoch 48: loss 0.14054335636140183\n",
            "epoch 49: loss 0.14054302259593562\n",
            "epoch 50: loss 0.1405427162810493\n"
          ],
          "name": "stdout"
        }
      ]
    },
    {
      "cell_type": "markdown",
      "metadata": {
        "id": "P_oQm9AXAioD",
        "colab_type": "text"
      },
      "source": [
        "### Energy of the instant error"
      ]
    },
    {
      "cell_type": "code",
      "metadata": {
        "id": "pOATj2vTAioD",
        "colab_type": "code",
        "colab": {
          "base_uri": "https://localhost:8080/",
          "height": 265
        },
        "outputId": "c3846b8e-9c94-4f59-8107-287d0bb48ad9"
      },
      "source": [
        "plt.plot(loss.history)\n",
        "plt.show()"
      ],
      "execution_count": 406,
      "outputs": [
        {
          "output_type": "display_data",
          "data": {
            "image/png": "[encoded data removed]",
            "text/plain": [
              "<Figure size 432x288 with 1 Axes>"
            ]
          },
          "metadata": {
            "tags": [],
            "needs_background": "light"
          }
        }
      ]
    },
    {
      "cell_type": "code",
      "metadata": {
        "id": "e9vbeGAmtwgk",
        "colab_type": "code",
        "colab": {
          "base_uri": "https://localhost:8080/",
          "height": 9737
        },
        "outputId": "91012a40-e4ed-404e-c640-35bb7fffe115"
      },
      "source": [
        "model.evaluate(X_train)"
      ],
      "execution_count": 407,
      "outputs": [
        {
          "output_type": "execute_result",
          "data": {
            "text/plain": [
              "array([[0.40937767],\n",
              "       [0.40926539],\n",
              "       [0.40970973],\n",
              "       [0.40988558],\n",
              "       [0.40922878],\n",
              "       [0.40967471],\n",
              "       [0.40928887],\n",
              "       [0.40998756],\n",
              "       [0.41006465],\n",
              "       [0.40931756],\n",
              "       [0.4098471 ],\n",
              "       [0.4092496 ],\n",
              "       [0.40965062],\n",
              "       [0.40985152],\n",
              "       [0.40941179],\n",
              "       [0.4093166 ],\n",
              "       [0.40948955],\n",
              "       [0.4093601 ],\n",
              "       [0.41000794],\n",
              "       [0.40972781],\n",
              "       [0.40940567],\n",
              "       [0.40973685],\n",
              "       [0.40939024],\n",
              "       [0.40967964],\n",
              "       [0.40928443],\n",
              "       [0.41001819],\n",
              "       [0.40991623],\n",
              "       [0.40996326],\n",
              "       [0.40925451],\n",
              "       [0.40968033],\n",
              "       [0.40972043],\n",
              "       [0.40921259],\n",
              "       [0.40934537],\n",
              "       [0.40979735],\n",
              "       [0.41010957],\n",
              "       [0.40969374],\n",
              "       [0.40968374],\n",
              "       [0.40946753],\n",
              "       [0.40919171],\n",
              "       [0.40976215],\n",
              "       [0.40929336],\n",
              "       [0.40936769],\n",
              "       [0.40963314],\n",
              "       [0.40959044],\n",
              "       [0.40968426],\n",
              "       [0.40921183],\n",
              "       [0.40925866],\n",
              "       [0.40922333],\n",
              "       [0.40999612],\n",
              "       [0.40982526],\n",
              "       [0.40976565],\n",
              "       [0.40929698],\n",
              "       [0.40990028],\n",
              "       [0.40965928],\n",
              "       [0.40971308],\n",
              "       [0.40962707],\n",
              "       [0.40962551],\n",
              "       [0.41009899],\n",
              "       [0.40927222],\n",
              "       [0.409792  ],\n",
              "       [0.40989588],\n",
              "       [0.40967981],\n",
              "       [0.40951438],\n",
              "       [0.40964436],\n",
              "       [0.41005821],\n",
              "       [0.40968947],\n",
              "       [0.40998258],\n",
              "       [0.40975536],\n",
              "       [0.40990756],\n",
              "       [0.40966823],\n",
              "       [0.40969641],\n",
              "       [0.40973042],\n",
              "       [0.40967672],\n",
              "       [0.40970658],\n",
              "       [0.40968255],\n",
              "       [0.40968982],\n",
              "       [0.40932141],\n",
              "       [0.40980553],\n",
              "       [0.40978417],\n",
              "       [0.40977907],\n",
              "       [0.40982814],\n",
              "       [0.4098678 ],\n",
              "       [0.40951279],\n",
              "       [0.40923748],\n",
              "       [0.40933926],\n",
              "       [0.40976802],\n",
              "       [0.40930526],\n",
              "       [0.40968069],\n",
              "       [0.40970363],\n",
              "       [0.41000445],\n",
              "       [0.40923194],\n",
              "       [0.40999248],\n",
              "       [0.40948804],\n",
              "       [0.40970719],\n",
              "       [0.40933419],\n",
              "       [0.40919908],\n",
              "       [0.4098767 ],\n",
              "       [0.41011357],\n",
              "       [0.409796  ],\n",
              "       [0.41009069],\n",
              "       [0.40953556],\n",
              "       [0.40956441],\n",
              "       [0.40993608],\n",
              "       [0.40929882],\n",
              "       [0.40943076],\n",
              "       [0.40958697],\n",
              "       [0.40970538],\n",
              "       [0.4094806 ],\n",
              "       [0.40967888],\n",
              "       [0.40920428],\n",
              "       [0.41010189],\n",
              "       [0.40971449],\n",
              "       [0.40974371],\n",
              "       [0.40920505],\n",
              "       [0.40937208],\n",
              "       [0.40930065],\n",
              "       [0.40961589],\n",
              "       [0.40977409],\n",
              "       [0.40979068],\n",
              "       [0.4095507 ],\n",
              "       [0.41007521],\n",
              "       [0.41011553],\n",
              "       [0.4094661 ],\n",
              "       [0.40943468],\n",
              "       [0.41007691],\n",
              "       [0.4100193 ],\n",
              "       [0.40940811],\n",
              "       [0.40988705],\n",
              "       [0.40967648],\n",
              "       [0.40987225],\n",
              "       [0.41009452],\n",
              "       [0.40924796],\n",
              "       [0.40954393],\n",
              "       [0.40966888],\n",
              "       [0.40967948],\n",
              "       [0.40968108],\n",
              "       [0.40922957],\n",
              "       [0.40931564],\n",
              "       [0.40975208],\n",
              "       [0.40973312],\n",
              "       [0.40969093],\n",
              "       [0.40953889],\n",
              "       [0.41004061],\n",
              "       [0.40968479],\n",
              "       [0.40934127],\n",
              "       [0.41004163],\n",
              "       [0.41008755],\n",
              "       [0.40999852],\n",
              "       [0.40925287],\n",
              "       [0.40929155],\n",
              "       [0.40955582],\n",
              "       [0.41010889],\n",
              "       [0.40991479],\n",
              "       [0.4100114 ],\n",
              "       [0.40924389],\n",
              "       [0.40994713],\n",
              "       [0.410093  ],\n",
              "       [0.40984563],\n",
              "       [0.40971378],\n",
              "       [0.40995795],\n",
              "       [0.40945626],\n",
              "       [0.40989   ],\n",
              "       [0.40973974],\n",
              "       [0.40976922],\n",
              "       [0.40975101],\n",
              "       [0.40968651],\n",
              "       [0.4094987 ],\n",
              "       [0.41002697],\n",
              "       [0.40935163],\n",
              "       [0.409684  ],\n",
              "       [0.40921412],\n",
              "       [0.40969933],\n",
              "       [0.40977532],\n",
              "       [0.40937543],\n",
              "       [0.40926965],\n",
              "       [0.40969417],\n",
              "       [0.40971105],\n",
              "       [0.40934744],\n",
              "       [0.40923909],\n",
              "       [0.40978546],\n",
              "       [0.41005442],\n",
              "       [0.409549  ],\n",
              "       [0.40966377],\n",
              "       [0.40944667],\n",
              "       [0.40977043],\n",
              "       [0.40983538],\n",
              "       [0.40977286],\n",
              "       [0.40969019],\n",
              "       [0.40941927],\n",
              "       [0.40928618],\n",
              "       [0.4098604 ],\n",
              "       [0.41007263],\n",
              "       [0.40923511],\n",
              "       [0.40947766],\n",
              "       [0.40942433],\n",
              "       [0.40989295],\n",
              "       [0.40967861],\n",
              "       [0.41008435],\n",
              "       [0.40973497],\n",
              "       [0.4093644 ],\n",
              "       [0.41011024],\n",
              "       [0.41003336],\n",
              "       [0.4098153 ],\n",
              "       [0.40938447],\n",
              "       [0.41003959],\n",
              "       [0.40971172],\n",
              "       [0.4094704 ],\n",
              "       [0.409761  ],\n",
              "       [0.40987966],\n",
              "       [0.40962076],\n",
              "       [0.40941801],\n",
              "       [0.40967624],\n",
              "       [0.41001481],\n",
              "       [0.40929065],\n",
              "       [0.40998133],\n",
              "       [0.40928709],\n",
              "       [0.40968877],\n",
              "       [0.40940326],\n",
              "       [0.40950024],\n",
              "       [0.40932825],\n",
              "       [0.40922567],\n",
              "       [0.41002371],\n",
              "       [0.40925951],\n",
              "       [0.40929426],\n",
              "       [0.41001706],\n",
              "       [0.40972281],\n",
              "       [0.41008516],\n",
              "       [0.4095696 ],\n",
              "       [0.40973404],\n",
              "       [0.40936333],\n",
              "       [0.40968681],\n",
              "       [0.40967751],\n",
              "       [0.41005057],\n",
              "       [0.41005537],\n",
              "       [0.40927827],\n",
              "       [0.40926033],\n",
              "       [0.40945488],\n",
              "       [0.40963892],\n",
              "       [0.40938906],\n",
              "       [0.41002151],\n",
              "       [0.41007606],\n",
              "       [0.40943206],\n",
              "       [0.40967173],\n",
              "       [0.40997368],\n",
              "       [0.40957655],\n",
              "       [0.4099724 ],\n",
              "       [0.40985891],\n",
              "       [0.40969332],\n",
              "       [0.40929246],\n",
              "       [0.41005727],\n",
              "       [0.41001594],\n",
              "       [0.40950804],\n",
              "       [0.40960248],\n",
              "       [0.40960925],\n",
              "       [0.40969056],\n",
              "       [0.40968301],\n",
              "       [0.40942561],\n",
              "       [0.40970845],\n",
              "       [0.40968506],\n",
              "       [0.40971814],\n",
              "       [0.41007859],\n",
              "       [0.40999126],\n",
              "       [0.41008991],\n",
              "       [0.4097378 ],\n",
              "       [0.40947328],\n",
              "       [0.40963165],\n",
              "       [0.41006375],\n",
              "       [0.4098224 ],\n",
              "       [0.40972611],\n",
              "       [0.41009527],\n",
              "       [0.40928353],\n",
              "       [0.4098841 ],\n",
              "       [0.40923036],\n",
              "       [0.40970598],\n",
              "       [0.40933122],\n",
              "       [0.40939257],\n",
              "       [0.40969833],\n",
              "       [0.40993468],\n",
              "       [0.40985743],\n",
              "       [0.40920728],\n",
              "       [0.4097987 ],\n",
              "       [0.40920205],\n",
              "       [0.40989882],\n",
              "       [0.40930342],\n",
              "       [0.40937098],\n",
              "       [0.40970142],\n",
              "       [0.40938104],\n",
              "       [0.4095473 ],\n",
              "       [0.40972122],\n",
              "       [0.4095524 ],\n",
              "       [0.40924878],\n",
              "       [0.4092327 ],\n",
              "       [0.40930249],\n",
              "       [0.40966613],\n",
              "       [0.40992481],\n",
              "       [0.40969131],\n",
              "       [0.40933824],\n",
              "       [0.40985005],\n",
              "       [0.40938793],\n",
              "       [0.40933023],\n",
              "       [0.40977781],\n",
              "       [0.40965295],\n",
              "       [0.4093788 ],\n",
              "       [0.4096375 ],\n",
              "       [0.40953722],\n",
              "       [0.40935058],\n",
              "       [0.40964303],\n",
              "       [0.40994301],\n",
              "       [0.40932432],\n",
              "       [0.40946896],\n",
              "       [0.40973877],\n",
              "       [0.41004664],\n",
              "       [0.40938561],\n",
              "       [0.4092809 ],\n",
              "       [0.40975871],\n",
              "       [0.40930155],\n",
              "       [0.40924471],\n",
              "       [0.40968051],\n",
              "       [0.40920055],\n",
              "       [0.40922643],\n",
              "       [0.4092705 ],\n",
              "       [0.4099788 ],\n",
              "       [0.40975759],\n",
              "       [0.41003019],\n",
              "       [0.40997753],\n",
              "       [0.40968843],\n",
              "       [0.41008913],\n",
              "       [0.40990902],\n",
              "       [0.40971038],\n",
              "       [0.40981812],\n",
              "       [0.40943731],\n",
              "       [0.40967357],\n",
              "       [0.40928531],\n",
              "       [0.40978161],\n",
              "       [0.4093961 ],\n",
              "       [0.40978675],\n",
              "       [0.40972955],\n",
              "       [0.40944397],\n",
              "       [0.41005632],\n",
              "       [0.40999491],\n",
              "       [0.40946185],\n",
              "       [0.40963014],\n",
              "       [0.40974473],\n",
              "       [0.40944532],\n",
              "       [0.40988262],\n",
              "       [0.40985299],\n",
              "       [0.40956269],\n",
              "       [0.40920279],\n",
              "       [0.40918806],\n",
              "       [0.40981671],\n",
              "       [0.40941303],\n",
              "       [0.40949716],\n",
              "       [0.40948356],\n",
              "       [0.4095208 ],\n",
              "       [0.40922488],\n",
              "       [0.40968278],\n",
              "       [0.40930995],\n",
              "       [0.40927915],\n",
              "       [0.40971739],\n",
              "       [0.40937429],\n",
              "       [0.40935797],\n",
              "       [0.40968168],\n",
              "       [0.40925785],\n",
              "       [0.40983393],\n",
              "       [0.40995257],\n",
              "       [0.40939966],\n",
              "       [0.4100735 ],\n",
              "       [0.40979467],\n",
              "       [0.4096881 ],\n",
              "       [0.40964942],\n",
              "       [0.40974575],\n",
              "       [0.40930435],\n",
              "       [0.40961258],\n",
              "       [0.40968777],\n",
              "       [0.4097124 ],\n",
              "       [0.40938677],\n",
              "       [0.40967506],\n",
              "       [0.41000561],\n",
              "       [0.41010261],\n",
              "       [0.41005346],\n",
              "       [0.40928977],\n",
              "       [0.40974679],\n",
              "       [0.40927307],\n",
              "       [0.4094941 ],\n",
              "       [0.40931467],\n",
              "       [0.40927135],\n",
              "       [0.40950647],\n",
              "       [0.40953224],\n",
              "       [0.4093362 ],\n",
              "       [0.41007776],\n",
              "       [0.40986484],\n",
              "       [0.40967694],\n",
              "       [0.41008355],\n",
              "       [0.40942306],\n",
              "       [0.40970908],\n",
              "       [0.40930713],\n",
              "       [0.40958176],\n",
              "       [0.41009825],\n",
              "       [0.40942818],\n",
              "       [0.4099711 ],\n",
              "       [0.40936987],\n",
              "       [0.40994577],\n",
              "       [0.40936659],\n",
              "       [0.40927395],\n",
              "       [0.41009603],\n",
              "       [0.40970421],\n",
              "       [0.4098267 ],\n",
              "       [0.4099485 ],\n",
              "       [0.40990466],\n",
              "       [0.40980969],\n",
              "       [0.40968147],\n",
              "       [0.40950179],\n",
              "       [0.4096518 ],\n",
              "       [0.40967314],\n",
              "       [0.40992765],\n",
              "       [0.40996589],\n",
              "       [0.4100525 ],\n",
              "       [0.40967903],\n",
              "       [0.40919024],\n",
              "       [0.40947184],\n",
              "       [0.41002261],\n",
              "       [0.41004465],\n",
              "       [0.40933521],\n",
              "       [0.40928796],\n",
              "       [0.40961914],\n",
              "       [0.40965728],\n",
              "       [0.40923115],\n",
              "       [0.40964031],\n",
              "       [0.40957481],\n",
              "       [0.40940689],\n",
              "       [0.40982958],\n",
              "       [0.40968233],\n",
              "       [0.41010117],\n",
              "       [0.40927739],\n",
              "       [0.40925042],\n",
              "       [0.40966537],\n",
              "       [0.40925536],\n",
              "       [0.40999971],\n",
              "       [0.4098083 ],\n",
              "       [0.40992906],\n",
              "       [0.40981109],\n",
              "       [0.40967822],\n",
              "       [0.410061  ],\n",
              "       [0.41003545],\n",
              "       [0.41011617],\n",
              "       [0.4095939 ],\n",
              "       [0.40930619],\n",
              "       [0.4093332 ],\n",
              "       [0.40969504],\n",
              "       [0.40967809],\n",
              "       [0.40944802],\n",
              "       [0.40977657],\n",
              "       [0.40935372],\n",
              "       [0.40952567],\n",
              "       [0.40966293],\n",
              "       [0.40934025],\n",
              "       [0.40969984],\n",
              "       [0.40929791],\n",
              "       [0.40987522],\n",
              "       [0.40945075],\n",
              "       [0.409257  ],\n",
              "       [0.40919982],\n",
              "       [0.40932531],\n",
              "       [0.40919097],\n",
              "       [0.40959562],\n",
              "       [0.40918733],\n",
              "       [0.41008596],\n",
              "       [0.41003753],\n",
              "       [0.40957134],\n",
              "       [0.40943996],\n",
              "       [0.40986632],\n",
              "       [0.41010403],\n",
              "       [0.40983248],\n",
              "       [0.4096921 ],\n",
              "       [0.41010683],\n",
              "       [0.40984416],\n",
              "       [0.4097417 ],\n",
              "       [0.40962394],\n",
              "       [0.40922101],\n",
              "       [0.40972695],\n",
              "       [0.40992624],\n",
              "       [0.40995392],\n",
              "       [0.41008676],\n",
              "       [0.40924228],\n",
              "       [0.40986187],\n",
              "       [0.40983103],\n",
              "       [0.4099191 ],\n",
              "       [0.40972201],\n",
              "       [0.40971665],\n",
              "       [0.40980415],\n",
              "       [0.4099937 ],\n",
              "       [0.40978034],\n",
              "       [0.40936117],\n",
              "       [0.40998508],\n",
              "       [0.40954056],\n",
              "       [0.40998006],\n",
              "       [0.40927479],\n",
              "       [0.40926287],\n",
              "       [0.40964168],\n",
              "       [0.40964819],\n",
              "       [0.40942052],\n",
              "       [0.40994164],\n",
              "       [0.40930902],\n",
              "       [0.41006735],\n",
              "       [0.4101082 ],\n",
              "       [0.41009751],\n",
              "       [0.40980006],\n",
              "       [0.40974072],\n",
              "       [0.4096917 ],\n",
              "       [0.40959217],\n",
              "       [0.40957828],\n",
              "       [0.40980691],\n",
              "       [0.41006192],\n",
              "       [0.40942179],\n",
              "       [0.40995928],\n",
              "       [0.40967067],\n",
              "       [0.40925205],\n",
              "       [0.41011291],\n",
              "       [0.40998633],\n",
              "       [0.40993886],\n",
              "       [0.41000209],\n",
              "       [0.40967767],\n",
              "       [0.41009376],\n",
              "       [0.40921335],\n",
              "       [0.41003231],\n",
              "       [0.40994986],\n",
              "       [0.40963461],\n",
              "       [0.4092431 ],\n",
              "       [0.40922412],\n",
              "       [0.40970196],\n",
              "       [0.41004959],\n",
              "       [0.40957308],\n",
              "       [0.4096701 ],\n",
              "       [0.40931948],\n",
              "       [0.40942689],\n",
              "       [0.40946327],\n",
              "       [0.40934435],\n",
              "       [0.4091888 ],\n",
              "       [0.41008834],\n",
              "       [0.40951919]])"
            ]
          },
          "metadata": {
            "tags": []
          },
          "execution_count": 407
        }
      ]
    },
    {
      "cell_type": "markdown",
      "metadata": {
        "id": "IZJut50sAioH",
        "colab_type": "text"
      },
      "source": [
        "### Local gradient evolution"
      ]
    },
    {
      "cell_type": "code",
      "metadata": {
        "id": "mQZZN6KxAioI",
        "colab_type": "code",
        "colab": {
          "base_uri": "https://localhost:8080/",
          "height": 281
        },
        "outputId": "5d7db3ef-8f11-4cde-f04e-9e6d96da0820"
      },
      "source": [
        "plt.plot(L[0].gradient_history)\n",
        "plt.legend(['weights', 'bias'])\n",
        "plt.title('Entry layer')\n",
        "plt.show()"
      ],
      "execution_count": 322,
      "outputs": [
        {
          "output_type": "display_data",
          "data": {
            "image/png": "[encoded data removed]",
            "text/plain": [
              "<Figure size 432x288 with 1 Axes>"
            ]
          },
          "metadata": {
            "tags": [],
            "needs_background": "light"
          }
        }
      ]
    },
    {
      "cell_type": "code",
      "metadata": {
        "id": "wAG0DRbaAioM",
        "colab_type": "code",
        "colab": {
          "base_uri": "https://localhost:8080/",
          "height": 281
        },
        "outputId": "f81161de-c352-462d-c9a4-7c5916c41efc"
      },
      "source": [
        "plt.plot(L[2].gradient_history)\n",
        "plt.legend(['weights', 'bias'])\n",
        "plt.title('First layer')\n",
        "plt.show()"
      ],
      "execution_count": 323,
      "outputs": [
        {
          "output_type": "display_data",
          "data": {
            "image/png": "[encoded data removed]",
            "text/plain": [
              "<Figure size 432x288 with 1 Axes>"
            ]
          },
          "metadata": {
            "tags": [],
            "needs_background": "light"
          }
        }
      ]
    },
    {
      "cell_type": "code",
      "metadata": {
        "id": "C35hSX6eAioP",
        "colab_type": "code",
        "colab": {
          "base_uri": "https://localhost:8080/",
          "height": 281
        },
        "outputId": "ba3c85c6-d97f-4635-8943-33ea93896af3"
      },
      "source": [
        "plt.plot(L[4].gradient_history)\n",
        "plt.legend(['weights', 'bias'])\n",
        "plt.title('Second layer')\n",
        "plt.show()"
      ],
      "execution_count": 60,
      "outputs": [
        {
          "output_type": "display_data",
          "data": {
            "image/png": "[encoded data removed]",
            "text/plain": [
              "<Figure size 432x288 with 1 Axes>"
            ]
          },
          "metadata": {
            "tags": [],
            "needs_background": "light"
          }
        }
      ]
    },
    {
      "cell_type": "code",
      "metadata": {
        "id": "1GDLAqgNAioU",
        "colab_type": "code",
        "colab": {
          "base_uri": "https://localhost:8080/",
          "height": 281
        },
        "outputId": "4c0cc496-a824-412d-c972-a0f4270846e9"
      },
      "source": [
        "plt.plot(L[6].gradient_history)\n",
        "plt.legend(['weights', 'bias'])\n",
        "plt.title('Output layer')\n",
        "plt.show()"
      ],
      "execution_count": 61,
      "outputs": [
        {
          "output_type": "display_data",
          "data": {
            "image/png": "[encoded data removed]",
            "text/plain": [
              "<Figure size 432x288 with 1 Axes>"
            ]
          },
          "metadata": {
            "tags": [],
            "needs_background": "light"
          }
        }
      ]
    },
    {
      "cell_type": "markdown",
      "metadata": {
        "id": "IQqvQaqLAioZ",
        "colab_type": "text"
      },
      "source": [
        "### Predictions"
      ]
    },
    {
      "cell_type": "code",
      "metadata": {
        "id": "Fqk9hn8NAioa",
        "colab_type": "code",
        "colab": {
          "base_uri": "https://localhost:8080/",
          "height": 281
        },
        "outputId": "cca083fb-a65e-45a6-ead3-2dd725aae1f1"
      },
      "source": [
        "plt.plot(y_train, label = 'Real')\n",
        "plt.plot(model.evaluate(X_train), label = 'Prediction')\n",
        "plt.title('Output for the training data')\n",
        "plt.legend()\n",
        "plt.show()"
      ],
      "execution_count": 62,
      "outputs": [
        {
          "output_type": "display_data",
          "data": {
            "image/png": "[encoded data removed]",
            "text/plain": [
              "<Figure size 432x288 with 1 Axes>"
            ]
          },
          "metadata": {
            "tags": [],
            "needs_background": "light"
          }
        }
      ]
    },
    {
      "cell_type": "code",
      "metadata": {
        "id": "WuZgPfFIAioe",
        "colab_type": "code",
        "colab": {
          "base_uri": "https://localhost:8080/",
          "height": 281
        },
        "outputId": "d7fb9665-fc3c-4dbb-9781-7e40790916b5"
      },
      "source": [
        "plt.plot(y_val, label = 'Real')\n",
        "plt.plot(model.evaluate(X_val), label = 'Prediction')\n",
        "plt.title('Output for the validation data')\n",
        "plt.legend()\n",
        "plt.show()"
      ],
      "execution_count": 63,
      "outputs": [
        {
          "output_type": "display_data",
          "data": {
            "image/png": "[encoded data removed]",
            "text/plain": [
              "<Figure size 432x288 with 1 Axes>"
            ]
          },
          "metadata": {
            "tags": [],
            "needs_background": "light"
          }
        }
      ]
    },
    {
      "cell_type": "code",
      "metadata": {
        "id": "gHLCmCHnAiok",
        "colab_type": "code",
        "colab": {
          "base_uri": "https://localhost:8080/",
          "height": 281
        },
        "outputId": "4377f4ab-11bc-46cc-82ab-6ce46ab54352"
      },
      "source": [
        "plt.plot(y_test, label = 'Real')\n",
        "plt.plot(model.evaluate(X_test), label = 'Prediction')\n",
        "plt.title('Output for the test data')\n",
        "plt.legend()\n",
        "plt.show()"
      ],
      "execution_count": 64,
      "outputs": [
        {
          "output_type": "display_data",
          "data": {
            "image/png": "[encoded data removed]",
            "text/plain": [
              "<Figure size 432x288 with 1 Axes>"
            ]
          },
          "metadata": {
            "tags": [],
            "needs_background": "light"
          }
        }
      ]
    },
    {
      "cell_type": "markdown",
      "metadata": {
        "id": "_LWp6-NFAiop",
        "colab_type": "text"
      },
      "source": [
        "## Cross validation"
      ]
    },
    {
      "cell_type": "code",
      "metadata": {
        "id": "TRii-RT5Aioq",
        "colab_type": "code",
        "colab": {}
      },
      "source": [
        "scores = []\n",
        "cv = KFold(n_splits=10, shuffle = True, random_state = 42)\n",
        "for train_index, test_index in cv.split(X_val):\n",
        "    loss = RegressionLoss()\n",
        "    model = Model(L,loss)\n",
        "    X_train_v, X_test_v, y_train_v, y_test_v = X[train_index], X[test_index], y[train_index], y[test_index]\n",
        "    model.fit(X_train_v, y_train_v.reshape((len(y_train_v),1)), lr1, 50, len(y_train_v), 1e-2, print_loss = False)\n",
        "    scores.append(model.score(X_test_v, y_test_v.reshape((len(y_test_v),1))))"
      ],
      "execution_count": 0,
      "outputs": []
    },
    {
      "cell_type": "code",
      "metadata": {
        "id": "p7MycEoPAiot",
        "colab_type": "code",
        "colab": {},
        "outputId": "06ffcf77-51d3-4116-bab1-15be10a53238"
      },
      "source": [
        "print('Cross validation score:', np.mean(scores))"
      ],
      "execution_count": 0,
      "outputs": [
        {
          "output_type": "stream",
          "text": [
            "Cross validation score: 0.1999999941961233\n"
          ],
          "name": "stdout"
        }
      ]
    },
    {
      "cell_type": "markdown",
      "metadata": {
        "id": "7w1V2VIbAioy",
        "colab_type": "text"
      },
      "source": [
        "## Second learning rate"
      ]
    },
    {
      "cell_type": "code",
      "metadata": {
        "id": "Ov096cXjAioz",
        "colab_type": "code",
        "colab": {},
        "outputId": "d2d5bd24-15d2-4af5-dc0b-61401f60685b"
      },
      "source": [
        "model.fit(X_train, y_train.reshape((M,1)), lr2, 50, M, 1e-2)"
      ],
      "execution_count": 0,
      "outputs": [
        {
          "output_type": "stream",
          "text": [
            "epoch 0: loss 54.57685166014407\n",
            "epoch 1: loss 2.0\n",
            "epoch 2: loss 2.0\n",
            "epoch 3: loss 2.0\n",
            "epoch 4: loss 2.0\n",
            "epoch 5: loss 2.0\n",
            "epoch 6: loss 2.0\n",
            "epoch 7: loss 2.0\n",
            "epoch 8: loss 2.0\n",
            "epoch 9: loss 2.0\n",
            "epoch 10: loss 2.0\n",
            "epoch 11: loss 2.0\n",
            "epoch 12: loss 2.0\n",
            "epoch 13: loss 2.0\n",
            "epoch 14: loss 2.0\n",
            "epoch 15: loss 2.0\n",
            "epoch 16: loss 2.0\n",
            "epoch 17: loss 2.0\n",
            "epoch 18: loss 2.0\n",
            "epoch 19: loss 2.0\n",
            "epoch 20: loss 2.0\n",
            "epoch 21: loss 2.0\n",
            "epoch 22: loss 2.0\n",
            "epoch 23: loss 2.0\n",
            "epoch 24: loss 2.0\n",
            "epoch 25: loss 2.0\n",
            "epoch 26: loss 2.0\n",
            "epoch 27: loss 2.0\n",
            "epoch 28: loss 2.0\n",
            "epoch 29: loss 2.0\n",
            "epoch 30: loss 2.0\n",
            "epoch 31: loss 2.0\n",
            "epoch 32: loss 2.0\n",
            "epoch 33: loss 2.0\n",
            "epoch 34: loss 2.0\n",
            "epoch 35: loss 2.0\n",
            "epoch 36: loss 2.0\n",
            "epoch 37: loss 2.0\n",
            "epoch 38: loss 2.0\n",
            "epoch 39: loss 2.0\n",
            "epoch 40: loss 2.0\n",
            "epoch 41: loss 2.0\n",
            "epoch 42: loss 2.0\n",
            "epoch 43: loss 2.0\n",
            "epoch 44: loss 2.0\n",
            "epoch 45: loss 2.0\n",
            "epoch 46: loss 2.0\n",
            "epoch 47: loss 2.0\n",
            "epoch 48: loss 2.0\n",
            "epoch 49: loss 2.0\n",
            "epoch 50: loss 2.0\n"
          ],
          "name": "stdout"
        }
      ]
    },
    {
      "cell_type": "markdown",
      "metadata": {
        "id": "nC9tYgYuAio3",
        "colab_type": "text"
      },
      "source": [
        "### Energy of the instant error"
      ]
    },
    {
      "cell_type": "code",
      "metadata": {
        "id": "p_KYxgl6Aio3",
        "colab_type": "code",
        "colab": {},
        "outputId": "55f58312-7e43-486f-a868-ac24561449b3"
      },
      "source": [
        "plt.plot(loss.history)\n",
        "plt.show()"
      ],
      "execution_count": 0,
      "outputs": [
        {
          "output_type": "display_data",
          "data": {
            "image/png": "[encoded data removed]",
            "text/plain": [
              "<Figure size 432x288 with 1 Axes>"
            ]
          },
          "metadata": {
            "tags": [],
            "needs_background": "light"
          }
        }
      ]
    },
    {
      "cell_type": "markdown",
      "metadata": {
        "id": "PtlmnM0hAio7",
        "colab_type": "text"
      },
      "source": [
        "### Gradient history"
      ]
    },
    {
      "cell_type": "code",
      "metadata": {
        "id": "StYuSDbUAio7",
        "colab_type": "code",
        "colab": {},
        "outputId": "2f153694-6158-49dc-e2d7-9b3ef08282a8"
      },
      "source": [
        "plt.plot(L[0].gradient_history)\n",
        "plt.legend(['weights', 'bias'])\n",
        "plt.title('Entry layer')\n",
        "plt.show()"
      ],
      "execution_count": 0,
      "outputs": [
        {
          "output_type": "display_data",
          "data": {
            "image/png": "[encoded data removed]",
            "text/plain": [
              "<Figure size 432x288 with 1 Axes>"
            ]
          },
          "metadata": {
            "tags": [],
            "needs_background": "light"
          }
        }
      ]
    },
    {
      "cell_type": "code",
      "metadata": {
        "id": "1lcgL2bJAio_",
        "colab_type": "code",
        "colab": {},
        "outputId": "178fc9db-a16d-4e36-a825-6a99b4b5e69f"
      },
      "source": [
        "plt.plot(L[2].gradient_history)\n",
        "plt.legend(['weights', 'bias'])\n",
        "plt.title('First layer')\n",
        "plt.show()"
      ],
      "execution_count": 0,
      "outputs": [
        {
          "output_type": "display_data",
          "data": {
            "image/png": "[encoded data removed]",
            "text/plain": [
              "<Figure size 432x288 with 1 Axes>"
            ]
          },
          "metadata": {
            "tags": [],
            "needs_background": "light"
          }
        }
      ]
    },
    {
      "cell_type": "code",
      "metadata": {
        "id": "Avezz2IVAipC",
        "colab_type": "code",
        "colab": {},
        "outputId": "d0f0d312-d810-4668-e677-a7b3d6fc6a12"
      },
      "source": [
        "plt.plot(L[4].gradient_history)\n",
        "plt.legend(['weights', 'bias'])\n",
        "plt.title('Second layer')\n",
        "plt.show()"
      ],
      "execution_count": 0,
      "outputs": [
        {
          "output_type": "display_data",
          "data": {
            "image/png": "[encoded data removed]",
            "text/plain": [
              "<Figure size 432x288 with 1 Axes>"
            ]
          },
          "metadata": {
            "tags": [],
            "needs_background": "light"
          }
        }
      ]
    },
    {
      "cell_type": "code",
      "metadata": {
        "id": "Go1dx_VVAipH",
        "colab_type": "code",
        "colab": {},
        "outputId": "0ddf78de-57dc-43cf-9baf-9eb6177f7838"
      },
      "source": [
        "plt.plot(L[6].gradient_history)\n",
        "plt.legend(['weights', 'bias'])\n",
        "plt.title('Output layer')\n",
        "plt.show()"
      ],
      "execution_count": 0,
      "outputs": [
        {
          "output_type": "display_data",
          "data": {
            "image/png": "[encoded data removed]",
            "text/plain": [
              "<Figure size 432x288 with 1 Axes>"
            ]
          },
          "metadata": {
            "tags": [],
            "needs_background": "light"
          }
        }
      ]
    },
    {
      "cell_type": "code",
      "metadata": {
        "id": "FPGEwldSAipK",
        "colab_type": "code",
        "colab": {},
        "outputId": "3f3ee374-d50d-4c90-a582-d113bd8a1ed9"
      },
      "source": [
        "plt.plot(y_train, label = 'Real')\n",
        "plt.plot(model.evaluate(X_train), label = 'Prediction')\n",
        "plt.title('Output for the training data')\n",
        "plt.legend()\n",
        "plt.show()"
      ],
      "execution_count": 0,
      "outputs": [
        {
          "output_type": "display_data",
          "data": {
            "image/png": "[encoded data removed]",
            "text/plain": [
              "<Figure size 432x288 with 1 Axes>"
            ]
          },
          "metadata": {
            "tags": [],
            "needs_background": "light"
          }
        }
      ]
    },
    {
      "cell_type": "code",
      "metadata": {
        "id": "TjadMakJAipQ",
        "colab_type": "code",
        "colab": {},
        "outputId": "496e168d-8d82-4291-c7b1-3e825217f701"
      },
      "source": [
        "plt.plot(y_val, label = 'Real')\n",
        "plt.plot(model.evaluate(X_val), label = 'Prediction')\n",
        "plt.title('Output for the validation data')\n",
        "plt.legend()\n",
        "plt.show()"
      ],
      "execution_count": 0,
      "outputs": [
        {
          "output_type": "display_data",
          "data": {
            "image/png": "[encoded data removed]",
            "text/plain": [
              "<Figure size 432x288 with 1 Axes>"
            ]
          },
          "metadata": {
            "tags": [],
            "needs_background": "light"
          }
        }
      ]
    },
    {
      "cell_type": "code",
      "metadata": {
        "id": "p7RPYYawAipT",
        "colab_type": "code",
        "colab": {},
        "outputId": "b98a4ebe-d879-4dbd-829b-d535accd1fdc"
      },
      "source": [
        "plt.plot(y_test, label = 'Real')\n",
        "plt.plot(model.evaluate(X_test), label = 'Prediction')\n",
        "plt.title('Output for the test data')\n",
        "plt.legend()\n",
        "plt.show()"
      ],
      "execution_count": 0,
      "outputs": [
        {
          "output_type": "display_data",
          "data": {
            "image/png": "[encoded data removed]",
            "text/plain": [
              "<Figure size 432x288 with 1 Axes>"
            ]
          },
          "metadata": {
            "tags": [],
            "needs_background": "light"
          }
        }
      ]
    },
    {
      "cell_type": "markdown",
      "metadata": {
        "id": "1KDc9kGFAipb",
        "colab_type": "text"
      },
      "source": [
        "### Cross validation"
      ]
    },
    {
      "cell_type": "code",
      "metadata": {
        "id": "70xRXHoNAipd",
        "colab_type": "code",
        "colab": {}
      },
      "source": [
        "scores = []\n",
        "cv = KFold(n_splits=10, shuffle = True, random_state = 42)\n",
        "for train_index, test_index in cv.split(X_val):\n",
        "    loss = RegressionLoss()\n",
        "    model = Model(L,loss)\n",
        "    X_train_v, X_test_v, y_train_v, y_test_v = X[train_index], X[test_index], y[train_index], y[test_index]\n",
        "    model.fit(X_train_v, y_train_v.reshape((len(y_train_v),1)), lr2, 50, len(y_train_v), 1e-2, print_loss = False)\n",
        "    scores.append(model.score(X_test_v, y_test_v.reshape((len(y_test_v),1))))"
      ],
      "execution_count": 0,
      "outputs": []
    },
    {
      "cell_type": "code",
      "metadata": {
        "id": "67aG9P1UAiph",
        "colab_type": "code",
        "colab": {},
        "outputId": "aa3b7fe7-87cf-4204-9518-0bcef859460f"
      },
      "source": [
        "print('Cross validation score:', np.mean(scores))"
      ],
      "execution_count": 0,
      "outputs": [
        {
          "output_type": "stream",
          "text": [
            "Cross validation score: 0.2\n"
          ],
          "name": "stdout"
        }
      ]
    },
    {
      "cell_type": "code",
      "metadata": {
        "id": "vSWP2E02Aipl",
        "colab_type": "code",
        "colab": {}
      },
      "source": [
        ""
      ],
      "execution_count": 0,
      "outputs": []
    }
  ]
}